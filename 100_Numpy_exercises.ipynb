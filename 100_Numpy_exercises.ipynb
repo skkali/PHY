{
 "cells": [
  {
   "cell_type": "markdown",
   "id": "ad1d1330",
   "metadata": {},
   "source": [
    "# 100 numpy exercises\n",
    "\n",
    "This is a collection of exercises that have been collected in the numpy mailing list, on stack overflow\n",
    "and in the numpy documentation. The goal of this collection is to offer a quick reference for both old\n",
    "and new users but also to provide a set of exercises for those who teach.\n",
    "\n",
    "\n",
    "If you find an error or think you've a better way to solve some of them, feel\n",
    "free to open an issue at <https://github.com/rougier/numpy-100>."
   ]
  },
  {
   "cell_type": "markdown",
   "id": "1d620162",
   "metadata": {},
   "source": [
    "File automatically generated. See the documentation to update questions/answers/hints programmatically."
   ]
  },
  {
   "cell_type": "markdown",
   "id": "8574d627",
   "metadata": {},
   "source": [
    "Run the `initialize.py` module, then for each question you can query the\n",
    "answer or an hint with `hint(n)` or `answer(n)` for `n` question number. %run initialise.py\n"
   ]
  },
  {
   "cell_type": "code",
   "execution_count": 2,
   "id": "c6fe8a29",
   "metadata": {},
   "outputs": [],
   "source": [
    "NICKNAME = \"skkali\""
   ]
  },
  {
   "cell_type": "markdown",
   "id": "954c5d8f",
   "metadata": {},
   "source": [
    "#### 1. Import the numpy package under the name `np` (★☆☆)"
   ]
  },
  {
   "cell_type": "code",
   "execution_count": 3,
   "id": "4006c08e",
   "metadata": {},
   "outputs": [],
   "source": [
    "import numpy as np"
   ]
  },
  {
   "cell_type": "markdown",
   "id": "88e34f09",
   "metadata": {},
   "source": [
    "#### 2. Print the numpy version and the configuration (★☆☆)"
   ]
  },
  {
   "cell_type": "code",
   "execution_count": 4,
   "id": "b1122a25",
   "metadata": {},
   "outputs": [
    {
     "name": "stdout",
     "output_type": "stream",
     "text": [
      "1.21.5\n",
      "blas_mkl_info:\n",
      "    libraries = ['mkl_rt']\n",
      "    library_dirs = ['C:/Users/79833/anaconda3\\\\Library\\\\lib']\n",
      "    define_macros = [('SCIPY_MKL_H', None), ('HAVE_CBLAS', None)]\n",
      "    include_dirs = ['C:/Users/79833/anaconda3\\\\Library\\\\include']\n",
      "blas_opt_info:\n",
      "    libraries = ['mkl_rt']\n",
      "    library_dirs = ['C:/Users/79833/anaconda3\\\\Library\\\\lib']\n",
      "    define_macros = [('SCIPY_MKL_H', None), ('HAVE_CBLAS', None)]\n",
      "    include_dirs = ['C:/Users/79833/anaconda3\\\\Library\\\\include']\n",
      "lapack_mkl_info:\n",
      "    libraries = ['mkl_rt']\n",
      "    library_dirs = ['C:/Users/79833/anaconda3\\\\Library\\\\lib']\n",
      "    define_macros = [('SCIPY_MKL_H', None), ('HAVE_CBLAS', None)]\n",
      "    include_dirs = ['C:/Users/79833/anaconda3\\\\Library\\\\include']\n",
      "lapack_opt_info:\n",
      "    libraries = ['mkl_rt']\n",
      "    library_dirs = ['C:/Users/79833/anaconda3\\\\Library\\\\lib']\n",
      "    define_macros = [('SCIPY_MKL_H', None), ('HAVE_CBLAS', None)]\n",
      "    include_dirs = ['C:/Users/79833/anaconda3\\\\Library\\\\include']\n",
      "Supported SIMD extensions in this NumPy install:\n",
      "    baseline = SSE,SSE2,SSE3\n",
      "    found = SSSE3,SSE41,POPCNT,SSE42,AVX,F16C,FMA3,AVX2\n",
      "    not found = AVX512F,AVX512CD,AVX512_SKX,AVX512_CLX,AVX512_CNL\n"
     ]
    }
   ],
   "source": [
    "print(np.__version__)\n",
    "np.show_config()"
   ]
  },
  {
   "cell_type": "markdown",
   "id": "37c21848",
   "metadata": {},
   "source": [
    "#### 3. Create a null vector of size 10 (★☆☆)"
   ]
  },
  {
   "cell_type": "code",
   "execution_count": 5,
   "id": "e090a462",
   "metadata": {},
   "outputs": [
    {
     "name": "stdout",
     "output_type": "stream",
     "text": [
      "[0. 0. 0. 0. 0. 0. 0. 0. 0. 0.]\n"
     ]
    }
   ],
   "source": [
    "print(np.zeros(10)) #создает массив заполненный нулями"
   ]
  },
  {
   "cell_type": "markdown",
   "id": "7c0e6add",
   "metadata": {},
   "source": [
    "#### 4. How to find the memory size of any array (★☆☆)"
   ]
  },
  {
   "cell_type": "code",
   "execution_count": 6,
   "id": "8c96715d",
   "metadata": {},
   "outputs": [
    {
     "name": "stdout",
     "output_type": "stream",
     "text": [
      "10\n",
      "40\n"
     ]
    }
   ],
   "source": [
    "print(np.size(np.arange(10))) #число элементов в массиве\n",
    "print(np.arange(10).size * np.arange(10).itemsize) #Размер памяти занимаемый вектором в байтах"
   ]
  },
  {
   "cell_type": "markdown",
   "id": "4cf547db",
   "metadata": {},
   "source": [
    "#### 5. How to get the documentation of the numpy add function from the command line? (★☆☆)"
   ]
  },
  {
   "cell_type": "code",
   "execution_count": 7,
   "id": "2a24a1e9",
   "metadata": {},
   "outputs": [
    {
     "name": "stdout",
     "output_type": "stream",
     "text": [
      "add(x1, x2, /, out=None, *, where=True, casting='same_kind', order='K', dtype=None, subok=True[, signature, extobj])\n",
      "\n",
      "Add arguments element-wise.\n",
      "\n",
      "Parameters\n",
      "----------\n",
      "x1, x2 : array_like\n",
      "    The arrays to be added.\n",
      "    If ``x1.shape != x2.shape``, they must be broadcastable to a common\n",
      "    shape (which becomes the shape of the output).\n",
      "out : ndarray, None, or tuple of ndarray and None, optional\n",
      "    A location into which the result is stored. If provided, it must have\n",
      "    a shape that the inputs broadcast to. If not provided or None,\n",
      "    a freshly-allocated array is returned. A tuple (possible only as a\n",
      "    keyword argument) must have length equal to the number of outputs.\n",
      "where : array_like, optional\n",
      "    This condition is broadcast over the input. At locations where the\n",
      "    condition is True, the `out` array will be set to the ufunc result.\n",
      "    Elsewhere, the `out` array will retain its original value.\n",
      "    Note that if an uninitialized `out` array is created via the default\n",
      "    ``out=None``, locations within it where the condition is False will\n",
      "    remain uninitialized.\n",
      "**kwargs\n",
      "    For other keyword-only arguments, see the\n",
      "    :ref:`ufunc docs <ufuncs.kwargs>`.\n",
      "\n",
      "Returns\n",
      "-------\n",
      "add : ndarray or scalar\n",
      "    The sum of `x1` and `x2`, element-wise.\n",
      "    This is a scalar if both `x1` and `x2` are scalars.\n",
      "\n",
      "Notes\n",
      "-----\n",
      "Equivalent to `x1` + `x2` in terms of array broadcasting.\n",
      "\n",
      "Examples\n",
      "--------\n",
      ">>> np.add(1.0, 4.0)\n",
      "5.0\n",
      ">>> x1 = np.arange(9.0).reshape((3, 3))\n",
      ">>> x2 = np.arange(3.0)\n",
      ">>> np.add(x1, x2)\n",
      "array([[  0.,   2.,   4.],\n",
      "       [  3.,   5.,   7.],\n",
      "       [  6.,   8.,  10.]])\n",
      "\n",
      "The ``+`` operator can be used as a shorthand for ``np.add`` on ndarrays.\n",
      "\n",
      ">>> x1 = np.arange(9.0).reshape((3, 3))\n",
      ">>> x2 = np.arange(3.0)\n",
      ">>> x1 + x2\n",
      "array([[ 0.,  2.,  4.],\n",
      "       [ 3.,  5.,  7.],\n",
      "       [ 6.,  8., 10.]])\n"
     ]
    }
   ],
   "source": [
    "np.info(np.add)"
   ]
  },
  {
   "cell_type": "markdown",
   "id": "bf6679c3",
   "metadata": {},
   "source": [
    "#### 6. Create a null vector of size 10 but the fifth value which is 1 (★☆☆)"
   ]
  },
  {
   "cell_type": "code",
   "execution_count": 8,
   "id": "f4cd59b6",
   "metadata": {},
   "outputs": [
    {
     "name": "stdout",
     "output_type": "stream",
     "text": [
      "[0. 0. 0. 0. 1. 0. 0. 0. 0. 0.]\n"
     ]
    }
   ],
   "source": [
    "a = np.zeros(10) #создаем массив заполненный нулями\n",
    "a[4] = 1 #меняем пятый элемент на единицу\n",
    "print(a)"
   ]
  },
  {
   "cell_type": "markdown",
   "id": "022451fb",
   "metadata": {},
   "source": [
    "#### 7. Create a vector with values ranging from 10 to 49 (★☆☆)"
   ]
  },
  {
   "cell_type": "code",
   "execution_count": 9,
   "id": "22c2f0a8",
   "metadata": {},
   "outputs": [
    {
     "name": "stdout",
     "output_type": "stream",
     "text": [
      "[10 11 12 13 14 15 16 17 18 19 20 21 22 23 24 25 26 27 28 29 30 31 32 33\n",
      " 34 35 36 37 38 39 40 41 42 43 44 45 46 47 48 49]\n"
     ]
    }
   ],
   "source": [
    "print(np.arange(10,50))"
   ]
  },
  {
   "cell_type": "markdown",
   "id": "aca8f6ee",
   "metadata": {},
   "source": [
    "#### 8. Reverse a vector (first element becomes last) (★☆☆)"
   ]
  },
  {
   "cell_type": "code",
   "execution_count": 10,
   "id": "15f37616",
   "metadata": {},
   "outputs": [
    {
     "name": "stdout",
     "output_type": "stream",
     "text": [
      "[49 48 47 46 45 44 43 42 41 40 39 38 37 36 35 34 33 32 31 30 29 28 27 26\n",
      " 25 24 23 22 21 20 19 18 17 16 15 14 13 12 11 10]\n"
     ]
    }
   ],
   "source": [
    "print(np.arange(10,50)[::-1])"
   ]
  },
  {
   "cell_type": "markdown",
   "id": "97bfddd4",
   "metadata": {},
   "source": [
    "#### 9. Create a 3x3 matrix with values ranging from 0 to 8 (★☆☆)"
   ]
  },
  {
   "cell_type": "code",
   "execution_count": 11,
   "id": "8b93d83c",
   "metadata": {},
   "outputs": [
    {
     "name": "stdout",
     "output_type": "stream",
     "text": [
      "[[0 1 2]\n",
      " [3 4 5]\n",
      " [6 7 8]]\n"
     ]
    }
   ],
   "source": [
    "#способ из дз с numpy\n",
    "def matrix(): \n",
    "    m = np.arange(9).reshape(3,3)\n",
    "    return m\n",
    "matrix()\n",
    "#а можно так\n",
    "print(np.arange(9).reshape(3,3))"
   ]
  },
  {
   "cell_type": "markdown",
   "id": "a073dad0",
   "metadata": {},
   "source": [
    "#### 10. Find indices of non-zero elements from [1,2,0,0,4,0] (★☆☆)"
   ]
  },
  {
   "cell_type": "code",
   "execution_count": 12,
   "id": "c21fb91c",
   "metadata": {},
   "outputs": [
    {
     "name": "stdout",
     "output_type": "stream",
     "text": [
      "(array([0, 1, 4], dtype=int64),)\n"
     ]
    }
   ],
   "source": [
    "print(np.nonzero(np.array([1,2,0,0,4,0]))) #Возвращает индексы элементов, которые не равны нулю"
   ]
  },
  {
   "cell_type": "markdown",
   "id": "82b9a7a0",
   "metadata": {},
   "source": [
    "#### 11. Create a 3x3 identity matrix (★☆☆)"
   ]
  },
  {
   "cell_type": "code",
   "execution_count": 13,
   "id": "7ce1325a",
   "metadata": {},
   "outputs": [
    {
     "name": "stdout",
     "output_type": "stream",
     "text": [
      "[[1. 0. 0.]\n",
      " [0. 1. 0.]\n",
      " [0. 0. 1.]]\n"
     ]
    }
   ],
   "source": [
    "print(np.eye(3))"
   ]
  },
  {
   "cell_type": "markdown",
   "id": "0e6364d3",
   "metadata": {},
   "source": [
    "#### 12. Create a 3x3x3 array with random values (★☆☆)"
   ]
  },
  {
   "cell_type": "code",
   "execution_count": 14,
   "id": "8139c1c8",
   "metadata": {},
   "outputs": [
    {
     "name": "stdout",
     "output_type": "stream",
     "text": [
      "[[[2 2 0]\n",
      "  [0 1 0]\n",
      "  [1 0 0]]\n",
      "\n",
      " [[0 2 0]\n",
      "  [2 2 1]\n",
      "  [1 1 1]]\n",
      "\n",
      " [[2 0 0]\n",
      "  [2 0 1]\n",
      "  [0 1 2]]]\n",
      "[[[0.06764684 0.86336914 0.53871248]\n",
      "  [0.57641046 0.83721568 0.44467975]\n",
      "  [0.79039013 0.63536088 0.17415473]]\n",
      "\n",
      " [[0.42667748 0.28993826 0.80461849]\n",
      "  [0.32771884 0.46814763 0.75406535]\n",
      "  [0.3834865  0.92025481 0.88155926]]\n",
      "\n",
      " [[0.82840552 0.56416975 0.94570264]\n",
      "  [0.29416794 0.58097013 0.85630522]\n",
      "  [0.36545984 0.21505238 0.52374505]]]\n"
     ]
    }
   ],
   "source": [
    "print(np.random.randint(low=0 , high= 3,size=(3,3,3))) #Возвращает числа в заданном интервале\n",
    "print(np.random.random((3,3,3))) #Возвращает числа в интервале от 0 до 1"
   ]
  },
  {
   "cell_type": "markdown",
   "id": "49ef36a6",
   "metadata": {},
   "source": [
    "#### 13. Create a 10x10 array with random values and find the minimum and maximum values (★☆☆)"
   ]
  },
  {
   "cell_type": "code",
   "execution_count": 15,
   "id": "5b4c73c7",
   "metadata": {},
   "outputs": [
    {
     "name": "stdout",
     "output_type": "stream",
     "text": [
      "[[0.73191302 0.29056196 0.27484343 0.91607298 0.89690719 0.65370866\n",
      "  0.81476757 0.02802719 0.43437749 0.86962928]\n",
      " [0.32848847 0.05666129 0.52568604 0.0696494  0.23341088 0.68790481\n",
      "  0.18857368 0.69212986 0.3597635  0.385817  ]\n",
      " [0.07281373 0.43222754 0.49382093 0.07731627 0.67357841 0.66022118\n",
      "  0.54247304 0.71991391 0.86919745 0.82762307]\n",
      " [0.72397659 0.09629854 0.1338736  0.67437802 0.90877256 0.02629287\n",
      "  0.25823931 0.45047275 0.6751413  0.34201083]\n",
      " [0.10106401 0.80074281 0.85308364 0.31714786 0.67756155 0.02868939\n",
      "  0.12092606 0.60144096 0.22364578 0.16503547]\n",
      " [0.27516936 0.51895154 0.49093777 0.60277864 0.23459954 0.31754153\n",
      "  0.75892815 0.76868253 0.40083943 0.70329384]\n",
      " [0.12052374 0.35527915 0.23402281 0.57650522 0.67160162 0.29173061\n",
      "  0.29482238 0.33367301 0.20282581 0.21161382]\n",
      " [0.95014333 0.19448    0.2438888  0.64778062 0.43267681 0.32546673\n",
      "  0.93069423 0.51411018 0.47157109 0.37583552]\n",
      " [0.12259644 0.83764849 0.77668574 0.54043773 0.42864267 0.65531248\n",
      "  0.63029048 0.48068328 0.9270319  0.93917831]\n",
      " [0.82220415 0.45176338 0.68963667 0.27332969 0.75765945 0.96881388\n",
      "  0.25495507 0.9732139  0.39095977 0.64691023]]\n",
      "Максимум:  0.9918537587142555\n",
      "Минимум:  0.05827297375770002\n"
     ]
    }
   ],
   "source": [
    "print(np.random.random((10,10)))\n",
    "print(\"Максимум: \", np.random.random((10,10)).max())\n",
    "print('Минимум: ', np.random.random((10,10)).min())"
   ]
  },
  {
   "cell_type": "markdown",
   "id": "625eb243",
   "metadata": {},
   "source": [
    "#### 14. Create a random vector of size 30 and find the mean value (★☆☆)"
   ]
  },
  {
   "cell_type": "code",
   "execution_count": 16,
   "id": "ba7b8300",
   "metadata": {},
   "outputs": [
    {
     "name": "stdout",
     "output_type": "stream",
     "text": [
      "[0.34986176 0.38817612 0.31147562 0.49023134 0.84313467 0.26176992\n",
      " 0.34376998 0.6627274  0.39510705 0.5208173  0.36590804 0.5462404\n",
      " 0.62357819 0.31305072 0.48935368 0.06093971 0.97189488 0.04233049\n",
      " 0.30446994 0.86716109 0.36496392 0.84571613 0.10697409 0.10403183\n",
      " 0.88955357 0.91147514 0.8773694  0.07070945 0.40400697 0.73811087]\n",
      "0.5816192774189558\n"
     ]
    }
   ],
   "source": [
    "print(np.random.random(30))\n",
    "print(np.random.random(30).mean()) #Возвращает среднее значение"
   ]
  },
  {
   "cell_type": "markdown",
   "id": "19540b2f",
   "metadata": {},
   "source": [
    "#### 15. Create a 2d array with 1 on the border and 0 inside (★☆☆)"
   ]
  },
  {
   "cell_type": "code",
   "execution_count": 17,
   "id": "19e78d2c",
   "metadata": {},
   "outputs": [
    {
     "name": "stdout",
     "output_type": "stream",
     "text": [
      "[[1. 1. 1. 1. 1. 1. 1. 1. 1. 1.]\n",
      " [1. 0. 0. 0. 0. 0. 0. 0. 0. 1.]\n",
      " [1. 0. 0. 0. 0. 0. 0. 0. 0. 1.]\n",
      " [1. 0. 0. 0. 0. 0. 0. 0. 0. 1.]\n",
      " [1. 0. 0. 0. 0. 0. 0. 0. 0. 1.]\n",
      " [1. 0. 0. 0. 0. 0. 0. 0. 0. 1.]\n",
      " [1. 0. 0. 0. 0. 0. 0. 0. 0. 1.]\n",
      " [1. 0. 0. 0. 0. 0. 0. 0. 0. 1.]\n",
      " [1. 0. 0. 0. 0. 0. 0. 0. 0. 1.]\n",
      " [1. 1. 1. 1. 1. 1. 1. 1. 1. 1.]]\n"
     ]
    }
   ],
   "source": [
    "a = np.ones((10,10))\n",
    "a[1:-1, 1:-1] = 0 #Меняем внутренние значения на 0\n",
    "print(a)"
   ]
  },
  {
   "cell_type": "markdown",
   "id": "3f0fe171",
   "metadata": {},
   "source": [
    "#### 16. How to add a border (filled with 0's) around an existing array? (★☆☆)"
   ]
  },
  {
   "cell_type": "code",
   "execution_count": 18,
   "id": "662a99b4",
   "metadata": {},
   "outputs": [
    {
     "name": "stdout",
     "output_type": "stream",
     "text": [
      "[[0. 0. 0. 0. 0. 0. 0.]\n",
      " [0. 1. 1. 1. 1. 1. 0.]\n",
      " [0. 1. 1. 1. 1. 1. 0.]\n",
      " [0. 1. 1. 1. 1. 1. 0.]\n",
      " [0. 1. 1. 1. 1. 1. 0.]\n",
      " [0. 1. 1. 1. 1. 1. 0.]\n",
      " [0. 0. 0. 0. 0. 0. 0.]]\n"
     ]
    }
   ],
   "source": [
    "a = np.ones((5,5)) #для примера возьмем массив 5х5\n",
    "a = np.pad(a, pad_width=1, mode='constant', constant_values=0) #Заполняет края массива нужным количеством нужных объектов\n",
    "print(a)"
   ]
  },
  {
   "cell_type": "markdown",
   "id": "0464c4af",
   "metadata": {},
   "source": [
    "#### 17. What is the result of the following expression? (★☆☆)\n",
    "```python\n",
    "0 * np.nan\n",
    "np.nan == np.nan\n",
    "np.inf > np.nan\n",
    "np.nan - np.nan\n",
    "np.nan in set([np.nan])\n",
    "0.3 == 3 * 0.1\n",
    "```"
   ]
  },
  {
   "cell_type": "code",
   "execution_count": 19,
   "id": "18926a29",
   "metadata": {},
   "outputs": [
    {
     "name": "stdout",
     "output_type": "stream",
     "text": [
      "nan\n",
      "False\n",
      "False\n",
      "nan\n",
      "False\n"
     ]
    }
   ],
   "source": [
    "print(0*np.nan)\n",
    "print(np.nan == np.nan)\n",
    "print(np.inf > np.nan)\n",
    "print(np.nan - np.nan)\n",
    "print(0.3 == 3 * 0.1)"
   ]
  },
  {
   "cell_type": "markdown",
   "id": "afb90e8b",
   "metadata": {},
   "source": [
    "#### 18. Create a 5x5 matrix with values 1,2,3,4 just below the diagonal (★☆☆)"
   ]
  },
  {
   "cell_type": "code",
   "execution_count": 20,
   "id": "8a988102",
   "metadata": {},
   "outputs": [
    {
     "name": "stdout",
     "output_type": "stream",
     "text": [
      "[[0 0 0 0 0]\n",
      " [1 0 0 0 0]\n",
      " [0 2 0 0 0]\n",
      " [0 0 3 0 0]\n",
      " [0 0 0 4 0]]\n"
     ]
    }
   ],
   "source": [
    "print(np.diag(np.arange(1,5),k=-1)) #создаем массив нужный на диагональ, затем распределяем его, K-шаг смещение по диагонали"
   ]
  },
  {
   "cell_type": "markdown",
   "id": "ca611f9e",
   "metadata": {},
   "source": [
    "#### 19. Create a 8x8 matrix and fill it with a checkerboard pattern (★☆☆)"
   ]
  },
  {
   "cell_type": "code",
   "execution_count": 21,
   "id": "24049fc7",
   "metadata": {},
   "outputs": [
    {
     "name": "stdout",
     "output_type": "stream",
     "text": [
      "[[0 1 0 1 0 1 0 1]\n",
      " [1 0 1 0 1 0 1 0]\n",
      " [0 1 0 1 0 1 0 1]\n",
      " [1 0 1 0 1 0 1 0]\n",
      " [0 1 0 1 0 1 0 1]\n",
      " [1 0 1 0 1 0 1 0]\n",
      " [0 1 0 1 0 1 0 1]\n",
      " [1 0 1 0 1 0 1 0]]\n",
      "[[0 1 0 1 0 1 0 1]\n",
      " [1 0 1 0 1 0 1 0]\n",
      " [0 1 0 1 0 1 0 1]\n",
      " [1 0 1 0 1 0 1 0]\n",
      " [0 1 0 1 0 1 0 1]\n",
      " [1 0 1 0 1 0 1 0]\n",
      " [0 1 0 1 0 1 0 1]\n",
      " [1 0 1 0 1 0 1 0]]\n"
     ]
    }
   ],
   "source": [
    "#способ из дз с numpy\n",
    "def checkerboard(w, b):\n",
    "    m = np.tile(np.array([[0,1],[1,0]]), (4,4))\n",
    "    return m\n",
    "print(checkerboard(1, 0))\n",
    "#а можно так\n",
    "a = np.zeros((8,8), dtype=int)\n",
    "a[1::2, ::2] = 1\n",
    "a[::2, 1::2] = 1\n",
    "print(a)"
   ]
  },
  {
   "cell_type": "markdown",
   "id": "9b77f7af",
   "metadata": {},
   "source": [
    "#### 20. Consider a (6,7,8) shape array, what is the index (x,y,z) of the 100th element? (★☆☆)"
   ]
  },
  {
   "cell_type": "code",
   "execution_count": 22,
   "id": "402efd68",
   "metadata": {},
   "outputs": [
    {
     "name": "stdout",
     "output_type": "stream",
     "text": [
      "(1, 5, 3)\n"
     ]
    }
   ],
   "source": [
    "#т.к. счет начинается с 0 сотый элемент -> 99\n",
    "print(np.unravel_index(99, (6,7,8))) #Преобразуем плоский индекс вектора или массив плоских индексов в кортеж массивов координат"
   ]
  },
  {
   "cell_type": "markdown",
   "id": "07e399b8",
   "metadata": {},
   "source": [
    "#### 21. Create a checkerboard 8x8 matrix using the tile function (★☆☆)"
   ]
  },
  {
   "cell_type": "code",
   "execution_count": 23,
   "id": "867964a9",
   "metadata": {},
   "outputs": [
    {
     "name": "stdout",
     "output_type": "stream",
     "text": [
      "[[0 1 0 1 0 1 0 1]\n",
      " [1 0 1 0 1 0 1 0]\n",
      " [0 1 0 1 0 1 0 1]\n",
      " [1 0 1 0 1 0 1 0]\n",
      " [0 1 0 1 0 1 0 1]\n",
      " [1 0 1 0 1 0 1 0]\n",
      " [0 1 0 1 0 1 0 1]\n",
      " [1 0 1 0 1 0 1 0]]\n",
      "[[0 1 0 1 0 1 0 1]\n",
      " [1 0 1 0 1 0 1 0]\n",
      " [0 1 0 1 0 1 0 1]\n",
      " [1 0 1 0 1 0 1 0]\n",
      " [0 1 0 1 0 1 0 1]\n",
      " [1 0 1 0 1 0 1 0]\n",
      " [0 1 0 1 0 1 0 1]\n",
      " [1 0 1 0 1 0 1 0]]\n"
     ]
    }
   ],
   "source": [
    "#опять же можно сделать как в дз с numpy\n",
    "def checkerboard(w, b):\n",
    "    m = np.tile(np.array([[0,1],[1,0]]), (4,4))\n",
    "    return m\n",
    "print(checkerboard(1, 0))\n",
    "#а можно так\n",
    "a = np.array([[0,1], [1,0]]) #создаем одну ячейку\n",
    "a = np.tile(a, (4,4)) #заполняем созданными ячейками всё поле\n",
    "print(a)"
   ]
  },
  {
   "cell_type": "markdown",
   "id": "bc92d88a",
   "metadata": {},
   "source": [
    "#### 22. Normalize a 5x5 random matrix (★☆☆)"
   ]
  },
  {
   "cell_type": "code",
   "execution_count": 24,
   "id": "a3709496",
   "metadata": {},
   "outputs": [
    {
     "name": "stdout",
     "output_type": "stream",
     "text": [
      "[[ 0.85842515  0.23997168  0.03160095  0.62011247  0.87096324]\n",
      " [ 1.03497927  0.06627261 -0.00901798  0.42217679  0.61614699]\n",
      " [ 0.63397263  0.96143987  0.33907972  0.89350523  0.24673359]\n",
      " [ 0.51417888  0.97257815  0.48612993  0.43864219  0.01105585]\n",
      " [ 0.08180352  0.33964076  0.76716544  0.19127492  0.70561092]]\n"
     ]
    }
   ],
   "source": [
    "a = (np.random.random((5,5)) - np.random.random((5,5)).min()) / (np.random.random((5,5)).max() - np.random.random((5,5)).min())\n",
    "print(a)"
   ]
  },
  {
   "cell_type": "markdown",
   "id": "9e2fd8ce",
   "metadata": {},
   "source": [
    "#### 23. Create a custom dtype that describes a color as four unsigned bytes (RGBA) (★☆☆)"
   ]
  },
  {
   "cell_type": "code",
   "execution_count": 25,
   "id": "5881b2b5",
   "metadata": {},
   "outputs": [
    {
     "name": "stdout",
     "output_type": "stream",
     "text": [
      "[('r', 'u1'), ('g', 'u1'), ('b', 'u1'), ('a', 'u1')]\n"
     ]
    }
   ],
   "source": [
    "print(np.dtype([('r', np.ubyte),('g', np.ubyte),('b', np.ubyte),('a', np.ubyte)]))"
   ]
  },
  {
   "cell_type": "markdown",
   "id": "d6904ab9",
   "metadata": {},
   "source": [
    "#### 24. Multiply a 5x3 matrix by a 3x2 matrix (real matrix product) (★☆☆)"
   ]
  },
  {
   "cell_type": "code",
   "execution_count": 26,
   "id": "cb3b6528",
   "metadata": {},
   "outputs": [
    {
     "name": "stdout",
     "output_type": "stream",
     "text": [
      "[[1.2589243  0.96059988]\n",
      " [0.52695529 0.61901775]\n",
      " [0.79490443 1.37078485]\n",
      " [0.86008915 1.04247702]\n",
      " [0.44940643 0.67953408]]\n"
     ]
    }
   ],
   "source": [
    "print(np.matmul(np.random.random((5,3)),np.random.random((3,2)))) #матричное произведение двух массивов"
   ]
  },
  {
   "cell_type": "markdown",
   "id": "c57116dd",
   "metadata": {},
   "source": [
    "#### 25. Given a 1D array, negate all elements which are between 3 and 8, in place. (★☆☆)"
   ]
  },
  {
   "cell_type": "code",
   "execution_count": 27,
   "id": "4fbf1b1e",
   "metadata": {},
   "outputs": [
    {
     "name": "stdout",
     "output_type": "stream",
     "text": [
      "[ 0  1  2  3 -4 -5 -6 -7  8  9 10]\n",
      "[ 0  1  2  3 -4 -5 -6 -7  8  9 10]\n"
     ]
    }
   ],
   "source": [
    "a = np.arange(11)\n",
    "a[(3<a) & (a <8)] *= -1\n",
    "print(a)\n",
    "#можно по старинке через цикл\n",
    "a = np.arange(11)\n",
    "for i in range (len(a)):\n",
    "    if a[i] > 3 and a[i] < 8:\n",
    "        a[i] = - a[i]\n",
    "print(a)"
   ]
  },
  {
   "cell_type": "markdown",
   "id": "52707d61",
   "metadata": {},
   "source": [
    "#### 26. What is the output of the following script? (★☆☆)\n",
    "```python\n",
    "# Author: Jake VanderPlas\n",
    "\n",
    "print(sum(range(5),-1))\n",
    "from numpy import *\n",
    "print(sum(range(5),-1))\n",
    "```"
   ]
  },
  {
   "cell_type": "code",
   "execution_count": 28,
   "id": "18a238e6",
   "metadata": {},
   "outputs": [
    {
     "name": "stdout",
     "output_type": "stream",
     "text": [
      "9\n",
      "10\n"
     ]
    }
   ],
   "source": [
    "print(sum(range(5),-1))\n",
    "from numpy import *\n",
    "print(sum(range(5),-1))"
   ]
  },
  {
   "cell_type": "markdown",
   "id": "5ab377fd",
   "metadata": {},
   "source": [
    "#### 27. Consider an integer vector Z, which of these expressions are legal? (★☆☆)\n",
    "```python\n",
    "Z**Z\n",
    "2 << Z >> 2\n",
    "Z <- Z\n",
    "1j*Z\n",
    "Z/1/1\n",
    "Z<Z>Z\n",
    "```"
   ]
  },
  {
   "cell_type": "code",
   "execution_count": 29,
   "id": "36cc66a9",
   "metadata": {},
   "outputs": [
    {
     "name": "stdout",
     "output_type": "stream",
     "text": [
      "[        1         1         4        27       256      3125     46656\n",
      "    823543  16777216 387420489]\n",
      "[  0   1   2   4   8  16  32  64 128 256]\n",
      "[False False False False False False False False False False]\n",
      "[0.+0.j 0.+1.j 0.+2.j 0.+3.j 0.+4.j 0.+5.j 0.+6.j 0.+7.j 0.+8.j 0.+9.j]\n",
      "[0. 1. 2. 3. 4. 5. 6. 7. 8. 9.]\n",
      "Z<Z>Z так нельзя - бан\n"
     ]
    }
   ],
   "source": [
    "Z=np.arange(10)\n",
    "print(Z**Z)\n",
    "print(2 << Z >> 2)\n",
    "print(Z <- Z)\n",
    "print(1j*Z)\n",
    "print(Z/1/1)\n",
    "try:\n",
    "    print(Z<Z>Z) # при обычном запуске дает ошибку\n",
    "except Exception as e:\n",
    "    print('Z<Z>Z так нельзя - бан')"
   ]
  },
  {
   "cell_type": "markdown",
   "id": "654f223f",
   "metadata": {},
   "source": [
    "#### 28. What are the result of the following expressions? (★☆☆)\n",
    "```python\n",
    "np.array(0) / np.array(0)\n",
    "np.array(0) // np.array(0)\n",
    "np.array([np.nan]).astype(int).astype(float)\n",
    "```"
   ]
  },
  {
   "cell_type": "code",
   "execution_count": 30,
   "id": "6d9d3c21",
   "metadata": {},
   "outputs": [
    {
     "name": "stdout",
     "output_type": "stream",
     "text": [
      "nan\n",
      "0\n",
      "[-2.14748365e+09]\n"
     ]
    },
    {
     "name": "stderr",
     "output_type": "stream",
     "text": [
      "C:\\Users\\79833\\AppData\\Local\\Temp\\ipykernel_22176\\3912170336.py:1: RuntimeWarning: invalid value encountered in true_divide\n",
      "  print(np.array(0) / np.array(0))\n",
      "C:\\Users\\79833\\AppData\\Local\\Temp\\ipykernel_22176\\3912170336.py:2: RuntimeWarning: divide by zero encountered in floor_divide\n",
      "  print(np.array(0) // np.array(0))\n"
     ]
    }
   ],
   "source": [
    "print(np.array(0) / np.array(0))\n",
    "print(np.array(0) // np.array(0))\n",
    "print(np.array([np.nan]).astype(int).astype(float))"
   ]
  },
  {
   "cell_type": "markdown",
   "id": "a7e00adf",
   "metadata": {},
   "source": [
    "#### 29. How to round away from zero a float array ? (★☆☆)"
   ]
  },
  {
   "cell_type": "code",
   "execution_count": 32,
   "id": "6ee5777d",
   "metadata": {},
   "outputs": [
    {
     "name": "stdout",
     "output_type": "stream",
     "text": [
      "[ 5.65985112 -8.36172343  6.45790928 -7.31948223  2.34273074  5.36437112\n",
      "  9.37921939  4.73652469 -7.24509639  2.81430033]\n",
      "[ 6. -9.  7. -8.  3.  6. 10.  5. -8.  3.]\n"
     ]
    }
   ],
   "source": [
    "a = np.random.uniform(-10, +10, 10)\n",
    "print(a)\n",
    "print(np.copysign(np.ceil(np.abs(a)), a))"
   ]
  },
  {
   "cell_type": "markdown",
   "id": "56be1f05",
   "metadata": {},
   "source": [
    "#### 30. How to find common values between two arrays? (★☆☆)"
   ]
  },
  {
   "cell_type": "code",
   "execution_count": 34,
   "id": "62eeedc0",
   "metadata": {},
   "outputs": [
    {
     "name": "stdout",
     "output_type": "stream",
     "text": [
      "[0 0 0 5 9 9 8 2 5 5]\n",
      "[8 4 9 6 9 4 5 3 2 5]\n",
      "[2 5 8 9]\n"
     ]
    }
   ],
   "source": [
    "a1 = np.random.randint(0,10,10)\n",
    "a2 = np.random.randint(0,10,10)\n",
    "print(a1)\n",
    "print(a2)\n",
    "print(np.intersect1d(a1,a2))"
   ]
  },
  {
   "cell_type": "markdown",
   "id": "83567c5c",
   "metadata": {},
   "source": [
    "#### 31. How to ignore all numpy warnings (not recommended)? (★☆☆)"
   ]
  },
  {
   "cell_type": "code",
   "execution_count": 35,
   "id": "fa02b423",
   "metadata": {},
   "outputs": [],
   "source": [
    "defaults = np.seterr(all = 'ignore')"
   ]
  },
  {
   "cell_type": "markdown",
   "id": "0a7449b6",
   "metadata": {},
   "source": [
    "#### 32. Is the following expressions true? (★☆☆)\n",
    "```python\n",
    "np.sqrt(-1) == np.emath.sqrt(-1)\n",
    "```"
   ]
  },
  {
   "cell_type": "code",
   "execution_count": 36,
   "id": "69eb4456",
   "metadata": {},
   "outputs": [
    {
     "data": {
      "text/plain": [
       "False"
      ]
     },
     "execution_count": 36,
     "metadata": {},
     "output_type": "execute_result"
    }
   ],
   "source": [
    "np.sqrt(-1) == np.emath.sqrt(-1)"
   ]
  },
  {
   "cell_type": "markdown",
   "id": "9d434219",
   "metadata": {},
   "source": [
    "#### 33. How to get the dates of yesterday, today and tomorrow? (★☆☆)"
   ]
  },
  {
   "cell_type": "code",
   "execution_count": 39,
   "id": "0b192943",
   "metadata": {},
   "outputs": [
    {
     "name": "stdout",
     "output_type": "stream",
     "text": [
      "Вчера:  2022-12-19\n",
      "Сегодня:  2022-12-20\n",
      "Завтра  2022-12-21\n"
     ]
    }
   ],
   "source": [
    "s = np.datetime64('today')\n",
    "y = np.datetime64('today') - np.timedelta64(1)\n",
    "t = np.datetime64('today') + np.timedelta64(1)\n",
    "print('Вчера: ',y)\n",
    "print('Сегодня: ',s)\n",
    "print('Завтра ',t)"
   ]
  },
  {
   "cell_type": "markdown",
   "id": "b0e44339",
   "metadata": {},
   "source": [
    "#### 34. How to get all the dates corresponding to the month of July 2016? (★★☆)"
   ]
  },
  {
   "cell_type": "code",
   "execution_count": 40,
   "id": "8bf7daa6",
   "metadata": {},
   "outputs": [
    {
     "name": "stdout",
     "output_type": "stream",
     "text": [
      "['2016-07-01' '2016-07-02' '2016-07-03' '2016-07-04' '2016-07-05'\n",
      " '2016-07-06' '2016-07-07' '2016-07-08' '2016-07-09' '2016-07-10'\n",
      " '2016-07-11' '2016-07-12' '2016-07-13' '2016-07-14' '2016-07-15'\n",
      " '2016-07-16' '2016-07-17' '2016-07-18' '2016-07-19' '2016-07-20'\n",
      " '2016-07-21' '2016-07-22' '2016-07-23' '2016-07-24' '2016-07-25'\n",
      " '2016-07-26' '2016-07-27' '2016-07-28' '2016-07-29' '2016-07-30'\n",
      " '2016-07-31']\n"
     ]
    }
   ],
   "source": [
    "print(np.arange('2016-07', '2016-08', dtype='datetime64[D]'))"
   ]
  },
  {
   "cell_type": "markdown",
   "id": "f9b3c24a",
   "metadata": {},
   "source": [
    "#### 35. How to compute ((A+B)*(-A/2)) in place (without copy)? (★★☆)"
   ]
  },
  {
   "cell_type": "code",
   "execution_count": 47,
   "id": "40da18c9",
   "metadata": {},
   "outputs": [
    {
     "name": "stdout",
     "output_type": "stream",
     "text": [
      "[1. 1. 1. 1. 1.]\n",
      "[2. 2. 2. 2. 2.]\n",
      "[-1.5 -1.5 -1.5 -1.5 -1.5]\n"
     ]
    }
   ],
   "source": [
    "#чтобы оценить результат возьмем такие массивы\n",
    "A = np.ones(5) * 1 \n",
    "B = np.ones(5) * 2\n",
    "print(A)\n",
    "print(B)\n",
    "np.add(A,B, out=B)\n",
    "np.divide(A,2, out=A)\n",
    "np.negative(A, out=A)\n",
    "np.multiply(A,B, out=A)\n",
    "print(A)"
   ]
  },
  {
   "cell_type": "markdown",
   "id": "cbb64ee9",
   "metadata": {},
   "source": [
    "#### 36. Extract the integer part of a random array of positive numbers using 4 different methods (★★☆)"
   ]
  },
  {
   "cell_type": "code",
   "execution_count": 50,
   "id": "f83748bd",
   "metadata": {},
   "outputs": [
    {
     "name": "stdout",
     "output_type": "stream",
     "text": [
      "[8. 4. 7. 6. 6. 4. 1. 6. 2. 6.]\n",
      "[8. 4. 7. 6. 6. 4. 1. 6. 2. 6.]\n",
      "[8. 4. 7. 6. 6. 4. 1. 6. 2. 6.]\n",
      "[8 4 7 6 6 4 1 6 2 6]\n",
      "[8. 4. 7. 6. 6. 4. 1. 6. 2. 6.]\n"
     ]
    }
   ],
   "source": [
    "a = np.random.uniform(1,10,10)\n",
    "print(a - a%1) #через %\n",
    "print(np.floor(a)) #через floor\n",
    "print(np.ceil(a)-1) #через ceil\n",
    "print(a.astype(int)) #через astype\n",
    "print(np.trunc(a)) #через trunc"
   ]
  },
  {
   "cell_type": "markdown",
   "id": "8418e1e4",
   "metadata": {},
   "source": [
    "#### 37. Create a 5x5 matrix with row values ranging from 0 to 4 (★★☆)"
   ]
  },
  {
   "cell_type": "code",
   "execution_count": 51,
   "id": "08e726e4",
   "metadata": {},
   "outputs": [
    {
     "name": "stdout",
     "output_type": "stream",
     "text": [
      "[[0. 1. 2. 3. 4.]\n",
      " [0. 1. 2. 3. 4.]\n",
      " [0. 1. 2. 3. 4.]\n",
      " [0. 1. 2. 3. 4.]\n",
      " [0. 1. 2. 3. 4.]]\n"
     ]
    }
   ],
   "source": [
    "a = np.zeros((5,5)) \n",
    "a += np.arange(5)\n",
    "print(a)"
   ]
  },
  {
   "cell_type": "markdown",
   "id": "a8420e2c",
   "metadata": {},
   "source": [
    "#### 38. Consider a generator function that generates 10 integers and use it to build an array (★☆☆)"
   ]
  },
  {
   "cell_type": "code",
   "execution_count": 53,
   "id": "c58e77ad",
   "metadata": {},
   "outputs": [
    {
     "name": "stdout",
     "output_type": "stream",
     "text": [
      "[0. 1. 2. 3. 4. 5. 6. 7. 8. 9.]\n"
     ]
    }
   ],
   "source": [
    "def generator():\n",
    "    for x in range(10):\n",
    "        yield x\n",
    "print(np.fromiter(generator(), dtype=float, count=-1))"
   ]
  },
  {
   "cell_type": "markdown",
   "id": "deab3e77",
   "metadata": {},
   "source": [
    "#### 39. Create a vector of size 10 with values ranging from 0 to 1, both excluded (★★☆)"
   ]
  },
  {
   "cell_type": "code",
   "execution_count": 55,
   "id": "2c5fafc8",
   "metadata": {},
   "outputs": [
    {
     "name": "stdout",
     "output_type": "stream",
     "text": [
      "[0.09090909 0.18181818 0.27272727 0.36363636 0.45454545 0.54545455\n",
      " 0.63636364 0.72727273 0.81818182 0.90909091]\n"
     ]
    }
   ],
   "source": [
    "print(np.linspace(0,1,11,endpoint=False)[1:]) #Возвращает равномерно распределенные числа в интервале\n",
    "#endpoint=False конечная точка интервала может быть исключена"
   ]
  },
  {
   "cell_type": "markdown",
   "id": "5bb5de9c",
   "metadata": {},
   "source": [
    "#### 40. Create a random vector of size 10 and sort it (★★☆)"
   ]
  },
  {
   "cell_type": "code",
   "execution_count": 57,
   "id": "b9916965",
   "metadata": {},
   "outputs": [
    {
     "name": "stdout",
     "output_type": "stream",
     "text": [
      "[0.0491199  0.14041643 0.26345926 0.30628735 0.48868634 0.53724664\n",
      " 0.61261606 0.72179131 0.8256931  0.8800442 ]\n"
     ]
    }
   ],
   "source": [
    "print(np.sort(np.random.random(10)))"
   ]
  },
  {
   "cell_type": "markdown",
   "id": "ebc8ad64",
   "metadata": {},
   "source": [
    "#### 41. How to sum a small array faster than np.sum? (★★☆)"
   ]
  },
  {
   "cell_type": "code",
   "execution_count": 58,
   "id": "e7ac9923",
   "metadata": {},
   "outputs": [
    {
     "name": "stdout",
     "output_type": "stream",
     "text": [
      "45\n"
     ]
    }
   ],
   "source": [
    "print(np.add.reduce(np.arange(10)))"
   ]
  },
  {
   "cell_type": "markdown",
   "id": "4abfb753",
   "metadata": {},
   "source": [
    "#### 42. Consider two random array A and B, check if they are equal (★★☆)"
   ]
  },
  {
   "cell_type": "code",
   "execution_count": 60,
   "id": "d265b5f6",
   "metadata": {},
   "outputs": [
    {
     "name": "stdout",
     "output_type": "stream",
     "text": [
      "[7 4 6 3 6 1 8 1 8 9]\n",
      "[1 1 9 4 2 1 6 2 0 5]\n",
      "False\n",
      "False\n"
     ]
    }
   ],
   "source": [
    "a = np.random.randint(0,10,10)\n",
    "b = np.random.randint(0,10,10)\n",
    "print(a)\n",
    "print(b)\n",
    "print(np.allclose(a,b))\n",
    "print(np.array_equal(a,b))"
   ]
  },
  {
   "cell_type": "markdown",
   "id": "c8fad2be",
   "metadata": {},
   "source": [
    "#### 43. Make an array immutable (read-only) (★★☆)"
   ]
  },
  {
   "cell_type": "code",
   "execution_count": 64,
   "id": "cadce095",
   "metadata": {},
   "outputs": [
    {
     "name": "stdout",
     "output_type": "stream",
     "text": [
      "[1 1 1 1 1]\n",
      "a[1] = 0 так нельзя - бан\n"
     ]
    }
   ],
   "source": [
    "a = np.ones(5, dtype=int)\n",
    "a.flags.writeable=False\n",
    "print(a)\n",
    "try:\n",
    "    a[1] = 0   \n",
    "except Exception as e:\n",
    "    print('a[1] = 0 так нельзя - бан')"
   ]
  },
  {
   "cell_type": "markdown",
   "id": "91b25fb1",
   "metadata": {},
   "source": [
    "#### 44. Consider a random 10x2 matrix representing cartesian coordinates, convert them to polar coordinates (★★☆)"
   ]
  },
  {
   "cell_type": "code",
   "execution_count": 66,
   "id": "3f5fb344",
   "metadata": {},
   "outputs": [
    {
     "name": "stdout",
     "output_type": "stream",
     "text": [
      "[[0.23723285 0.66499285]\n",
      " [0.36048119 0.33575579]\n",
      " [0.03939607 0.23898473]\n",
      " [0.71658678 0.2446099 ]\n",
      " [0.15974012 0.96813578]\n",
      " [0.40277939 0.03417611]\n",
      " [0.01060101 0.64609025]\n",
      " [0.14661629 0.43466063]\n",
      " [0.77013782 0.9205544 ]\n",
      " [0.9670992  0.27617781]]\n",
      "[0.23723285 0.36048119 0.03939607 0.71658678 0.15974012 0.40277939\n",
      " 0.01060101 0.14661629 0.77013782 0.9670992 ]\n",
      "[0.66499285 0.33575579 0.23898473 0.2446099  0.96813578 0.03417611\n",
      " 0.64609025 0.43466063 0.9205544  0.27617781]\n",
      "[0.70604172 0.49262424 0.24221014 0.75718599 0.98122566 0.40422672\n",
      " 0.64617722 0.45872235 1.20022192 1.00576093]\n",
      "[1.22812532 0.74990017 1.40741804 0.32895187 1.40727201 0.08464794\n",
      " 1.55438985 1.24546917 0.87413199 0.2781694 ]\n"
     ]
    }
   ],
   "source": [
    "a = np.random.random((10,2))\n",
    "print(a)\n",
    "\n",
    "x,y = a[:,0], a[:,1]\n",
    "print(x)\n",
    "print(y)\n",
    "\n",
    "A = np.sqrt(x**2 + y** 2)\n",
    "B = np.arctan2(y,x)\n",
    "print(A)\n",
    "print(B)"
   ]
  },
  {
   "cell_type": "markdown",
   "id": "7e4116bc",
   "metadata": {},
   "source": [
    "#### 45. Create random vector of size 10 and replace the maximum value by 0 (★★☆)"
   ]
  },
  {
   "cell_type": "code",
   "execution_count": 68,
   "id": "b4e895f6",
   "metadata": {},
   "outputs": [
    {
     "name": "stdout",
     "output_type": "stream",
     "text": [
      "[1 3 4 3 8 2 3 5 3 5]\n",
      "[1 3 4 3 0 2 3 5 3 5]\n"
     ]
    }
   ],
   "source": [
    "a = np.random.randint(1,10, 10)\n",
    "print(a)\n",
    "a[a.argmax()] = 0\n",
    "print(a)"
   ]
  },
  {
   "cell_type": "markdown",
   "id": "f5b68c55",
   "metadata": {},
   "source": [
    "#### 46. Create a structured array with `x` and `y` coordinates covering the [0,1]x[0,1] area (★★☆)"
   ]
  },
  {
   "cell_type": "code",
   "execution_count": 72,
   "id": "32fd3691",
   "metadata": {},
   "outputs": [
    {
     "name": "stdout",
     "output_type": "stream",
     "text": [
      "[[(0.  , 0.  ) (0.25, 0.  ) (0.5 , 0.  ) (0.75, 0.  ) (1.  , 0.  )]\n",
      " [(0.  , 0.25) (0.25, 0.25) (0.5 , 0.25) (0.75, 0.25) (1.  , 0.25)]\n",
      " [(0.  , 0.5 ) (0.25, 0.5 ) (0.5 , 0.5 ) (0.75, 0.5 ) (1.  , 0.5 )]\n",
      " [(0.  , 0.75) (0.25, 0.75) (0.5 , 0.75) (0.75, 0.75) (1.  , 0.75)]\n",
      " [(0.  , 1.  ) (0.25, 1.  ) (0.5 , 1.  ) (0.75, 1.  ) (1.  , 1.  )]]\n"
     ]
    }
   ],
   "source": [
    "a = np.zeros((5,5), [('x', float), ('y', float)])\n",
    "a['x'], a['y'] = np.meshgrid(np.linspace(0,1,5), np.linspace(0,1,5))\n",
    "print(a)"
   ]
  },
  {
   "cell_type": "markdown",
   "id": "378bc4e9",
   "metadata": {},
   "source": [
    "#### 47. Given two arrays, X and Y, construct the Cauchy matrix C (Cij =1/(xi - yj)) (★★☆)"
   ]
  },
  {
   "cell_type": "code",
   "execution_count": 75,
   "id": "43282e51",
   "metadata": {},
   "outputs": [
    {
     "name": "stdout",
     "output_type": "stream",
     "text": [
      "[[-2.         -0.66666667 -0.4        -0.28571429 -0.22222222]\n",
      " [ 2.         -2.         -0.66666667 -0.4        -0.28571429]\n",
      " [ 0.66666667  2.         -2.         -0.66666667 -0.4       ]\n",
      " [ 0.4         0.66666667  2.         -2.         -0.66666667]\n",
      " [ 0.28571429  0.4         0.66666667  2.         -2.        ]]\n"
     ]
    }
   ],
   "source": [
    "X = np.arange(5)\n",
    "Y = X + 0.5\n",
    "C = 1 / np.subtract.outer(X, Y)\n",
    "print(C)"
   ]
  },
  {
   "cell_type": "markdown",
   "id": "7f45d2f9",
   "metadata": {},
   "source": [
    "#### 48. Print the minimum and maximum representable value for each numpy scalar type (★★☆)"
   ]
  },
  {
   "cell_type": "code",
   "execution_count": 77,
   "id": "a7f37b9e",
   "metadata": {},
   "outputs": [
    {
     "name": "stdout",
     "output_type": "stream",
     "text": [
      "<class 'numpy.int8'>: min=-128, max=127\n",
      "<class 'numpy.int16'>: min=-32768, max=32767\n",
      "<class 'numpy.int32'>: min=-2147483648, max=2147483647\n",
      "<class 'numpy.int64'>: min=-9223372036854775808, max=9223372036854775807\n",
      "<class 'numpy.float16'>: min=-65504.0, max=65504.0\n",
      "<class 'numpy.float32'>: min=-3.4028234663852886e+38, max=3.4028234663852886e+38\n",
      "<class 'numpy.float64'>: min=-1.7976931348623157e+308, max=1.7976931348623157e+308\n"
     ]
    }
   ],
   "source": [
    "for dtype in [np.int8, np.int16, np.int32, np.int64]:\n",
    "    info = np.iinfo(dtype)\n",
    "    print(f\"{dtype}: min={info.min}, max={info.max}\")\n",
    "for dtype in [np.float16, np.float32, np.float64]:\n",
    "    info = np.finfo(dtype)\n",
    "    print(f\"{dtype}: min={info.min}, max={info.max}\")"
   ]
  },
  {
   "cell_type": "markdown",
   "id": "1d269f07",
   "metadata": {},
   "source": [
    "#### 49. How to print all the values of an array? (★★☆)"
   ]
  },
  {
   "cell_type": "code",
   "execution_count": 87,
   "id": "fde90b07",
   "metadata": {},
   "outputs": [
    {
     "name": "stdout",
     "output_type": "stream",
     "text": [
      "[[0. 0. 0. 0. 0. 0. 0. 0. 0. 0. 0. 0. 0. 0. 0. 0. 0. 0. 0. 0.]\n",
      " [0. 0. 0. 0. 0. 0. 0. 0. 0. 0. 0. 0. 0. 0. 0. 0. 0. 0. 0. 0.]\n",
      " [0. 0. 0. 0. 0. 0. 0. 0. 0. 0. 0. 0. 0. 0. 0. 0. 0. 0. 0. 0.]\n",
      " [0. 0. 0. 0. 0. 0. 0. 0. 0. 0. 0. 0. 0. 0. 0. 0. 0. 0. 0. 0.]\n",
      " [0. 0. 0. 0. 0. 0. 0. 0. 0. 0. 0. 0. 0. 0. 0. 0. 0. 0. 0. 0.]\n",
      " [0. 0. 0. 0. 0. 0. 0. 0. 0. 0. 0. 0. 0. 0. 0. 0. 0. 0. 0. 0.]\n",
      " [0. 0. 0. 0. 0. 0. 0. 0. 0. 0. 0. 0. 0. 0. 0. 0. 0. 0. 0. 0.]\n",
      " [0. 0. 0. 0. 0. 0. 0. 0. 0. 0. 0. 0. 0. 0. 0. 0. 0. 0. 0. 0.]\n",
      " [0. 0. 0. 0. 0. 0. 0. 0. 0. 0. 0. 0. 0. 0. 0. 0. 0. 0. 0. 0.]\n",
      " [0. 0. 0. 0. 0. 0. 0. 0. 0. 0. 0. 0. 0. 0. 0. 0. 0. 0. 0. 0.]\n",
      " [0. 0. 0. 0. 0. 0. 0. 0. 0. 0. 0. 0. 0. 0. 0. 0. 0. 0. 0. 0.]\n",
      " [0. 0. 0. 0. 0. 0. 0. 0. 0. 0. 0. 0. 0. 0. 0. 0. 0. 0. 0. 0.]\n",
      " [0. 0. 0. 0. 0. 0. 0. 0. 0. 0. 0. 0. 0. 0. 0. 0. 0. 0. 0. 0.]\n",
      " [0. 0. 0. 0. 0. 0. 0. 0. 0. 0. 0. 0. 0. 0. 0. 0. 0. 0. 0. 0.]\n",
      " [0. 0. 0. 0. 0. 0. 0. 0. 0. 0. 0. 0. 0. 0. 0. 0. 0. 0. 0. 0.]\n",
      " [0. 0. 0. 0. 0. 0. 0. 0. 0. 0. 0. 0. 0. 0. 0. 0. 0. 0. 0. 0.]\n",
      " [0. 0. 0. 0. 0. 0. 0. 0. 0. 0. 0. 0. 0. 0. 0. 0. 0. 0. 0. 0.]\n",
      " [0. 0. 0. 0. 0. 0. 0. 0. 0. 0. 0. 0. 0. 0. 0. 0. 0. 0. 0. 0.]\n",
      " [0. 0. 0. 0. 0. 0. 0. 0. 0. 0. 0. 0. 0. 0. 0. 0. 0. 0. 0. 0.]\n",
      " [0. 0. 0. 0. 0. 0. 0. 0. 0. 0. 0. 0. 0. 0. 0. 0. 0. 0. 0. 0.]]\n"
     ]
    }
   ],
   "source": [
    "np.set_printoptions(threshold=float(\"inf\")) # снять ограничения\n",
    "a = np.zeros((20,20))\n",
    "print(a)"
   ]
  },
  {
   "cell_type": "markdown",
   "id": "ed655678",
   "metadata": {},
   "source": [
    "#### 50. How to find the closest value (to a given scalar) in a vector? (★★☆)"
   ]
  },
  {
   "cell_type": "code",
   "execution_count": 93,
   "id": "55e0812f",
   "metadata": {},
   "outputs": [
    {
     "name": "stdout",
     "output_type": "stream",
     "text": [
      "[0 1 2 3 4 5 6 7 8 9]\n",
      "3.1718446218904472\n",
      "3\n"
     ]
    }
   ],
   "source": [
    "a = np.arange(10)\n",
    "print(a)\n",
    "b = np.random.uniform(low=0,high=10) #случайное значение равномерного распределения на интервале\n",
    "print(b)\n",
    "index = (np.abs(a-b)).argmin()\n",
    "print(a[index])"
   ]
  },
  {
   "cell_type": "markdown",
   "id": "3f73f88f",
   "metadata": {},
   "source": [
    "#### 51. Create a structured array representing a position (x,y) and a color (r,g,b) (★★☆)"
   ]
  },
  {
   "cell_type": "code",
   "execution_count": 95,
   "id": "74b51105",
   "metadata": {},
   "outputs": [
    {
     "name": "stdout",
     "output_type": "stream",
     "text": [
      "[((0., 0.), (0., 0., 0.)) ((0., 0.), (0., 0., 0.))\n",
      " ((0., 0.), (0., 0., 0.)) ((0., 0.), (0., 0., 0.))\n",
      " ((0., 0.), (0., 0., 0.)) ((0., 0.), (0., 0., 0.))\n",
      " ((0., 0.), (0., 0., 0.)) ((0., 0.), (0., 0., 0.))\n",
      " ((0., 0.), (0., 0., 0.)) ((0., 0.), (0., 0., 0.))]\n"
     ]
    }
   ],
   "source": [
    "a = np.zeros(10, [ ('position', [ ('x', float),('y', float)]),('color',[ ('r', float),('g', float),('b', float)])])\n",
    "print(a)"
   ]
  },
  {
   "cell_type": "markdown",
   "id": "db83eee0",
   "metadata": {},
   "source": [
    "#### 52. Consider a random vector with shape (100,2) representing coordinates, find point by point distances (★★☆)"
   ]
  },
  {
   "cell_type": "code",
   "execution_count": 96,
   "id": "10884922",
   "metadata": {
    "scrolled": true
   },
   "outputs": [
    {
     "name": "stdout",
     "output_type": "stream",
     "text": [
      "[[0.         0.55832248 0.57436006 0.29231206 0.66754442 0.04993808\n",
      "  0.82763328 0.81919765 0.872055   0.71350189 0.65081258 0.21378873\n",
      "  0.83757536 0.10147607 0.44318742 0.50038859 0.24489242 0.6175929\n",
      "  0.8768061  0.57889673 0.18280026 0.49523313 0.68693313 0.3329316\n",
      "  0.27926261 0.67576292 0.11176036 0.12365633 0.88091633 0.26421824\n",
      "  0.53836413 0.63294123 0.53101638 0.82649289 0.46194269 0.26589852\n",
      "  0.58016208 0.23571197 0.23601455 0.67138923 0.5867662  0.10703567\n",
      "  0.72118623 0.68528395 0.8690268  0.49849325 0.39106853 0.9426704\n",
      "  0.61438465 0.25864794 0.37226329 0.68477175 0.66509871 0.43776614\n",
      "  0.70425999 0.31093377 0.75593055 0.57669349 0.14247927 0.19277191\n",
      "  0.11179069 0.28987269 0.41475851 0.0703312  0.12532533 0.75226867\n",
      "  0.32629856 0.16790529 0.30418706 0.12372649 0.73987546 0.66340075\n",
      "  0.21386116 0.3359126  0.83001094 0.25910441 0.43543123 0.90348719\n",
      "  0.80385019 0.45046274 0.47259776 0.76155444 0.88910659 0.3964488\n",
      "  0.49320362 0.98517133 0.73007944 0.22493988 0.61414831 0.37458236\n",
      "  0.0979106  0.44344255 1.0062655  0.15678892 0.70987769 0.99103641\n",
      "  0.12402517 0.5708449  0.8337072  0.71729197]\n",
      " [0.55832248 0.         0.01656113 0.31907168 0.97192397 0.58718694\n",
      "  0.30051362 0.26827041 0.32435983 0.2130403  0.13683183 0.34573203\n",
      "  0.31221841 0.58064469 0.74979252 0.68707493 0.46332987 0.81096943\n",
      "  0.55997458 0.73808334 0.38489668 0.17522902 0.27954503 0.23316606\n",
      "  0.62711016 0.64571469 0.6331161  0.68130159 0.44766436 0.36628011\n",
      "  0.66576148 0.10306831 0.57235063 0.75069281 0.49905072 0.52369752\n",
      "  0.30414937 0.34481678 0.73840771 0.25056581 0.22450188 0.45137085\n",
      "  0.55073883 0.28953192 0.3915254  0.07384087 0.2861156  0.70637714\n",
      "  0.74169715 0.32413112 0.19090951 0.18646438 0.61804024 0.21412673\n",
      "  1.03975807 0.56088865 0.59929068 0.01842343 0.6842982  0.37703131\n",
      "  0.46731586 0.70286449 0.27567086 0.62181113 0.5312379  0.5073243\n",
      "  0.38510048 0.46217479 0.58032557 0.43855022 0.61472547 0.43254502\n",
      "  0.47019759 0.41757552 0.61102653 0.65391011 0.25011397 0.53983036\n",
      "  0.69821177 0.51996183 0.08621141 0.74962866 0.58448747 0.69437375\n",
      "  0.24004819 0.69688416 0.75127023 0.72744573 0.69091563 0.78480167\n",
      "  0.48203588 0.14975596 0.70189358 0.52639513 0.85514856 0.67747761\n",
      "  0.66444804 0.12061739 0.33504079 0.80349057]\n",
      " [0.57436006 0.01656113 0.         0.33546803 0.9867073  0.60289408\n",
      "  0.28951156 0.25171735 0.30783727 0.19981408 0.13127984 0.36196422\n",
      "  0.30131606 0.59573908 0.76524322 0.70127891 0.47959793 0.82461363\n",
      "  0.56062058 0.75152749 0.40132163 0.18719686 0.27986903 0.2497019\n",
      "  0.64333103 0.65577377 0.64956876 0.69741881 0.44304748 0.37950093\n",
      "  0.67912651 0.09635637 0.58488514 0.75858569 0.51241095 0.53981077\n",
      "  0.31180131 0.36137187 0.75496632 0.25077772 0.23035552 0.4673772\n",
      "  0.5575587  0.2904126  0.38430822 0.08576299 0.30103078 0.70915236\n",
      "  0.75454012 0.34069218 0.20601721 0.18109152 0.62792073 0.22269807\n",
      "  1.05481829 0.57669606 0.6060064  0.00363727 0.70068242 0.3923459\n",
      "  0.48374489 0.71602336 0.29001159 0.63803627 0.5477915  0.51185477\n",
      "  0.39608798 0.47873387 0.59624261 0.45481474 0.62231994 0.43892195\n",
      "  0.48663017 0.43295766 0.61533564 0.67030063 0.2640141  0.53833632\n",
      "  0.70562267 0.53368115 0.10259932 0.75929475 0.58545069 0.70994489\n",
      "  0.24441946 0.69759967 0.7617564  0.74400275 0.7031039  0.80104315\n",
      "  0.49748802 0.16541284 0.70187256 0.54066766 0.86772029 0.67722463\n",
      "  0.67996563 0.11757446 0.32662213 0.81512889]\n",
      " [0.29231206 0.31907168 0.33546803 0.         0.67750267 0.33588123\n",
      "  0.54845969 0.58638627 0.64293862 0.51764263 0.37753273 0.11840867\n",
      "  0.55748139 0.35768134 0.44479544 0.41265727 0.14538253 0.54459194\n",
      "  0.59603921 0.47954099 0.11669639 0.20863314 0.39495365 0.1020053\n",
      "  0.30924104 0.47623388 0.33508939 0.40269599 0.58861376 0.27183478\n",
      "  0.41356579 0.36716927 0.3510903  0.61837402 0.26635768 0.20804581\n",
      "  0.29077069 0.06266393 0.4266671  0.38043104 0.29512732 0.20313492\n",
      "  0.46878501 0.39303581 0.57873832 0.28510322 0.10098233 0.68327895\n",
      "  0.49730668 0.04583723 0.19140772 0.40430746 0.45637755 0.31416388\n",
      "  0.73934397 0.25137114 0.51102934 0.33658822 0.38984714 0.19501997\n",
      "  0.18180151 0.53362588 0.12390138 0.34000256 0.22409204 0.48089624\n",
      "  0.3443865  0.15139403 0.2679966  0.17348334 0.50518512 0.38879778\n",
      "  0.15128549 0.13219111 0.57020454 0.33483858 0.14313417 0.61622693\n",
      "  0.58172188 0.27321103 0.23817402 0.57836858 0.61107597 0.3876724\n",
      "  0.38181718 0.7138126  0.56129755 0.41623735 0.46586662 0.46651482\n",
      "  0.25895426 0.17511231 0.7318695  0.34451741 0.61135548 0.71427678\n",
      "  0.41523371 0.38230232 0.54704771 0.58350773]\n",
      " [0.66754442 0.97192397 0.9867073  0.67750267 0.         0.7020656\n",
      "  1.09275301 1.21989713 1.27646494 1.18298518 0.97172241 0.73471969\n",
      "  1.09654435 0.76244861 0.23771246 0.29133316 0.54191192 0.20164743\n",
      "  0.86051752 0.2696416  0.69016668 0.80773265 0.88366945 0.7795078\n",
      "  0.40209396 0.48484746 0.5666481  0.63344601 0.99843884 0.88080652\n",
      "  0.33446969 0.97948419 0.44081878 0.56037384 0.48752377 0.478348\n",
      "  0.7510089  0.68922049 0.47200868 0.89165427 0.82611798 0.7056085\n",
      "  0.64910521 0.87210986 1.04731766 0.9558108  0.68582625 0.79787166\n",
      "  0.29564959 0.69821473 0.86809977 0.97143702 0.50590875 0.98687693\n",
      "  0.0783982  0.4285025  0.63924154 0.98664771 0.57436862 0.78377065\n",
      "  0.64289058 0.92575905 0.6971212  0.62312555 0.56713336 0.73639543\n",
      "  0.95730903 0.59279453 0.41612863 0.68254783 0.60038127 0.70750219\n",
      "  0.55267917 0.55695669 0.73033812 0.40995617 0.72427188 0.9277407\n",
      "  0.5902499  0.46158376 0.90366078 0.46638747 0.85216696 0.29448292\n",
      "  1.05452155 0.88178169 0.42063315 0.47834196 0.36250091 0.30222112\n",
      "  0.74531226 0.82348006 0.91300927 0.8238074  0.25051119 0.91542923\n",
      "  0.71902085 1.05570888 1.05406019 0.33368257]\n",
      " [0.04993808 0.58718694 0.60289408 0.33588123 0.7020656  0.\n",
      "  0.86337181 0.84375293 0.89543769 0.73205946 0.68574725 0.2476894\n",
      "  0.87358026 0.06040759 0.48275913 0.54639608 0.29481006 0.66119076\n",
      "  0.92434614 0.6247951  0.22264176 0.53503246 0.72903561 0.36774201\n",
      "  0.32191962 0.72548782 0.13636593 0.11068724 0.92400005 0.26908605\n",
      "  0.58606726 0.66620489 0.58065382 0.87622305 0.51187536 0.31493472\n",
      "  0.62548554 0.27703282 0.25303724 0.71253389 0.62864125 0.1396027\n",
      "  0.7706951  0.72790903 0.90937475 0.52419402 0.43579627 0.99208275\n",
      "  0.66108674 0.29955885 0.39806273 0.72151126 0.7149654  0.45131971\n",
      "  0.73500175 0.35885891 0.80568113 0.6054154  0.14919774 0.21285007\n",
      "  0.15853073 0.24213896 0.45928329 0.08170353 0.17413881 0.80074463\n",
      "  0.32231716 0.21735761 0.35104768 0.16341161 0.78977313 0.71144087\n",
      "  0.26378386 0.38536253 0.87932302 0.29761143 0.47883337 0.94972841\n",
      "  0.853769   0.50028061 0.50241238 0.81071778 0.93703383 0.43830998\n",
      "  0.50243135 1.03386164 0.77879412 0.24280529 0.66245205 0.40442218\n",
      "  0.10810591 0.47966786 1.05468766 0.13287394 0.75466298 1.03919204\n",
      "  0.08016651 0.59062112 0.87218799 0.76434974]\n",
      " [0.82763328 0.30051362 0.28951156 0.54845969 1.09275301 0.86337181\n",
      "  0.         0.23728962 0.26981533 0.34595271 0.17809628 0.61568682\n",
      "  0.01200251 0.8658883  0.90422443 0.80304693 0.67221958 0.90306561\n",
      "  0.40328954 0.82884374 0.64538437 0.34054232 0.20995174 0.49563317\n",
      "  0.82334798 0.66141958 0.88337858 0.94607553 0.21930617 0.66458608\n",
      "  0.75948627 0.20246777 0.65324469 0.71060116 0.60903676 0.72000467\n",
      "  0.34235054 0.59516967 0.9710367  0.20145437 0.27648241 0.72388668\n",
      "  0.51076129 0.22238965 0.13143672 0.37434408 0.46965648 0.5716413\n",
      "  0.81599376 0.57215142 0.48285074 0.14415669 0.6327396  0.51115797\n",
      "  1.16835468 0.74063522 0.55053675 0.28599792 0.93785451 0.66252485\n",
      "  0.72418939 1.00055707 0.4479289  0.88393747 0.77241274 0.43035758\n",
      "  0.68549262 0.69959894 0.76359346 0.70396202 0.58172431 0.40659754\n",
      "  0.6897234  0.59431117 0.51427812 0.86049033 0.41958702 0.34903424\n",
      "  0.6527213  0.63679612 0.37215945 0.74747454 0.43016101 0.85637549\n",
      "  0.52307446 0.52708654 0.76740522 0.96115855 0.75222446 0.97579658\n",
      "  0.76396117 0.38419531 0.51944579 0.81923617 0.91551218 0.49308435\n",
      "  0.94300053 0.37949592 0.07014101 0.84324661]\n",
      " [0.81919765 0.26827041 0.25171735 0.58638627 1.21989713 0.84375293\n",
      "  0.23728962 0.         0.05709976 0.14995771 0.25336641 0.60985127\n",
      "  0.24586571 0.82961301 1.00655612 0.92988571 0.72938652 1.04596841\n",
      "  0.6339583  0.97139529 0.65111196 0.41290779 0.39133537 0.50095953\n",
      "  0.89249098 0.83954515 0.89937291 0.94282514 0.45638294 0.59807282\n",
      "  0.89902174 0.24073322 0.7975654  0.91362542 0.73500199 0.78819077\n",
      "  0.49069154 0.61283423 1.00645257 0.36891187 0.40557294 0.7123612\n",
      "  0.70810671 0.40536721 0.36854111 0.32077424 0.54152928 0.80088886\n",
      "  0.96769904 0.59234709 0.44693494 0.27044315 0.81051835 0.41348757\n",
      "  1.29090933 0.8222129  0.75277769 0.25027852 0.94950865 0.63093906\n",
      "  0.73343747 0.92567123 0.52646582 0.88492981 0.79917804 0.63845034\n",
      "  0.59166364 0.73042804 0.84271312 0.70267534 0.77874624 0.59255936\n",
      "  0.73767105 0.67548936 0.73215451 0.92091826 0.49805837 0.58444236\n",
      "  0.85654035 0.75942494 0.35332718 0.9357177  0.66096405 0.95268934\n",
      "  0.39452762 0.76199187 0.94780001 0.99544307 0.90975329 1.05023322\n",
      "  0.73627246 0.4131398  0.75570597 0.76604157 1.07638324 0.72934387\n",
      "  0.91814769 0.26162275 0.30693666 1.01364672]\n",
      " [0.872055   0.32435983 0.30783727 0.64293862 1.27646494 0.89543769\n",
      "  0.26981533 0.05709976 0.         0.18213683 0.30808506 0.66396354\n",
      "  0.27669879 0.87953155 1.06360092 0.9862476  0.78619419 1.10164003\n",
      "  0.67208556 1.02699988 0.70582471 0.46980022 0.43998447 0.55648828\n",
      "  0.94939962 0.89158432 0.95390759 0.99571103 0.48818239 0.64576805\n",
      "  0.95470762 0.29703604 0.85276216 0.96165686 0.79111581 0.84515735\n",
      "  0.54427268 0.66843578 1.06197007 0.41893623 0.45983484 0.76543373\n",
      "  0.75672825 0.45402219 0.39845248 0.37431615 0.59862278 0.84003806\n",
      "  1.02266865 0.64816422 0.49998275 0.32173219 0.86252677 0.45915077\n",
      "  1.34765854 0.87930226 0.80057896 0.30652201 1.00360008 0.68260762\n",
      "  0.78803487 0.969626   0.5835003  0.9383633  0.85464793 0.68453422\n",
      "  0.63505482 0.78629185 0.8997823  0.75663821 0.82766086 0.642556\n",
      "  0.79420784 0.7325864  0.77588269 0.977594   0.55505442 0.61881114\n",
      "  0.90427752 0.81573139 0.40885832 0.98652473 0.69904786 1.00977243\n",
      "  0.43450259 0.79688192 0.99977561 1.05091641 0.96415331 1.10715252\n",
      "  0.78765542 0.47002109 0.78878427 0.81418699 1.13074097 0.76244375\n",
      "  0.96897426 0.30854415 0.33988506 1.0669597 ]\n",
      " [0.71350189 0.2130403  0.19981408 0.51764263 1.18298518 0.73205946\n",
      "  0.34595271 0.14995771 0.18213683 0.         0.27744389 0.51451806\n",
      "  0.35689903 0.71079572 0.95767046 0.89964853 0.66293401 1.023994\n",
      "  0.70897085 0.95111822 0.55962798 0.38682661 0.43812877 0.42077442\n",
      "  0.82645689 0.85127325 0.80361162 0.83644871 0.55325793 0.47330733\n",
      "  0.87877841 0.24839659 0.78461975 0.94619965 0.71206134 0.7255511\n",
      "  0.50208014 0.5303526  0.91817986 0.41061745 0.41658001 0.60887617\n",
      "  0.7417598  0.45116067 0.4732153  0.23278154 0.49759419 0.86935263\n",
      "  0.95435134 0.51276552 0.34855514 0.3158414  0.82298718 0.28486718\n",
      "  1.24962295 0.76630495 0.78933013 0.20065602 0.85026803 0.52106794\n",
      "  0.63982529 0.79044198 0.48829347 0.7820057  0.71234154 0.68544918\n",
      "  0.45608855 0.6487304  0.78448423 0.60486444 0.80936492 0.62252005\n",
      "  0.6653958  0.62672248 0.78618972 0.84885853 0.46310424 0.67109549\n",
      "  0.89141122 0.73297597 0.28094814 0.95343015 0.73545406 0.90146845\n",
      "  0.25359491 0.84351908 0.95820567 0.90682238 0.90258544 0.98295149\n",
      "  0.62399943 0.35953777 0.84208407 0.64160101 1.06744969 0.81611411\n",
      "  0.80238077 0.143165   0.40895464 1.01390144]\n",
      " [0.65081258 0.13683183 0.13127984 0.37753273 0.97172241 0.68574725\n",
      "  0.17809628 0.25336641 0.30808506 0.27744389 0.         0.43815066\n",
      "  0.18875719 0.68779477 0.76583707 0.68066312 0.50946373 0.79396385\n",
      "  0.43886602 0.71925091 0.46921995 0.17589642 0.16154166 0.31816502\n",
      "  0.66711371 0.58867708 0.71061326 0.77031899 0.31179923 0.49019728\n",
      "  0.64709815 0.03550591 0.54471093 0.67261867 0.48475329 0.56232357\n",
      "  0.23803328 0.42037575 0.80364089 0.13344636 0.15230857 0.54640396\n",
      "  0.46706125 0.17418013 0.25521618 0.20808222 0.30934078 0.59458595\n",
      "  0.71458771 0.397542   0.30665741 0.04981638 0.55976874 0.35043767\n",
      "  1.04426092 0.58945897 0.51393893 0.12769188 0.76451169 0.48452637\n",
      "  0.54913472 0.82489734 0.29026731 0.7085241  0.60129794 0.40804453\n",
      "  0.51709921 0.52882003 0.61142976 0.52733024 0.53605682 0.34846816\n",
      "  0.52388811 0.44105895 0.50884601 0.70092331 0.26105618 0.41078132\n",
      "  0.61687077 0.51016589 0.19656522 0.68717969 0.46462243 0.71413251\n",
      "  0.37568707 0.57540199 0.69686481 0.79337718 0.65638782 0.8230688\n",
      "  0.5858832  0.2078361  0.57745913 0.6419474  0.8230171  0.55224899\n",
      "  0.76523128 0.2439344  0.20096886 0.76080507]\n",
      " [0.21378873 0.34573203 0.36196422 0.11840867 0.73471969 0.2476894\n",
      "  0.61568682 0.60985127 0.66396354 0.51451806 0.43815066 0.\n",
      "  0.62589171 0.2556397  0.49707019 0.49413924 0.19654648 0.62582453\n",
      "  0.70884264 0.56705086 0.04741571 0.2910905  0.48867032 0.12005384\n",
      "  0.33929244 0.58906129 0.29033872 0.33589583 0.68527654 0.16199748\n",
      "  0.50661484 0.41936636 0.45745147 0.73364995 0.37400217 0.25753927\n",
      "  0.39950797 0.06092747 0.40381545 0.46999831 0.38851187 0.10825589\n",
      "  0.58718685 0.48901666 0.66473087 0.28976349 0.21419128 0.80106036\n",
      "  0.59051555 0.07257488 0.16614362 0.47396367 0.5706152  0.26124113\n",
      "  0.78900364 0.3097473  0.62937095 0.36414989 0.33967093 0.07675083\n",
      "  0.12533495 0.42077507 0.23482458 0.2760791  0.19985038 0.59740446\n",
      "  0.23871495 0.14589963 0.31919501 0.09292178 0.62297292 0.50501993\n",
      "  0.18209938 0.23275072 0.68813513 0.34979459 0.24739865 0.72443348\n",
      "  0.69859568 0.37603817 0.25964378 0.68911576 0.72502197 0.44027769\n",
      "  0.32665967 0.82953035 0.66885748 0.39242053 0.56691122 0.48610175\n",
      "  0.15288497 0.23214024 0.8466815  0.23008696 0.70166621 0.82833553\n",
      "  0.32744793 0.3716395  0.62547455 0.6829599 ]\n",
      " [0.83757536 0.31221841 0.30131606 0.55748139 1.09654435 0.87358026\n",
      "  0.01200251 0.24586571 0.27669879 0.35689903 0.18875719 0.62589171\n",
      "  0.         0.87650987 0.9096375  0.80723009 0.68017277 0.90607834\n",
      "  0.39788565 0.83198775 0.65520288 0.34928034 0.21305945 0.50584341\n",
      "  0.83049679 0.66218766 0.8924991  0.95573755 0.21160978 0.67599924\n",
      "  0.76294856 0.21375662 0.65661673 0.70886847 0.61370849 0.7273858\n",
      "  0.3468218  0.60473753 0.97936648 0.20609705 0.28292168 0.73405389\n",
      "  0.51005048 0.22513072 0.12272154 0.38605625 0.47764601 0.56632579\n",
      "  0.81853315 0.58169895 0.49403353 0.15337958 0.63359993 0.52306241\n",
      "  1.17235037 0.74736415 0.54918286 0.2977955  0.94705657 0.67327844\n",
      "  0.73375538 1.01187102 0.45572765 0.89353635 0.78132176 0.42864022\n",
      "  0.69724504 0.70849589 0.77039294 0.71387642 0.58086808 0.40745381\n",
      "  0.698006   0.6014201  0.51100246 0.86796047 0.42753834 0.34224831\n",
      "  0.65098877 0.64159102 0.38336972 0.74718086 0.42467846 0.862173\n",
      "  0.53507697 0.52032745 0.76778698 0.96954165 0.75445372 0.98249391\n",
      "  0.7744864  0.39419163 0.51211747 0.83026574 0.91725155 0.48577008\n",
      "  0.95327106 0.39148758 0.06367014 0.84434847]\n",
      " [0.10147607 0.58064469 0.59573908 0.35768134 0.76244861 0.06040759\n",
      "  0.8658883  0.82961301 0.87953155 0.71079572 0.68779477 0.2556397\n",
      "  0.87650987 0.         0.54222556 0.6018317  0.33824011 0.71877294\n",
      "  0.95253338 0.6803465  0.24109104 0.54672999 0.7440044  0.37326468\n",
      "  0.37995358 0.77185439 0.1966519  0.15852996 0.94037937 0.23905749\n",
      "  0.63909016 0.6656853  0.62783624 0.92239995 0.55576385 0.36528112\n",
      "  0.64832145 0.29592032 0.31100284 0.72562234 0.6436825  0.15454841\n",
      "  0.80788373 0.74399054 0.92009428 0.51384361 0.45866327 1.02826313\n",
      "  0.71564593 0.31704584 0.38974841 0.72639131 0.75990452 0.42664811\n",
      "  0.79527516 0.41166397 0.84477385 0.59850936 0.20516374 0.20413345\n",
      "  0.19309338 0.19075475 0.48142979 0.14130444 0.22573494 0.83264294\n",
      "  0.28147126 0.25789929 0.40549699 0.18547972 0.83087364 0.74192655\n",
      "  0.30765908 0.42372589 0.91505892 0.35723976 0.49827898 0.9738838\n",
      "  0.89754596 0.54620826 0.49813756 0.85991541 0.9665395  0.49684153\n",
      "  0.47223769 1.06622773 0.82946086 0.30110654 0.71422102 0.46470595\n",
      "  0.1029171  0.48566396 1.08588672 0.08148366 0.81132078 1.069365\n",
      "  0.09402413 0.57185481 0.87949484 0.81837895]\n",
      " [0.44318742 0.74979252 0.76524322 0.44479544 0.23771246 0.48275913\n",
      "  0.90422443 1.00655612 1.06360092 0.95767046 0.76583707 0.49707019\n",
      "  0.9096375  0.54222556 0.         0.13961823 0.30553084 0.19361744\n",
      "  0.74261872 0.19166584 0.45245691 0.59438313 0.70128734 0.54649036\n",
      "  0.16751072 0.3957969  0.35290006 0.43270924 0.84520276 0.64384894\n",
      "  0.2058739  0.76895101 0.2887308  0.52258561 0.29988109 0.24149149\n",
      "  0.56442872 0.45255099 0.2884836  0.7038681  0.6292155  0.47072981\n",
      "  0.53190182 0.69150888 0.87910001 0.72732758 0.46553763 0.7256203\n",
      "  0.23635428 0.46254114 0.63372214 0.77272085 0.40483326 0.75070084\n",
      "  0.29477904 0.19354823 0.53955404 0.76554689 0.37426287 0.54664915\n",
      "  0.40726054 0.7178206  0.48010546 0.40886149 0.33398135 0.60754731\n",
      "  0.72070959 0.35528934 0.17923526 0.44629956 0.50565167 0.55425447\n",
      "  0.31510978 0.33231826 0.63353441 0.18519576 0.50866708 0.80020619\n",
      "  0.52930668 0.27122768 0.67682529 0.43183401 0.74120922 0.05739182\n",
      "  0.8181799  0.79839638 0.38692113 0.29052875 0.27786566 0.13737063\n",
      "  0.51368354 0.60008466 0.82757586 0.59676854 0.29284001 0.82330728\n",
      "  0.5133097  0.82617521 0.87498431 0.33298351]\n",
      " [0.50038859 0.68707493 0.70127891 0.41265727 0.29133316 0.54639608\n",
      "  0.80304693 0.92988571 0.9862476  0.89964853 0.68066312 0.49413924\n",
      "  0.80723009 0.6018317  0.13961823 0.         0.29942306 0.13228341\n",
      "  0.60834829 0.07852791 0.45613134 0.51905305 0.59495714 0.51246718\n",
      "  0.23039254 0.25621122 0.43222076 0.52094947 0.72299537 0.65321949\n",
      "  0.06625594 0.68921872 0.15886193 0.38662983 0.19619307 0.24675735\n",
      "  0.46077776 0.43938002 0.39964995 0.60165101 0.53482641 0.49835811\n",
      "  0.395883   0.58386658 0.76446522 0.67758289 0.40269276 0.58604319\n",
      "  0.11638197 0.4425472  0.60303066 0.68015061 0.26549915 0.72679009\n",
      "  0.36557607 0.19450818 0.40099199 0.70096717 0.46657063 0.55744647\n",
      "  0.43480287 0.78828973 0.41141741 0.48364333 0.37738662 0.47501817\n",
      "  0.73102115 0.37118848 0.19676467 0.46807375 0.36647962 0.42996973\n",
      "  0.32098284 0.28266546 0.4951883  0.26889297 0.43738177 0.66866242\n",
      "  0.39041328 0.17056919 0.62387598 0.29899155 0.60551167 0.13445975\n",
      "  0.79437469 0.65943188 0.2565025  0.39876858 0.14142863 0.27197918\n",
      "  0.55077757 0.54099851 0.68883737 0.64199152 0.21205703 0.68519353\n",
      "  0.5927499  0.77807704 0.76694647 0.22043696]\n",
      " [0.24489242 0.46332987 0.47959793 0.14538253 0.54191192 0.29481006\n",
      "  0.67221958 0.72938652 0.78619419 0.66293401 0.50946373 0.19654648\n",
      "  0.68017277 0.33824011 0.30553084 0.29942306 0.         0.43027581\n",
      "  0.6457915  0.37438503 0.15675068 0.33420433 0.49599962 0.24420399\n",
      "  0.16395354 0.43396143 0.2374593  0.32261921 0.67826448 0.35386465\n",
      "  0.31886508 0.50353883 0.29093336 0.58432662 0.21762281 0.06430749\n",
      "  0.37021249 0.14732431 0.30101439 0.48768543 0.40241845 0.20706158\n",
      "  0.47830316 0.49081463 0.68384497 0.43026506 0.20256426 0.70006013\n",
      "  0.40145369 0.15719113 0.32909499 0.52966831 0.42166453 0.44519926\n",
      "  0.60001907 0.11393366 0.51164906 0.48054737 0.29168488 0.25807904\n",
      "  0.14847246 0.52867636 0.22457333 0.26408803 0.12935054 0.51597833\n",
      "  0.43170415 0.08121037 0.12634129 0.1741588  0.49500197 0.43090562\n",
      "  0.03104365 0.0971569  0.58812317 0.19227339 0.25264243 0.68049471\n",
      "  0.55959182 0.20847944 0.38347712 0.52478887 0.65557248 0.24815754\n",
      "  0.51273819 0.74663072 0.49747415 0.29184431 0.38679842 0.32150049\n",
      "  0.26454284 0.31631218 0.76924866 0.35889693 0.50952036 0.75565364\n",
      "  0.36359535 0.52657737 0.66117571 0.49876579]\n",
      " [0.6175929  0.81096943 0.82461363 0.54459194 0.20164743 0.66119076\n",
      "  0.90306561 1.04596841 1.10164003 1.023994   0.79396385 0.62582453\n",
      "  0.90607834 0.71877294 0.19361744 0.13228341 0.43027581 0.\n",
      "  0.65897575 0.07480371 0.58698956 0.63962328 0.69313663 0.64387325\n",
      "  0.33933571 0.28357552 0.53800807 0.62201788 0.79871387 0.78407949\n",
      "  0.1469468  0.80553964 0.25079005 0.37231384 0.31265006 0.37484553\n",
      "  0.56455052 0.57153758 0.48203962 0.70355346 0.64422317 0.62512791\n",
      "  0.44747778 0.68094967 0.85053502 0.80545138 0.52955675 0.60253818\n",
      "  0.09401012 0.57483038 0.73449011 0.78856635 0.30426779 0.85860501\n",
      "  0.28000883 0.32167566 0.43816534 0.82407326 0.56454016 0.68780735\n",
      "  0.56104896 0.90096306 0.53631243 0.59242698 0.49824849 0.53501125\n",
      "  0.86193932 0.49936158 0.31993691 0.59595097 0.39950889 0.5096866\n",
      "  0.4503739  0.41388413 0.53002531 0.36915928 0.56090081 0.72609901\n",
      "  0.39535929 0.29102536 0.75124302 0.27696157 0.65096849 0.22478172\n",
      "  0.92610606 0.68452511 0.22981607 0.48384684 0.16100222 0.32547179\n",
      "  0.67540325 0.66730224 0.71551037 0.7646198  0.09925211 0.71671199\n",
      "  0.69968823 0.90588165 0.86067812 0.15371906]\n",
      " [0.8768061  0.55997458 0.56062058 0.59603921 0.86051752 0.92434614\n",
      "  0.40328954 0.6339583  0.67208556 0.70897085 0.43886602 0.70884264\n",
      "  0.39788565 0.95253338 0.74261872 0.60834829 0.6457915  0.65897575\n",
      "  0.         0.59600529 0.71250957 0.44816473 0.28075752 0.61363241\n",
      "  0.73943016 0.37585662 0.88282269 0.96811346 0.19695633 0.83141583\n",
      "  0.54564752 0.4730844  0.45401454 0.35332    0.46606393 0.66068204\n",
      "  0.31104349 0.65862834 0.92377152 0.30985721 0.35210165 0.79841435\n",
      "  0.21351744 0.27044271 0.28435698 0.61593019 0.49566257 0.16845242\n",
      "  0.5651181  0.63932848 0.66051181 0.39465126 0.3549089  0.75210798\n",
      "  0.93876661 0.6509521  0.22270637 0.55743018 0.93620335 0.7811454\n",
      "  0.76581644 1.12905549 0.47414966 0.90830702 0.77432989 0.13667087\n",
      "  0.88442003 0.7115752  0.67330406 0.76708819 0.26198035 0.21489125\n",
      "  0.67482751 0.54866992 0.14140487 0.7857977  0.4627213  0.0741422\n",
      "  0.30001997 0.49189593 0.57782469 0.42180883 0.02700636 0.71436135\n",
      "  0.79443227 0.1369815  0.45787532 0.91726039 0.49892607 0.85733482\n",
      "  0.85498835 0.52417077 0.14383367 0.93881044 0.63206868 0.12174744\n",
      "  1.00055088 0.67800726 0.33427099 0.54711805]\n",
      " [0.57889673 0.73808334 0.75152749 0.47954099 0.2696416  0.6247951\n",
      "  0.82884374 0.97139529 1.02699988 0.95111822 0.71925091 0.56705086\n",
      "  0.83198775 0.6803465  0.19166584 0.07852791 0.37438503 0.07480371\n",
      "  0.59600529 0.         0.53059882 0.56597387 0.61897071 0.57713957\n",
      "  0.30731141 0.22485753 0.50921831 0.59711676 0.72881692 0.72736031\n",
      "  0.07259184 0.73106126 0.17609317 0.33498369 0.23914068 0.32405317\n",
      "  0.48984593 0.51074481 0.46987942 0.62904853 0.56942213 0.57565651\n",
      "  0.3828842  0.60689441 0.77842288 0.73450394 0.45850432 0.55252538\n",
      "  0.04469399 0.5122442  0.66769279 0.71377283 0.24185341 0.79253176\n",
      "  0.34774988 0.27236411 0.37843599 0.75091514 0.5418526  0.63233216\n",
      "  0.5123682  0.86660114 0.46424866 0.56127389 0.45588301 0.46848303\n",
      "  0.80499406 0.44807487 0.27525854 0.54492992 0.34086673 0.43807685\n",
      "  0.39726307 0.34765967 0.47199272 0.34386719 0.48823655 0.66116074\n",
      "  0.34866319 0.21874787 0.68004185 0.24198565 0.58974032 0.20352072\n",
      "  0.85971783 0.6312742  0.19611718 0.46990839 0.09882751 0.32902119\n",
      "  0.62867107 0.59562761 0.66174173 0.72020586 0.13514534 0.66099083\n",
      "  0.67020245 0.83478803 0.78724026 0.14534042]\n",
      " [0.18280026 0.38489668 0.40132163 0.11669639 0.69016668 0.22264176\n",
      "  0.64538437 0.65111196 0.70582471 0.55962798 0.46921995 0.04741571\n",
      "  0.65520288 0.24109104 0.45245691 0.45613134 0.15675068 0.58698956\n",
      "  0.71250957 0.53059882 0.         0.31275405 0.5065109  0.15333392\n",
      "  0.29288648 0.56723371 0.2483306  0.30112766 0.70188275 0.19711398\n",
      "  0.47274171 0.45284446 0.43111418 0.71431898 0.34957777 0.21499663\n",
      "  0.40723066 0.05498816 0.35863881 0.48989843 0.40608242 0.08657968\n",
      "  0.57828305 0.50561006 0.6869417  0.33246309 0.21765132 0.79567675\n",
      "  0.55616416 0.0770142  0.21110967 0.50220165 0.55051627 0.30863817\n",
      "  0.74333023 0.26792302 0.61847738 0.40329981 0.29952863 0.10197557\n",
      "  0.08242571 0.41826383 0.24033982 0.23961737 0.15321818 0.59560958\n",
      "  0.27495781 0.09906006 0.27581182 0.05939506 0.60923687 0.50394061\n",
      "  0.13873452 0.20791576 0.68235339 0.30247398 0.25769483 0.73280209\n",
      "  0.68219233 0.34847124 0.29872565 0.66479952 0.72723004 0.39601074\n",
      "  0.37390199 0.82896928 0.64202368 0.3473225  0.53647153 0.43875044\n",
      "  0.14264647 0.26143973 0.84758459 0.23112691 0.66564328 0.83033825\n",
      "  0.30271733 0.41709293 0.65093529 0.65109062]\n",
      " [0.49523313 0.17522902 0.18719686 0.20863314 0.80773265 0.53503246\n",
      "  0.34054232 0.41290779 0.46980022 0.38682661 0.17589642 0.2910905\n",
      "  0.34928034 0.54672999 0.59438313 0.51905305 0.33420433 0.63962328\n",
      "  0.44816473 0.56597387 0.31275405 0.         0.19896235 0.1769057\n",
      "  0.49122559 0.47260063 0.54368312 0.6099044  0.39570947 0.38736381\n",
      "  0.49342201 0.17476061 0.39780479 0.58482768 0.32697546 0.38642717\n",
      "  0.14833926 0.25966195 0.63093122 0.17899967 0.10104353 0.39628854\n",
      "  0.3920503  0.20086782 0.37436599 0.19463137 0.13346511 0.57271504\n",
      "  0.56772978 0.2366407  0.21235142 0.19665809 0.44543883 0.31239068\n",
      "  0.8781531  0.41434898 0.44054869 0.18620163 0.59847993 0.35248539\n",
      "  0.38779016 0.70444825 0.11512421 0.54732352 0.43210624 0.36505736\n",
      "  0.4365557  0.35927709 0.43605207 0.37214614 0.45110374 0.27937439\n",
      "  0.34995846 0.2660228  0.46775475 0.52520853 0.08604572 0.4491589\n",
      "  0.53487959 0.34955064 0.14368236 0.57735696 0.46892098 0.54136869\n",
      "  0.36484151 0.58024259 0.57714429 0.62093279 0.51590872 0.64735577\n",
      "  0.44392739 0.0760074  0.59158557 0.51452452 0.68062707 0.56988945\n",
      "  0.61519405 0.28614686 0.33908012 0.62826296]\n",
      " [0.68693313 0.27954503 0.27986903 0.39495365 0.88366945 0.72903561\n",
      "  0.20995174 0.39133537 0.43998447 0.43812877 0.16154166 0.48867032\n",
      "  0.21305945 0.7440044  0.70128734 0.59495714 0.49599962 0.69313663\n",
      "  0.28075752 0.61897071 0.5065109  0.19896235 0.         0.37586282\n",
      "  0.63501914 0.45637819 0.7235191  0.79665894 0.1968133  0.58262555\n",
      "  0.54990682 0.19418828 0.44356026 0.52229005 0.40297386 0.53535219\n",
      "  0.13697967 0.45200958 0.79675536 0.0291047  0.10045351 0.59180576\n",
      "  0.31687468 0.01404384 0.18786431 0.33863448 0.30023692 0.43321059\n",
      "  0.60615596 0.42951371 0.40121783 0.12428069 0.42740492 0.47852778\n",
      "  0.95968454 0.54855669 0.36149234 0.27667328 0.77887347 0.55144249\n",
      "  0.5767486  0.90337665 0.27642938 0.73402035 0.61027736 0.24954213\n",
      "  0.62546474 0.53870819 0.57204159 0.56562555 0.38770614 0.20336745\n",
      "  0.51826119 0.40817066 0.34839639 0.67556354 0.25254721 0.26291815\n",
      "  0.46524656 0.43122875 0.30600712 0.54776195 0.30572543 0.65595993\n",
      "  0.5163584  0.41773883 0.56379102 0.78776706 0.54271952 0.78211833\n",
      "  0.6414989  0.26960946 0.42235067 0.71347828 0.70679933 0.39800504\n",
      "  0.80895596 0.39725885 0.17372662 0.63640742]\n",
      " [0.3329316  0.23316606 0.2497019  0.1020053  0.7795078  0.36774201\n",
      "  0.49563317 0.50095953 0.55648828 0.42077442 0.31816502 0.12005384\n",
      "  0.50584341 0.37326468 0.54649036 0.51246718 0.24420399 0.64387325\n",
      "  0.61363241 0.57713957 0.15333392 0.1769057  0.37586282 0.\n",
      "  0.40649884 0.55220744 0.40058719 0.45367865 0.57256461 0.2186446\n",
      "  0.50931047 0.30013547 0.43817865 0.68702698 0.35397149 0.3080301\n",
      "  0.30291795 0.11196453 0.50550836 0.35523406 0.27724776 0.22827194\n",
      "  0.51841697 0.37760959 0.54728963 0.18830549 0.14279316 0.72150953\n",
      "  0.59230596 0.09245869 0.09062362 0.35408948 0.52960837 0.21555488\n",
      "  0.841153   0.35295952 0.56416498 0.25146277 0.45258811 0.17564832\n",
      "  0.23533226 0.52755519 0.15478817 0.39265964 0.29821854 0.51358083\n",
      "  0.27943768 0.23026657 0.36891213 0.2099219  0.56454504 0.42181023\n",
      "  0.24471979 0.22999155 0.61080327 0.42809728 0.15508699 0.62176706\n",
      "  0.64515322 0.3650546  0.14764744 0.65687548 0.63212111 0.48927515\n",
      "  0.28257977 0.74055196 0.64438252 0.49448575 0.55618815 0.56234709\n",
      "  0.27043147 0.11249645 0.75498666 0.33768123 0.70711071 0.73489603\n",
      "  0.44745132 0.28256688 0.50632492 0.67407855]\n",
      " [0.27926261 0.62711016 0.64333103 0.30924104 0.40209396 0.32191962\n",
      "  0.82334798 0.89249098 0.94939962 0.82645689 0.66711371 0.33929244\n",
      "  0.83049679 0.37995358 0.16751072 0.23039254 0.16395354 0.33933571\n",
      "  0.73943016 0.30731141 0.29288648 0.49122559 0.63501914 0.40649884\n",
      "  0.         0.45018893 0.20192471 0.29072924 0.80418987 0.47919584\n",
      "  0.28048243 0.6636274  0.31058267 0.59619639 0.27389846 0.10492908\n",
      "  0.50128289 0.30234581 0.18812207 0.63095244 0.54833548 0.30373506\n",
      "  0.54517543 0.62783686 0.82149714 0.59368851 0.35777381 0.76029054\n",
      "  0.34676632 0.31641622 0.48826875 0.6833128  0.44833298 0.59861283\n",
      "  0.45124503 0.0894852  0.56694431 0.64422339 0.23752052 0.38252673\n",
      "  0.24079714 0.56187464 0.37748444 0.25437371 0.16647321 0.60340915\n",
      "  0.55535831 0.19390836 0.0663543  0.28055785 0.540627   0.53059311\n",
      "  0.16264687 0.22908056 0.65516188 0.04696605 0.40657499 0.78551608\n",
      "  0.58693179 0.24975571 0.54739863 0.51748483 0.7441075  0.11734868\n",
      "  0.66511454 0.8207637  0.47929701 0.1836614  0.36069731 0.15776488\n",
      "  0.34622962 0.47938187 0.84698497 0.43047935 0.4338069  0.83762733\n",
      "  0.36299865 0.68903404 0.80573156 0.45082834]\n",
      " [0.67576292 0.64571469 0.65577377 0.47623388 0.48484746 0.72548782\n",
      "  0.66141958 0.83954515 0.89158432 0.85127325 0.58867708 0.58906129\n",
      "  0.66218766 0.77185439 0.3957969  0.25621122 0.43396143 0.28357552\n",
      "  0.37585662 0.22485753 0.56723371 0.47260063 0.45637819 0.55220744\n",
      "  0.45018893 0.         0.63783282 0.72951138 0.52702955 0.74782441\n",
      "  0.18997975 0.60937846 0.1451951  0.15073586 0.21847082 0.41258122\n",
      "  0.35137639 0.52814572 0.6358102  0.473993   0.43788583 0.63666514\n",
      "  0.16748712 0.44273791 0.58873977 0.66430475 0.41077097 0.33049105\n",
      "  0.19020622 0.51975009 0.63534322 0.56985529 0.02906622 0.75814548\n",
      "  0.5630146  0.37737156 0.15463964 0.65415937 0.68245743 0.66447446\n",
      "  0.5818924  0.96249693 0.4044796  0.68034367 0.55228964 0.25725482\n",
      "  0.82046568 0.51501681 0.39318144 0.60262448 0.11630858 0.25482357\n",
      "  0.46427287 0.35935545 0.24738324 0.49578571 0.41776226 0.44433514\n",
      "  0.13731244 0.22564613 0.61033821 0.10576719 0.36739597 0.38387492\n",
      "  0.82030484 0.40692591 0.1082603  0.63262654 0.12603879 0.52645845\n",
      "  0.6958351  0.52674166 0.43718269 0.79014445 0.26235363 0.436134\n",
      "  0.78749106 0.75866716 0.60936483 0.18318961]\n",
      " [0.11176036 0.6331161  0.64956876 0.33508939 0.5666481  0.13636593\n",
      "  0.88337858 0.89937291 0.95390759 0.80361162 0.71061326 0.29033872\n",
      "  0.8924991  0.1966519  0.35290006 0.43222076 0.2374593  0.53800807\n",
      "  0.88282269 0.50921831 0.2483306  0.54368312 0.7235191  0.40058719\n",
      "  0.20192471 0.63783282 0.         0.09168443 0.91130517 0.37163004\n",
      "  0.4797426  0.69714666 0.49340845 0.78718887 0.43699299 0.22977629\n",
      "  0.6039871  0.29123672 0.12492295 0.711838   0.62586453 0.19824105\n",
      "  0.70820341 0.71979451 0.9101197  0.57997877 0.42340008 0.92913969\n",
      "  0.54854868 0.31364735 0.45616529 0.73922827 0.63168469 0.53624426\n",
      "  0.59863979 0.26053973 0.73740216 0.65150389 0.05535936 0.29075025\n",
      "  0.16594192 0.3649221  0.4471326  0.0566054  0.11326359 0.75174547\n",
      "  0.43681343 0.1852398  0.24640304 0.19875696 0.71620369 0.66801773\n",
      "  0.2097934  0.33454523 0.81896263 0.16904033 0.47213566 0.91788181\n",
      "  0.77180826 0.41946957 0.54699276 0.71353471 0.89199815 0.31323782\n",
      "  0.59517856 0.9803527  0.67749937 0.11365428 0.5591022  0.26806216\n",
      "  0.20749186 0.50380384 1.00393321 0.26529767 0.63423407 0.99120573\n",
      "  0.16171302 0.66045913 0.88133949 0.65261452]\n",
      " [0.12365633 0.68130159 0.69741881 0.40269599 0.63344601 0.11068724\n",
      "  0.94607553 0.94282514 0.99571103 0.83644871 0.77031899 0.33589583\n",
      "  0.95573755 0.15852996 0.43270924 0.52094947 0.32261921 0.62201788\n",
      "  0.96811346 0.59711676 0.30112766 0.6099044  0.79665894 0.45367865\n",
      "  0.29072924 0.72951138 0.09168443 0.         0.98775523 0.37899217\n",
      "  0.57020068 0.75373976 0.58503488 0.87886196 0.52751678 0.32049854\n",
      "  0.6823817  0.35109651 0.16401368 0.78300984 0.69744261 0.2305081\n",
      "  0.79758244 0.79391976 0.98139486 0.6220935  0.49705795 1.01889722\n",
      "  0.63732167 0.37417133 0.49589741 0.80248724 0.72323972 0.55855481\n",
      "  0.65747578 0.3522226  0.82769636 0.69969717 0.05931246 0.31538251\n",
      "  0.22221503 0.29254726 0.5209654  0.06269599 0.19380046 0.83855165\n",
      "  0.43289254 0.26024667 0.33786589 0.24382227 0.80709997 0.75324124\n",
      "  0.2932868  0.41955236 0.9081661  0.25379403 0.54411579 1.00060577\n",
      "  0.86336882 0.5105936  0.5953812  0.80483363 0.97817087 0.39778322\n",
      "  0.61155912 1.06851023 0.76837872 0.15614276 0.649867   0.33122554\n",
      "  0.21464373 0.56249829 1.0915584  0.23898431 0.71946222 1.07821535\n",
      "  0.08663188 0.69402136 0.94897975 0.74134055]\n",
      " [0.88091633 0.44766436 0.44304748 0.58861376 0.99843884 0.92400005\n",
      "  0.21930617 0.45638294 0.48818239 0.55325793 0.31179923 0.68527654\n",
      "  0.21160978 0.94037937 0.84520276 0.72299537 0.67826448 0.79871387\n",
      "  0.19695633 0.72881692 0.70188275 0.39570947 0.1968133  0.57256461\n",
      "  0.80418987 0.52702955 0.91130517 0.98775523 0.         0.77668483\n",
      "  0.66752501 0.34704038 0.56426502 0.53819386 0.54750887 0.71025882\n",
      "  0.30805289 0.64711441 0.97587936 0.21815104 0.29676657 0.78763403\n",
      "  0.36073307 0.19640686 0.09048498 0.51574765 0.49094056 0.36314805\n",
      "  0.70572873 0.62488677 0.59336666 0.26203581 0.50107244 0.65857419\n",
      "  1.07655954 0.71521729 0.38858239 0.43947009 0.96657479 0.74818715\n",
      "  0.76993632 1.09996396 0.46705181 0.9253558  0.79823389 0.27085913\n",
      "  0.81550167 0.72806372 0.73878944 0.76072161 0.42564506 0.29305338\n",
      "  0.70296159 0.58519349 0.32788356 0.84753048 0.44548536 0.13276813\n",
      "  0.48175351 0.57604017 0.49192353 0.59403351 0.22236944 0.80667728\n",
      "  0.68736867 0.31002849 0.6234859  0.96759431 0.63865828 0.94207384\n",
      "  0.83802512 0.4650088  0.30063915 0.91022812 0.78938268 0.27431785\n",
      "  1.00367605 0.55393428 0.14944724 0.70855134]\n",
      " [0.26421824 0.36628011 0.37950093 0.27183478 0.88080652 0.26908605\n",
      "  0.66458608 0.59807282 0.64576805 0.47330733 0.49019728 0.16199748\n",
      "  0.67599924 0.23905749 0.64384894 0.65321949 0.35386465 0.78407949\n",
      "  0.83141583 0.72736031 0.19711398 0.38736381 0.58262555 0.2186446\n",
      "  0.47919584 0.74782441 0.37163004 0.37899217 0.77668483 0.\n",
      "  0.66812924 0.46234028 0.61875575 0.89006256 0.53482982 0.41098378\n",
      "  0.52124962 0.22197632 0.49622189 0.55890203 0.48815633 0.1810413\n",
      "  0.73274661 0.58636955 0.73948353 0.29396834 0.35363174 0.93945402\n",
      "  0.75190247 0.2281535  0.1847566  0.53498863 0.72820742 0.18846249\n",
      "  0.92975168 0.46420315 0.77717271 0.38271038 0.40664502 0.09733969\n",
      "  0.23955128 0.33658439 0.36971176 0.33424207 0.31895567 0.73192443\n",
      "  0.07787068 0.28917154 0.470557   0.19896328 0.77425261 0.63990625\n",
      "  0.33465725 0.3942734  0.82812843 0.47941409 0.37329585 0.83640514\n",
      "  0.8523518  0.53777698 0.29363994 0.84917455 0.85034733 0.58852796\n",
      "  0.2339156  0.95913538 0.83007711 0.48480516 0.72890142 0.6118808\n",
      "  0.1664589  0.31333962 0.97328068 0.16854157 0.86228486 0.95289961\n",
      "  0.33232971 0.33723436 0.69024322 0.84492349]\n",
      " [0.53836413 0.66576148 0.67912651 0.41356579 0.33446969 0.58606726\n",
      "  0.75948627 0.89902174 0.95470762 0.87877841 0.64709815 0.50661484\n",
      "  0.76294856 0.63909016 0.2058739  0.06625594 0.31886508 0.1469468\n",
      "  0.54564752 0.07259184 0.47274171 0.49342201 0.54990682 0.50931047\n",
      "  0.28048243 0.18997975 0.4797426  0.57020068 0.66752501 0.66812924\n",
      "  0.         0.65860574 0.10643441 0.32313476 0.16671927 0.27541974\n",
      "  0.41914695 0.44868694 0.45799001 0.55901595 0.49772835 0.52432888\n",
      "  0.33245245 0.53812293 0.71333773 0.66324322 0.38740524 0.51982185\n",
      "  0.08405464 0.44844427 0.59962189 0.64239271 0.19954144 0.72486499\n",
      "  0.4115158  0.2274488  0.33558295 0.67848867 0.5179791  0.57471095\n",
      "  0.46247712 0.82807098 0.39245285 0.52857685 0.41335769 0.41385429\n",
      "  0.74529462 0.39631257 0.23571865 0.49232578 0.30060675 0.37492228\n",
      "  0.34436067 0.28138386 0.42986436 0.32258044 0.41608058 0.60759271\n",
      "  0.32468693 0.14729855 0.60864706 0.238568   0.5418804  0.19687867\n",
      "  0.79171665 0.59362085 0.19890047 0.45624503 0.0804717  0.33732002\n",
      "  0.57962526 0.52398303 0.62316776 0.67278741 0.19789645 0.61992822\n",
      "  0.63788291 0.76339298 0.71965459 0.18056345]\n",
      " [0.63294123 0.10306831 0.09635637 0.36716927 0.97948419 0.66620489\n",
      "  0.20246777 0.24073322 0.29703604 0.24839659 0.03550591 0.41936636\n",
      "  0.21375662 0.6656853  0.76895101 0.68921872 0.50353883 0.80553964\n",
      "  0.4730844  0.73106126 0.45284446 0.17476061 0.19418828 0.30013547\n",
      "  0.6636274  0.60937846 0.69714666 0.75373976 0.34704038 0.46234028\n",
      "  0.65860574 0.         0.55798763 0.69846689 0.49427799 0.55870046\n",
      "  0.25802319 0.40598225 0.79380939 0.16552387 0.17151995 0.52745373\n",
      "  0.49357551 0.20630115 0.28849095 0.17570652 0.30700925 0.62735469\n",
      "  0.72843682 0.38349984 0.28045059 0.0850186  0.58065414 0.31718223\n",
      "  1.05095736 0.58861334 0.5410082  0.09274016 0.75042486 0.46174462\n",
      "  0.53388147 0.7981147  0.28977768 0.69245946 0.5894939  0.43787006\n",
      "  0.48625111 0.51757706 0.61003381 0.51005071 0.56166909 0.37443721\n",
      "  0.51606517 0.44048476 0.53958323 0.69570712 0.26078444 0.4460563\n",
      "  0.64332521 0.51872132 0.16973882 0.70946966 0.4986656  0.71611508\n",
      "  0.34072047 0.60979362 0.71728288 0.78332882 0.67186838 0.82054368\n",
      "  0.56452265 0.19347786 0.61226917 0.61712883 0.83839242 0.58715042\n",
      "  0.74519064 0.20845146 0.23226419 0.77858704]\n",
      " [0.53101638 0.57235063 0.58488514 0.3510903  0.44081878 0.58065382\n",
      "  0.65324469 0.7975654  0.85276216 0.78461975 0.54471093 0.45745147\n",
      "  0.65661673 0.62783624 0.2887308  0.15886193 0.29093336 0.25079005\n",
      "  0.45401454 0.17609317 0.43111418 0.39780479 0.44356026 0.43817865\n",
      "  0.31058267 0.1451951  0.49340845 0.58503488 0.56426502 0.61875575\n",
      "  0.10643441 0.55798763 0.         0.29579828 0.08478488 0.26738663\n",
      "  0.31376274 0.39687138 0.49825607 0.45307111 0.39400347 0.49605351\n",
      "  0.24508402 0.43172193 0.6076806  0.57658531 0.30481165 0.45177724\n",
      "  0.17057576 0.39163982 0.52631288 0.53793171 0.13864602 0.65164841\n",
      "  0.51764442 0.23343963 0.2593953  0.58396975 0.539071   0.53091916\n",
      "  0.43936559 0.81858081 0.30543767 0.53525444 0.40721201 0.31883361\n",
      "  0.69375049 0.37214344 0.25053056 0.46227738 0.23067595 0.27121172\n",
      "  0.32075837 0.22471574 0.35106016 0.35710535 0.32591736 0.51179173\n",
      "  0.27858042 0.08309219 0.52164929 0.23446594 0.45331487 0.26214789\n",
      "  0.71692014 0.51739298 0.2114078  0.49419119 0.12006585 0.40639675\n",
      "  0.55463897 0.4362574  0.54529961 0.64909117 0.28283527 0.53889843\n",
      "  0.64229748 0.675554   0.61325118 0.2369839 ]\n",
      " [0.82649289 0.75069281 0.75858569 0.61837402 0.56037384 0.87622305\n",
      "  0.71060116 0.91362542 0.96165686 0.94619965 0.67261867 0.73364995\n",
      "  0.70886847 0.92239995 0.52258561 0.38662983 0.58432662 0.37231384\n",
      "  0.35332    0.33498369 0.71431898 0.58482768 0.52229005 0.68702698\n",
      "  0.59619639 0.15073586 0.78718887 0.87886196 0.53819386 0.89006256\n",
      "  0.32313476 0.69846689 0.29579828 0.         0.36776044 0.56310463\n",
      "  0.44678591 0.67295418 0.77925056 0.54544854 0.53027238 0.78580695\n",
      "  0.20588667 0.5082589  0.61508079 0.77944367 0.54424171 0.24348232\n",
      "  0.29177529 0.66296772 0.76573561 0.6446857  0.16390544 0.88517971\n",
      "  0.63496705 0.52666799 0.16111359 0.75648159 0.83072402 0.80977865\n",
      "  0.73194803 1.11297805 0.5344355  0.83053718 0.70298741 0.28025304\n",
      "  0.96083903 0.66525914 0.54153877 0.7516947  0.1368349  0.32419604\n",
      "  0.61475732 0.50705935 0.21245615 0.64085713 0.5431149  0.42745255\n",
      "  0.05788199 0.37624541 0.72742092 0.09535383 0.33518657 0.51992732\n",
      "  0.94438302 0.33119442 0.14251257 0.77678643 0.24532743 0.65811542\n",
      "  0.84518525 0.64733523 0.36258951 0.93932881 0.31165855 0.37025933\n",
      "  0.93796745 0.86846509 0.64955439 0.22671179]\n",
      " [0.46194269 0.49905072 0.51241095 0.26635768 0.48752377 0.51187536\n",
      "  0.60903676 0.73500199 0.79111581 0.71206134 0.48475329 0.37400217\n",
      "  0.61370849 0.55576385 0.29988109 0.19619307 0.21762281 0.31265006\n",
      "  0.46606393 0.23914068 0.34957777 0.32697546 0.40297386 0.35397149\n",
      "  0.27389846 0.21847082 0.43699299 0.52751678 0.54750887 0.53482982\n",
      "  0.16671927 0.49427799 0.08478488 0.36776044 0.         0.20722002\n",
      "  0.26693475 0.31322016 0.46030808 0.40764803 0.33875028 0.41825012\n",
      "  0.27350643 0.39267609 0.57921893 0.49811914 0.22349696 0.49280848\n",
      "  0.24442435 0.30727554 0.44264429 0.48406472 0.20435838 0.56812119\n",
      "  0.56132239 0.18679754 0.3004596  0.51178296 0.48640727 0.44825405\n",
      "  0.36436537 0.74597615 0.22664057 0.47371904 0.3413402  0.32972965\n",
      "  0.60945161 0.29801475 0.20826643 0.38418644 0.27992814 0.26145478\n",
      "  0.24845067 0.14185193 0.38429801 0.32059816 0.24954855 0.51492532\n",
      "  0.34200102 0.02868445 0.44331932 0.31543708 0.47024926 0.25917066\n",
      "  0.63382313 0.54860543 0.29536457 0.45459066 0.20240614 0.39661294\n",
      "  0.47751243 0.35826121 0.57411305 0.5717569  0.35929107 0.56408762\n",
      "  0.57792091 0.59791832 0.57632891 0.32020941]\n",
      " [0.26589852 0.52369752 0.53981077 0.20804581 0.478348   0.31493472\n",
      "  0.72000467 0.78819077 0.84515735 0.7255511  0.56232357 0.25753927\n",
      "  0.7273858  0.36528112 0.24149149 0.24675735 0.06430749 0.37484553\n",
      "  0.66068204 0.32405317 0.21499663 0.38642717 0.53535219 0.3080301\n",
      "  0.10492908 0.41258122 0.22977629 0.32049854 0.71025882 0.41098378\n",
      "  0.27541974 0.55870046 0.26738663 0.56310463 0.20722002 0.\n",
      "  0.40403743 0.21106333 0.26643062 0.52978568 0.44611637 0.25164185\n",
      "  0.47919609 0.52888696 0.72274838 0.49313478 0.25302115 0.69965573\n",
      "  0.35508232 0.22148742 0.3933848  0.57923114 0.40426953 0.50923065\n",
      "  0.53580381 0.05331785 0.50765583 0.54060217 0.27963873 0.31400274\n",
      "  0.1883614  0.55548343 0.27308671 0.26828974 0.14080113 0.52701798\n",
      "  0.48878448 0.12460569 0.06227364 0.22141793 0.48660167 0.44742968\n",
      "  0.07636584 0.12721658 0.5900674  0.14073077 0.3020844  0.70125809\n",
      "  0.54424347 0.1903108  0.44535181 0.49578681 0.66801517 0.18417416\n",
      "  0.57668945 0.75271006 0.46428077 0.258803   0.34907335 0.2622306\n",
      "  0.30503961 0.3752728  0.77708321 0.39759903 0.45871434 0.76541022\n",
      "  0.37491159 0.59008953 0.70442648 0.45583049]\n",
      " [0.58016208 0.30414937 0.31180131 0.29077069 0.7510089  0.62548554\n",
      "  0.34235054 0.49069154 0.54427268 0.50208014 0.23803328 0.39950797\n",
      "  0.3468218  0.64832145 0.56442872 0.46077776 0.37021249 0.56455052\n",
      "  0.31104349 0.48984593 0.40723066 0.14833926 0.13697967 0.30291795\n",
      "  0.50128289 0.35137639 0.6039871  0.6823817  0.30805289 0.52124962\n",
      "  0.41914695 0.25802319 0.31376274 0.44678591 0.26693475 0.40403743\n",
      "  0.         0.35245824 0.66856324 0.14090077 0.08651073 0.4937937\n",
      "  0.24729242 0.12793449 0.32049725 0.33891569 0.18993491 0.42533754\n",
      "  0.48107282 0.33190025 0.35637605 0.22504685 0.32263212 0.46071143\n",
      "  0.82623635 0.4137392  0.29595444 0.30969843 0.65915325 0.47060243\n",
      "  0.46839728 0.82028134 0.16690162 0.62039546 0.49120555 0.217074\n",
      "  0.57716694 0.42214444 0.43731824 0.46413373 0.31059612 0.13152392\n",
      "  0.39508634 0.27782893 0.3194412  0.54307137 0.15225081 0.32563723\n",
      "  0.3940647  0.29494709 0.29073619 0.45180866 0.32920388 0.51899769\n",
      "  0.5125639  0.43811383 0.4593661  0.66008307 0.42063164 0.64618571\n",
      "  0.54846063 0.22184409 0.4520775  0.62955235 0.58697076 0.43205279\n",
      "  0.70400701 0.4229801  0.31069512 0.52296175]\n",
      " [0.23571197 0.34481678 0.36137187 0.06266393 0.68922049 0.27703282\n",
      "  0.59516967 0.61283423 0.66843578 0.5303526  0.42037575 0.06092747\n",
      "  0.60473753 0.29592032 0.45255099 0.43938002 0.14732431 0.57153758\n",
      "  0.65862834 0.51074481 0.05498816 0.25966195 0.45200958 0.11196453\n",
      "  0.30234581 0.52814572 0.29123672 0.35109651 0.64711441 0.22197632\n",
      "  0.44868694 0.40598225 0.39687138 0.67295418 0.31322016 0.21106333\n",
      "  0.35245824 0.         0.39362345 0.43584172 0.35163628 0.14150562\n",
      "  0.52937654 0.4509182  0.63332171 0.29900737 0.16320416 0.74506646\n",
      "  0.53271811 0.02308774 0.1862692  0.45143171 0.5098003  0.29827444\n",
      "  0.7466435  0.26110585 0.57078513 0.36303999 0.34447526 0.13687622\n",
      "  0.12902083 0.47096936 0.1856304  0.28880385 0.18642544 0.54335398\n",
      "  0.29781213 0.11864672 0.27333344 0.11363864 0.56342546 0.45134152\n",
      "  0.13994182 0.17229845 0.63187631 0.3198133  0.20270791 0.67807859\n",
      "  0.63839642 0.31581677 0.25957874 0.62822947 0.67373417 0.39523595\n",
      "  0.36564917 0.77638645 0.60825094 0.38263753 0.50729449 0.45542527\n",
      "  0.19643363 0.21286117 0.79452156 0.2820695  0.64481623 0.77693934\n",
      "  0.35695815 0.3898883  0.59852054 0.6237902 ]\n",
      " [0.23601455 0.73840771 0.75496632 0.4266671  0.47200868 0.25303724\n",
      "  0.9710367  1.00645257 1.06197007 0.91817986 0.80364089 0.40381545\n",
      "  0.97936648 0.31100284 0.2884836  0.39964995 0.30101439 0.48203962\n",
      "  0.92377152 0.46987942 0.35863881 0.63093122 0.79675536 0.50550836\n",
      "  0.18812207 0.6358102  0.12492295 0.16401368 0.97587936 0.49622189\n",
      "  0.45799001 0.79380939 0.49825607 0.77925056 0.46030808 0.26643062\n",
      "  0.66856324 0.39362345 0.         0.78869821 0.7033594  0.32024348\n",
      "  0.73279136 0.79124682 0.98461891 0.69040796 0.50224858 0.94841247\n",
      "  0.51306617 0.41439969 0.56962594 0.82752791 0.63534112 0.65692032\n",
      "  0.49361362 0.27356973 0.75506314 0.75659729 0.10728271 0.41296683\n",
      "  0.2788107  0.45598663 0.52488593 0.17195403 0.20732966 0.78852674\n",
      "  0.56171368 0.27693192 0.25221798 0.31599907 0.72860212 0.71224821\n",
      "  0.28137644 0.39077755 0.84300793 0.14126858 0.552341   0.96678978\n",
      "  0.77299835 0.43715515 0.65315574 0.69653219 0.92955379 0.26652435\n",
      "  0.7173601  1.00835641 0.65561596 0.01153759 0.53822383 0.17089648\n",
      "  0.3324053  0.60104387 1.03427432 0.38546028 0.58119093 1.02438553\n",
      "  0.25064021 0.77542969 0.96201212 0.61503689]\n",
      " [0.67138923 0.25056581 0.25077772 0.38043104 0.89165427 0.71253389\n",
      "  0.20145437 0.36891187 0.41893623 0.41061745 0.13344636 0.46999831\n",
      "  0.20609705 0.72562234 0.7038681  0.60165101 0.48768543 0.70355346\n",
      "  0.30985721 0.62904853 0.48989843 0.17899967 0.0291047  0.35523406\n",
      "  0.63095244 0.473993   0.711838   0.78300984 0.21815104 0.55890203\n",
      "  0.55901595 0.16552387 0.45307111 0.54544854 0.40764803 0.52978568\n",
      "  0.14090077 0.43584172 0.78869821 0.         0.08598548 0.57445965\n",
      "  0.33962578 0.04080007 0.19845628 0.31038154 0.28868946 0.461843\n",
      "  0.61811171 0.41309125 0.37640655 0.09926743 0.44493856 0.45084748\n",
      "  0.96705202 0.54572641 0.38516192 0.2475768  0.76713037 0.53085308\n",
      "  0.56204774 0.88218254 0.26519628 0.72031633 0.59877944 0.27557955\n",
      "  0.60001979 0.52665643 0.56905201 0.54921407 0.40999532 0.22372173\n",
      "  0.50872097 0.40266109 0.375578   0.67041402 0.23971524 0.29096279\n",
      "  0.48877703 0.43549722 0.27906354 0.56761594 0.33482689 0.65707694\n",
      "  0.48781633 0.4468387  0.58190111 0.77945923 0.55574416 0.78027435\n",
      "  0.62286948 0.2468617  0.45133782 0.6928425  0.72088025 0.42692225\n",
      "  0.7926128  0.36815542 0.17477946 0.65238227]\n",
      " [0.5867662  0.22450188 0.23035552 0.29512732 0.82611798 0.62864125\n",
      "  0.27648241 0.40557294 0.45983484 0.41658001 0.15230857 0.38851187\n",
      "  0.28292168 0.6436825  0.6292155  0.53482641 0.40241845 0.64422317\n",
      "  0.35210165 0.56942213 0.40608242 0.10104353 0.10045351 0.27724776\n",
      "  0.54833548 0.43788583 0.62586453 0.69744261 0.29676657 0.48815633\n",
      "  0.49772835 0.17151995 0.39400347 0.53027238 0.33875028 0.44611637\n",
      "  0.08651073 0.35163628 0.7033594  0.08598548 0.         0.49135534\n",
      "  0.32756397 0.1006204  0.28432232 0.26867915 0.20272069 0.48660456\n",
      "  0.56321747 0.32909627 0.31060205 0.14532441 0.40914132 0.40068999\n",
      "  0.90005974 0.46451238 0.37587774 0.22794576 0.68116303 0.45242981\n",
      "  0.47690019 0.8046586  0.17927815 0.63476038 0.51279534 0.28368594\n",
      "  0.53550706 0.44069874 0.48760445 0.46522981 0.39354629 0.20864174\n",
      "  0.42300058 0.31938555 0.38756978 0.58684689 0.15376876 0.34894268\n",
      "  0.47634244 0.36545611 0.22654854 0.53810338 0.37419642 0.58040483\n",
      "  0.44641739 0.48653766 0.54585379 0.6940267  0.50432228 0.69960459\n",
      "  0.54126634 0.17529672 0.49593188 0.61435995 0.6709234  0.47339076\n",
      "  0.70859438 0.34490319 0.25883474 0.60857111]\n",
      " [0.10703567 0.45137085 0.4673772  0.20313492 0.7056085  0.1396027\n",
      "  0.72388668 0.7123612  0.76543373 0.60887617 0.54640396 0.10825589\n",
      "  0.73405389 0.15454841 0.47072981 0.49835811 0.20706158 0.62512791\n",
      "  0.79841435 0.57565651 0.08657968 0.39628854 0.59180576 0.22827194\n",
      "  0.30373506 0.63666514 0.19824105 0.2305081  0.78763403 0.1810413\n",
      "  0.52432888 0.52745373 0.49605351 0.78580695 0.41825012 0.25164185\n",
      "  0.4937937  0.14150562 0.32024348 0.57445965 0.49135534 0.\n",
      "  0.65913417 0.5912578  0.77062011 0.39160441 0.30411725 0.87810496\n",
      "  0.60569596 0.16302426 0.26548183 0.58191082 0.62202204 0.33803294\n",
      "  0.75156692 0.30405108 0.69786394 0.46973018 0.24170224 0.09273956\n",
      "  0.06425544 0.334968   0.32689517 0.17335976 0.13930033 0.68000039\n",
      "  0.25406225 0.12804503 0.30550344 0.03415401 0.68648129 0.58875814\n",
      "  0.180012   0.27976561 0.76475724 0.29979544 0.34412993 0.81933815\n",
      "  0.75678929 0.41300747 0.36575958 0.73047915 0.81277404 0.41736146\n",
      "  0.39724646 0.91355029 0.70426726 0.30871385 0.59376924 0.43103801\n",
      "  0.05972348 0.34007054 0.93266037 0.15352306 0.71035294 0.91575846\n",
      "  0.21959144 0.4658691  0.73273626 0.70475969]\n",
      " [0.72118623 0.55073883 0.5575587  0.46878501 0.64910521 0.7706951\n",
      "  0.51076129 0.70810671 0.75672825 0.7417598  0.46706125 0.58718685\n",
      "  0.51005048 0.80788373 0.53190182 0.395883   0.47830316 0.44747778\n",
      "  0.21351744 0.3828842  0.57828305 0.3920503  0.31687468 0.51841697\n",
      "  0.54517543 0.16748712 0.70820341 0.79758244 0.36073307 0.73274661\n",
      "  0.33245245 0.49357551 0.24508402 0.20588667 0.27350643 0.47919609\n",
      "  0.24729242 0.52937654 0.73279136 0.33962578 0.32756397 0.65913417\n",
      "  0.         0.30283128 0.42673091 0.58546871 0.37911503 0.22175791\n",
      "  0.35346775 0.51461248 0.5880502  0.43883549 0.14356353 0.7011958\n",
      "  0.72748257 0.45985631 0.04866709 0.55525839 0.75883294 0.6636808\n",
      "  0.6151226  0.99398889 0.36390149 0.74137561 0.60696871 0.09002608\n",
      "  0.79771007 0.55334031 0.48061987 0.62554672 0.07120242 0.11929312\n",
      "  0.5090963  0.38533782 0.11088891 0.59212787 0.36546052 0.27866269\n",
      "  0.14982069 0.29564091 0.53572287 0.23790489 0.20962937 0.50721726\n",
      "  0.75648116 0.2755912  0.26343858 0.72744619 0.28668358 0.65137396\n",
      "  0.71849941 0.46050185 0.30208426 0.80936241 0.42936782 0.29426138\n",
      "  0.84175674 0.67012241 0.45339011 0.34782883]\n",
      " [0.68528395 0.28953192 0.2904126  0.39303581 0.87210986 0.72790903\n",
      "  0.22238965 0.40536721 0.45402219 0.45116067 0.17418013 0.48901666\n",
      "  0.22513072 0.74399054 0.69150888 0.58386658 0.49081463 0.68094967\n",
      "  0.27044271 0.60689441 0.50561006 0.20086782 0.01404384 0.37760959\n",
      "  0.62783686 0.44273791 0.71979451 0.79391976 0.19640686 0.58636955\n",
      "  0.53812293 0.20630115 0.43172193 0.5082589  0.39267609 0.52888696\n",
      "  0.12793449 0.4509182  0.79124682 0.04080007 0.1006204  0.5912578\n",
      "  0.30283128 0.         0.19386586 0.34708875 0.29698687 0.42110216\n",
      "  0.5936046  0.42859902 0.40599532 0.13797464 0.41378357 0.48609702\n",
      "  0.94829164 0.54092319 0.3474795  0.28727518 0.77515327 0.552957\n",
      "  0.57470822 0.90513078 0.27310215 0.73133979 0.60653096 0.23585874\n",
      "  0.6306276  0.53530248 0.56445512 0.56455342 0.37366353 0.18946487\n",
      "  0.51363285 0.40183193 0.33513683 0.66881788 0.25013234 0.25553596\n",
      "  0.45123042 0.42103868 0.31288773 0.53383984 0.29506344 0.64672699\n",
      "  0.52519658 0.40736332 0.5500634  0.78237831 0.52993528 0.77395869\n",
      "  0.64169312 0.27305013 0.41271223 0.71492364 0.69374764 0.38863273\n",
      "  0.80770163 0.40793798 0.18365294 0.62300251]\n",
      " [0.8690268  0.3915254  0.38430822 0.57873832 1.04731766 0.90937475\n",
      "  0.13143672 0.36854111 0.39845248 0.4732153  0.25521618 0.66473087\n",
      "  0.12272154 0.92009428 0.87910001 0.76446522 0.68384497 0.85053502\n",
      "  0.28435698 0.77842288 0.6869417  0.37436599 0.18786431 0.54728963\n",
      "  0.82149714 0.58873977 0.9101197  0.98139486 0.09048498 0.73948353\n",
      "  0.71333773 0.28849095 0.6076806  0.61508079 0.57921893 0.72274838\n",
      "  0.32049725 0.63332171 0.98461891 0.19845628 0.28432232 0.77062011\n",
      "  0.42673091 0.19386586 0.         0.46329589 0.48677296 0.45199311\n",
      "  0.75927655 0.61043348 0.55472693 0.20673849 0.56137383 0.60553475\n",
      "  1.12476181 0.73422096 0.46003461 0.38067131 0.96543577 0.72171309\n",
      "  0.7601892  1.07004779 0.46313343 0.91869907 0.79698618 0.33916247\n",
      "  0.77106893 0.72499827 0.75779147 0.74633139 0.495119   0.34097545\n",
      "  0.70588262 0.59566667 0.4086525  0.8626613  0.43808902 0.22305455\n",
      "  0.55772499 0.60787623 0.44764991 0.66393644 0.31047712 0.83649376\n",
      "  0.62743315 0.40051336 0.6898461  0.97562867 0.69298623 0.96634858\n",
      "  0.81717806 0.43567645 0.39079901 0.88285315 0.84975934 0.36451895\n",
      "  0.98952943 0.48854263 0.06426152 0.77182936]\n",
      " [0.49849325 0.07384087 0.08576299 0.28510322 0.9558108  0.52419402\n",
      "  0.37434408 0.32077424 0.37431615 0.23278154 0.20808222 0.28976349\n",
      "  0.38605625 0.51384361 0.72732758 0.67758289 0.43026506 0.80545138\n",
      "  0.61593019 0.73450394 0.33246309 0.19463137 0.33863448 0.18830549\n",
      "  0.59368851 0.66430475 0.57997877 0.6220935  0.51574765 0.29396834\n",
      "  0.66324322 0.17570652 0.57658531 0.77944367 0.49811914 0.49313478\n",
      "  0.33891569 0.29900737 0.69040796 0.31038154 0.26867915 0.39160441\n",
      "  0.58546871 0.34708875 0.46329589 0.         0.27601126 0.75527964\n",
      "  0.74254341 0.28061974 0.12633176 0.25696885 0.63778809 0.14291474\n",
      "  1.02064259 0.5349443  0.63409424 0.08908548 0.62931702 0.31194391\n",
      "  0.41431733 0.63039268 0.27158326 0.56419877 0.48338221 0.55130301\n",
      "  0.31127645 0.41765014 0.5525799  0.38233968 0.64561531 0.47027992\n",
      "  0.43269733 0.39894138 0.6551027  0.61633705 0.25099153 0.60134343\n",
      "  0.72940907 0.51596584 0.05493744 0.76967754 0.63944049 0.67070699\n",
      "  0.17853397 0.75212919 0.76686549 0.67919597 0.69654776 0.75019634\n",
      "  0.41746539 0.14033749 0.75916948 0.45643115 0.85733589 0.73544382\n",
      "  0.5999566  0.10049653 0.40796731 0.81201779]\n",
      " [0.39106853 0.2861156  0.30103078 0.10098233 0.68582625 0.43579627\n",
      "  0.46965648 0.54152928 0.59862278 0.49759419 0.30934078 0.21419128\n",
      "  0.47764601 0.45866327 0.46553763 0.40269276 0.20256426 0.52955675\n",
      "  0.49566257 0.45850432 0.21765132 0.13346511 0.30023692 0.14279316\n",
      "  0.35777381 0.41077097 0.42340008 0.49705795 0.49094056 0.35363174\n",
      "  0.38740524 0.30700925 0.30481165 0.54424171 0.22349696 0.25302115\n",
      "  0.18993491 0.16320416 0.50224858 0.28868946 0.20272069 0.30411725\n",
      "  0.37911503 0.29698687 0.48677296 0.27601126 0.         0.58851122\n",
      "  0.46751072 0.14368439 0.22479701 0.32728397 0.38752142 0.34883781\n",
      "  0.75381665 0.28167077 0.42375395 0.30108209 0.47873867 0.28875507\n",
      "  0.27953048 0.63344413 0.02390779 0.43454839 0.3102219  0.38348591\n",
      "  0.41975965 0.23847181 0.30302601 0.27420379 0.42250169 0.2910263\n",
      "  0.22104167 0.1340001  0.47615227 0.39225819 0.05012736 0.51526393\n",
      "  0.50259543 0.24010893 0.22168687 0.51597032 0.51122693 0.41121441\n",
      "  0.41296519 0.61534063 0.50575987 0.49264346 0.42467028 0.51395708\n",
      "  0.35962681 0.13833109 0.63260411 0.44350255 0.58257024 0.61451682\n",
      "  0.51465185 0.37636582 0.46027156 0.54176623]\n",
      " [0.9426704  0.70637714 0.70915236 0.68327895 0.79787166 0.99208275\n",
      "  0.5716413  0.80088886 0.84003806 0.86935263 0.59458595 0.80106036\n",
      "  0.56632579 1.02826313 0.7256203  0.58604319 0.70006013 0.60253818\n",
      "  0.16845242 0.55252538 0.79567675 0.57271504 0.43321059 0.72150953\n",
      "  0.76029054 0.33049105 0.92913969 1.01889722 0.36314805 0.93945402\n",
      "  0.51982185 0.62735469 0.45177724 0.24348232 0.49280848 0.69965573\n",
      "  0.42533754 0.74506646 0.94841247 0.461843   0.48660456 0.87810496\n",
      "  0.22175791 0.42110216 0.45199311 0.75527964 0.58851122 0.\n",
      "  0.51365309 0.72880139 0.78143911 0.55352539 0.32119462 0.88447612\n",
      "  0.87398673 0.67742628 0.19337858 0.70620688 0.9791594  0.87677115\n",
      "  0.83589736 1.21304874 0.57046152 0.96302686 0.82869024 0.20866167\n",
      "  0.99981971 0.7747752  0.69723054 0.844836   0.22174466 0.2997077\n",
      "  0.73084403 0.60675803 0.1133543  0.80718065 0.56642691 0.23206154\n",
      "  0.20766217 0.5129724  0.71172066 0.33281691 0.14178057 0.70966317\n",
      "  0.9328189  0.08848747 0.37746638 0.94369766 0.45445667 0.85369774\n",
      "  0.93710941 0.64713383 0.11956561 1.0266564  0.55256615 0.13056745\n",
      "  1.06348126 0.82652068 0.50272056 0.4663688 ]\n",
      " [0.61438465 0.74169715 0.75454012 0.49730668 0.29564959 0.66108674\n",
      "  0.81599376 0.96769904 1.02266865 0.95435134 0.71458771 0.59051555\n",
      "  0.81853315 0.71564593 0.23635428 0.11638197 0.40145369 0.09401012\n",
      "  0.5651181  0.04469399 0.55616416 0.56772978 0.60615596 0.59230596\n",
      "  0.34676632 0.19020622 0.54854868 0.63732167 0.70572873 0.75190247\n",
      "  0.08405464 0.72843682 0.17057576 0.29177529 0.24442435 0.35508232\n",
      "  0.48107282 0.53271811 0.51306617 0.61811171 0.56321747 0.60569596\n",
      "  0.35346775 0.5936046  0.75927655 0.74254341 0.46751072 0.51365309\n",
      "  0.         0.53247549 0.68241629 0.70604957 0.21030392 0.80780582\n",
      "  0.37401783 0.30496445 0.34483544 0.75371649 0.58277143 0.65813713\n",
      "  0.54316783 0.90318594 0.47103779 0.59967774 0.49028368 0.44111258\n",
      "  0.8291534  0.47768025 0.31020279 0.57415368 0.30643093 0.41831612\n",
      "  0.42607521 0.36517511 0.43731309 0.3849195  0.4933835  0.63209171\n",
      "  0.30810176 0.22820699 0.68773946 0.19805197 0.55742413 0.24654184\n",
      "  0.87444445 0.5939864  0.15181077 0.51281279 0.06719008 0.37370221\n",
      "  0.66008366 0.60263462 0.62474098 0.75258263 0.11515852 0.62504914\n",
      "  0.70887323 0.84230553 0.77146312 0.10406734]\n",
      " [0.25864794 0.32413112 0.34069218 0.04583723 0.69821473 0.29955885\n",
      "  0.57215142 0.59234709 0.64816422 0.51276552 0.397542   0.07257488\n",
      "  0.58169895 0.31704584 0.46254114 0.4425472  0.15719113 0.57483038\n",
      "  0.63932848 0.5122442  0.0770142  0.2366407  0.42951371 0.09245869\n",
      "  0.31641622 0.51975009 0.31364735 0.37417133 0.62488677 0.2281535\n",
      "  0.44844427 0.38349984 0.39163982 0.66296772 0.30727554 0.22148742\n",
      "  0.33190025 0.02308774 0.41439969 0.41309125 0.32909627 0.16302426\n",
      "  0.51461248 0.42859902 0.61043348 0.28061974 0.14368439 0.72880139\n",
      "  0.53247549 0.         0.17224703 0.42838064 0.50048623 0.28872726\n",
      "  0.75715977 0.26972334 0.55685037 0.34226614 0.36711308 0.14919576\n",
      "  0.15205852 0.48975983 0.16545704 0.31185707 0.20757669 0.52581522\n",
      "  0.30217705 0.13813557 0.28348069 0.13615939 0.55079431 0.43356048\n",
      "  0.1538505  0.16862415 0.61579284 0.33622676 0.18123328 0.65751483\n",
      "  0.62696645 0.31192904 0.23943426 0.62106095 0.65487449 0.40514959\n",
      "  0.35645415 0.75841311 0.60263771 0.40350547 0.50431775 0.47110778\n",
      "  0.21656093 0.19020527 0.77607522 0.2999623  0.64552512 0.75815023\n",
      "  0.37956814 0.37335078 0.57545335 0.62145916]\n",
      " [0.37226329 0.19090951 0.20601721 0.19140772 0.86809977 0.39806273\n",
      "  0.48285074 0.44693494 0.49998275 0.34855514 0.30665741 0.16614362\n",
      "  0.49403353 0.38974841 0.63372214 0.60303066 0.32909499 0.73449011\n",
      "  0.66051181 0.66769279 0.21110967 0.21235142 0.40121783 0.09062362\n",
      "  0.48826875 0.63534322 0.45616529 0.49589741 0.59336666 0.1847566\n",
      "  0.59962189 0.28045059 0.52631288 0.76573561 0.44264429 0.3933848\n",
      "  0.35637605 0.1862692  0.56962594 0.37640655 0.31060205 0.26548183\n",
      "  0.5880502  0.40599532 0.55472693 0.12633176 0.22479701 0.78143911\n",
      "  0.68241629 0.17224703 0.         0.35055873 0.61161645 0.12553401\n",
      "  0.92849643 0.44030749 0.63521995 0.2087657  0.50443206 0.18644286\n",
      "  0.2914706  0.51824037 0.23162098 0.4384136  0.36406555 0.57283356\n",
      "  0.22494421 0.30262187 0.45509705 0.25765289 0.63912464 0.48347679\n",
      "  0.32562897 0.32061233 0.67358163 0.50585041 0.22361875 0.65934992\n",
      "  0.72128367 0.45475926 0.1107126  0.74068791 0.68120693 0.57636365\n",
      "  0.19209968 0.79228078 0.73029168 0.55827251 0.64504703 0.64165192\n",
      "  0.29180026 0.13634413 0.80392299 0.33699029 0.7973298  0.78222895\n",
      "  0.47435843 0.20601954 0.5059054  0.7628395 ]\n",
      " [0.68477175 0.18646438 0.18109152 0.40430746 0.97143702 0.72151126\n",
      "  0.14415669 0.27044315 0.32173219 0.3158414  0.04981638 0.47396367\n",
      "  0.15337958 0.72639131 0.77272085 0.68015061 0.52966831 0.78856635\n",
      "  0.39465126 0.71377283 0.50220165 0.19665809 0.12428069 0.35408948\n",
      "  0.6833128  0.56985529 0.73922827 0.80248724 0.26203581 0.53498863\n",
      "  0.64239271 0.0850186  0.53793171 0.6446857  0.48406472 0.57923114\n",
      "  0.22504685 0.45143171 0.82752791 0.09926743 0.14532441 0.58191082\n",
      "  0.43883549 0.13797464 0.20673849 0.25696885 0.32728397 0.55352539\n",
      "  0.70604957 0.42838064 0.35055873 0.         0.54079649 0.39963563\n",
      "  1.04535682 0.60254136 0.48442635 0.17750056 0.79372996 0.52435764\n",
      "  0.58043872 0.86822748 0.30624529 0.74023523 0.62828763 0.37381315\n",
      "  0.56446583 0.55548201 0.62512713 0.56104554 0.50907873 0.32230377\n",
      "  0.54638473 0.45489897 0.47227956 0.71924431 0.27747082 0.36332699\n",
      "  0.58804379 0.51068098 0.2418167  0.66530109 0.42081112 0.72277739\n",
      "  0.42550288 0.53052664 0.67804349 0.81756271 0.64558861 0.83744703\n",
      "  0.62390176 0.24184714 0.53142791 0.68349296 0.81177221 0.50596556\n",
      "  0.80139424 0.29288771 0.15536201 0.74599686]\n",
      " [0.66509871 0.61804024 0.62792073 0.45637755 0.50590875 0.7149654\n",
      "  0.6327396  0.81051835 0.86252677 0.82298718 0.55976874 0.5706152\n",
      "  0.63359993 0.75990452 0.40483326 0.26549915 0.42166453 0.30426779\n",
      "  0.3549089  0.24185341 0.55051627 0.44543883 0.42740492 0.52960837\n",
      "  0.44833298 0.02906622 0.63168469 0.72323972 0.50107244 0.72820742\n",
      "  0.19954144 0.58065414 0.13864602 0.16390544 0.20435838 0.40426953\n",
      "  0.32263212 0.5098003  0.63534112 0.44493856 0.40914132 0.62202204\n",
      "  0.14356353 0.41378357 0.56137383 0.63778809 0.38752142 0.32119462\n",
      "  0.21030392 0.50048623 0.61161645 0.54079649 0.         0.73376072\n",
      "  0.58424619 0.37204147 0.13709504 0.62626455 0.67769039 0.64650167\n",
      "  0.56872325 0.95025415 0.38025846 0.672547   0.54271548 0.23247895\n",
      "  0.80005708 0.50230966 0.38912028 0.58789605 0.101091   0.22615988\n",
      "  0.45232175 0.34315553 0.23125468 0.4945359  0.39253523 0.42192433\n",
      "  0.14012967 0.21485441 0.5840319  0.13194628 0.3479442  0.38891955\n",
      "  0.79537117 0.39410369 0.13728273 0.63165256 0.14405303 0.53267042\n",
      "  0.68145901 0.50086118 0.42376271 0.7755342  0.28872684 0.42116098\n",
      "  0.77878285 0.73158083 0.58112744 0.21115119]\n",
      " [0.43776614 0.21412673 0.22269807 0.31416388 0.98687693 0.45131971\n",
      "  0.51115797 0.41348757 0.45915077 0.28486718 0.35043767 0.26124113\n",
      "  0.52306241 0.42664811 0.75070084 0.72679009 0.44519926 0.85860501\n",
      "  0.75210798 0.79253176 0.30863817 0.31239068 0.47852778 0.21555488\n",
      "  0.59861283 0.75814548 0.53624426 0.55855481 0.65857419 0.18846249\n",
      "  0.72486499 0.31718223 0.65164841 0.88517971 0.56812119 0.50923065\n",
      "  0.46071143 0.29827444 0.65692032 0.45084748 0.40068999 0.33803294\n",
      "  0.7011958  0.48609702 0.60553475 0.14291474 0.34883781 0.88447612\n",
      "  0.80780582 0.28872726 0.12553401 0.39963563 0.73376072 0.\n",
      "  1.04491719 0.55837764 0.74917554 0.22630488 0.57845159 0.24602617\n",
      "  0.38045447 0.51246368 0.35366604 0.50772258 0.45905705 0.67734948\n",
      "  0.18017063 0.40669267 0.57146734 0.34142318 0.7558586  0.5913521\n",
      "  0.43752653 0.44501991 0.78014408 0.61097542 0.34220635 0.7414138\n",
      "  0.83887455 0.58026545 0.1742919  0.86375099 0.77471056 0.693344\n",
      "  0.06780429 0.88717493 0.85458615 0.64538784 0.7705273  0.74731215\n",
      "  0.34408724 0.2407359  0.89585778 0.35675314 0.92265279 0.87273764\n",
      "  0.51904009 0.15198507 0.54904421 0.88829001]\n",
      " [0.70425999 1.03975807 1.05481829 0.73934397 0.0783982  0.73500175\n",
      "  1.16835468 1.29090933 1.34765854 1.24962295 1.04426092 0.78900364\n",
      "  1.17235037 0.79527516 0.29477904 0.36557607 0.60001907 0.28000883\n",
      "  0.93876661 0.34774988 0.74333023 0.8781531  0.95968454 0.841153\n",
      "  0.45124503 0.5630146  0.59863979 0.65747578 1.07655954 0.92975168\n",
      "  0.4115158  1.05095736 0.51764442 0.63496705 0.56132239 0.53580381\n",
      "  0.82623635 0.7466435  0.49361362 0.96705202 0.90005974 0.75156692\n",
      "  0.72748257 0.94829164 1.12476181 1.02064259 0.75381665 0.87398673\n",
      "  0.37401783 0.75715977 0.92849643 1.04535682 0.58424619 1.04491719\n",
      "  0.         0.48829335 0.71730176 1.05489668 0.59946784 0.83350908\n",
      "  0.69036679 0.94956439 0.76620183 0.6542794  0.61227572 0.81479166\n",
      "  1.0051393  0.64473987 0.47368574 0.73079357 0.67837827 0.78531158\n",
      "  0.60800151 0.62290226 0.80810048 0.45215524 0.79384944 1.0061076\n",
      "  0.66653657 0.53476431 0.96932654 0.54173546 0.93024528 0.35213362\n",
      "  1.11224141 0.95844398 0.49652284 0.50135755 0.44089554 0.33057979\n",
      "  0.78724703 0.89060088 0.98973365 0.86104246 0.32360652 0.99256852\n",
      "  0.74400818 1.11997859 1.13065463 0.40841461]\n",
      " [0.31093377 0.56088865 0.57669606 0.25137114 0.4285025  0.35885891\n",
      "  0.74063522 0.8222129  0.87930226 0.76630495 0.58945897 0.3097473\n",
      "  0.74736415 0.41166397 0.19354823 0.19450818 0.11393366 0.32167566\n",
      "  0.6509521  0.27236411 0.26792302 0.41434898 0.54855669 0.35295952\n",
      "  0.0894852  0.37737156 0.26053973 0.3522226  0.71521729 0.46420315\n",
      "  0.2274488  0.58861334 0.23343963 0.52666799 0.18679754 0.05331785\n",
      "  0.4137392  0.26110585 0.27356973 0.54572641 0.46451238 0.30405108\n",
      "  0.45985631 0.54092319 0.73422096 0.5349443  0.28167077 0.67742628\n",
      "  0.30496445 0.26972334 0.44030749 0.60254136 0.37204147 0.55837764\n",
      "  0.48829335 0.         0.48418008 0.57724014 0.30565153 0.36728159\n",
      "  0.24033532 0.60071521 0.29931853 0.30502741 0.18593058 0.51527693\n",
      "  0.54202358 0.17768603 0.02361398 0.27433851 0.46000701 0.44130122\n",
      "  0.12954629 0.14840548 0.57041403 0.13501638 0.32851394 0.69624154\n",
      "  0.51201795 0.16453329 0.48538402 0.45467748 0.65620406 0.13632058\n",
      "  0.62603918 0.73524699 0.42076606 0.26779411 0.3037177  0.23516517\n",
      "  0.35632432 0.41131561 0.76089578 0.44799121 0.40656301 0.75082872\n",
      "  0.41368833 0.63325792 0.72034876 0.40694094]\n",
      " [0.75593055 0.59929068 0.6060064  0.51102934 0.63924154 0.80568113\n",
      "  0.55053675 0.75277769 0.80057896 0.78933013 0.51393893 0.62937095\n",
      "  0.54918286 0.84477385 0.53955404 0.40099199 0.51164906 0.43816534\n",
      "  0.22270637 0.37843599 0.61847738 0.44054869 0.36149234 0.56416498\n",
      "  0.56694431 0.15463964 0.73740216 0.82769636 0.38858239 0.77717271\n",
      "  0.33558295 0.5410082  0.2593953  0.16111359 0.3004596  0.50765583\n",
      "  0.29595444 0.57078513 0.75506314 0.38516192 0.37587774 0.69786394\n",
      "  0.04866709 0.3474795  0.46003461 0.63409424 0.42375395 0.19337858\n",
      "  0.34483544 0.55685037 0.63521995 0.48442635 0.13709504 0.74917554\n",
      "  0.71730176 0.48418008 0.         0.60368317 0.7867814  0.70604594\n",
      "  0.65170085 1.03218877 0.40941543 0.77288806 0.63918357 0.12128109\n",
      "  0.84313692 0.58854541 0.5038731  0.66403266 0.03927544 0.16732308\n",
      "  0.54264091 0.42112069 0.09430256 0.61384895 0.41214173 0.29334766\n",
      "  0.10376301 0.31984141 0.58423022 0.20547125 0.21294576 0.51967046\n",
      "  0.80481893 0.25911374 0.23717865 0.75032143 0.27995462 0.66407371\n",
      "  0.75744889 0.50856298 0.28803179 0.84919353 0.40966296 0.28436332\n",
      "  0.87511701 0.71874661 0.49088208 0.32531691]\n",
      " [0.57669349 0.01842343 0.00363727 0.33658822 0.98664771 0.6054154\n",
      "  0.28599792 0.25027852 0.30652201 0.20065602 0.12769188 0.36414989\n",
      "  0.2977955  0.59850936 0.76554689 0.70096717 0.48054737 0.82407326\n",
      "  0.55743018 0.75091514 0.40329981 0.18620163 0.27667328 0.25146277\n",
      "  0.64422339 0.65415937 0.65150389 0.69969717 0.43947009 0.38271038\n",
      "  0.67848867 0.09274016 0.58396975 0.75648159 0.51178296 0.54060217\n",
      "  0.30969843 0.36303999 0.75659729 0.2475768  0.22794576 0.46973018\n",
      "  0.55525839 0.28727518 0.38067131 0.08908548 0.30108209 0.70620688\n",
      "  0.75371649 0.34226614 0.2087657  0.17750056 0.62626455 0.22630488\n",
      "  1.05489668 0.57724014 0.60368317 0.         0.70271298 0.39503254\n",
      "  0.48571669 0.71925195 0.28980259 0.64022882 0.5494654  0.5091704\n",
      "  0.3995689  0.48026187 0.5968674  0.45697192 0.62016352 0.43655291\n",
      "  0.48779698 0.43323856 0.6126102  0.6713973  0.26363271 0.53494754\n",
      "  0.70342525 0.53318497 0.10463146 0.75757978 0.58229319 0.71032466\n",
      "  0.24801879 0.694411   0.76024361 0.74564937 0.70207201 0.80195362\n",
      "  0.50012268 0.1659247  0.69860895 0.54367133 0.86680276 0.67393953\n",
      "  0.68257496 0.12066875 0.32299287 0.81392756]\n",
      " [0.14247927 0.6842982  0.70068242 0.38984714 0.57436862 0.14919774\n",
      "  0.93785451 0.94950865 1.00360008 0.85026803 0.76451169 0.33967093\n",
      "  0.94705657 0.20516374 0.37426287 0.46657063 0.29168488 0.56454016\n",
      "  0.93620335 0.5418526  0.29952863 0.59847993 0.77887347 0.45258811\n",
      "  0.23752052 0.68245743 0.05535936 0.05931246 0.96657479 0.40664502\n",
      "  0.5179791  0.75042486 0.539071   0.83072402 0.48640727 0.27963873\n",
      "  0.65915325 0.34447526 0.10728271 0.76713037 0.68116303 0.24170224\n",
      "  0.75883294 0.77515327 0.96543577 0.62931702 0.47873867 0.9791594\n",
      "  0.58277143 0.36711308 0.50443206 0.79372996 0.67769039 0.57845159\n",
      "  0.59946784 0.30565153 0.7867814  0.70271298 0.         0.33247964\n",
      "  0.21726088 0.35142276 0.5024795  0.07250256 0.16862264 0.80441976\n",
      "  0.46691472 0.24048672 0.28931283 0.24698216 0.7644466  0.72154402\n",
      "  0.26457936 0.38856137 0.86969955 0.19798608 0.52741909 0.9721604\n",
      "  0.81762892 0.46759887 0.59809169 0.75433298 0.94494905 0.34096532\n",
      "  0.635144   1.0319713  0.71671915 0.0984491  0.59810636 0.27218094\n",
      "  0.24021432 0.55730676 1.05594621 0.28202326 0.66241106 1.04363515\n",
      "  0.14483265 0.70715289 0.93641248 0.68661546]\n",
      " [0.19277191 0.37703131 0.3923459  0.19501997 0.78377065 0.21285007\n",
      "  0.66252485 0.63093906 0.68260762 0.52106794 0.48452637 0.07675083\n",
      "  0.67327844 0.20413345 0.54664915 0.55744647 0.25807904 0.68780735\n",
      "  0.7811454  0.63233216 0.10197557 0.35248539 0.55144249 0.17564832\n",
      "  0.38252673 0.66447446 0.29075025 0.31538251 0.74818715 0.09733969\n",
      "  0.57471095 0.46174462 0.53091916 0.80977865 0.44825405 0.31400274\n",
      "  0.47060243 0.13687622 0.41296683 0.53085308 0.45242981 0.09273956\n",
      "  0.6636808  0.552957   0.72171309 0.31194391 0.28875507 0.87677115\n",
      "  0.65813713 0.14919576 0.18644286 0.52435764 0.64650167 0.24602617\n",
      "  0.83350908 0.36728159 0.70604594 0.39503254 0.33247964 0.\n",
      "  0.14467591 0.35228033 0.30839165 0.2621862  0.22497839 0.67223248\n",
      "  0.17489237 0.19183193 0.37328731 0.10370321 0.69971627 0.5797615\n",
      "  0.23777427 0.30646752 0.76401204 0.38457182 0.31847253 0.79390547\n",
      "  0.77517932 0.44875228 0.29402511 0.76367287 0.7980264  0.4912235\n",
      "  0.30452447 0.90363155 0.74220552 0.40143521 0.63792993 0.51849595\n",
      "  0.10552606 0.28604604 0.92014056 0.16204106 0.76742346 0.90130182\n",
      "  0.28802971 0.37877464 0.67853435 0.75289061]\n",
      " [0.11179069 0.46731586 0.48374489 0.18180151 0.64289058 0.15853073\n",
      "  0.72418939 0.73343747 0.78803487 0.63982529 0.54913472 0.12533495\n",
      "  0.73375538 0.19309338 0.40726054 0.43480287 0.14847246 0.56104896\n",
      "  0.76581644 0.5123682  0.08242571 0.38779016 0.5767486  0.23533226\n",
      "  0.24079714 0.5818924  0.16594192 0.22221503 0.76993632 0.23955128\n",
      "  0.46247712 0.53388147 0.43936559 0.73194803 0.36436537 0.1883614\n",
      "  0.46839728 0.12902083 0.2788107  0.56204774 0.47690019 0.06425544\n",
      "  0.6151226  0.57470822 0.7601892  0.41431733 0.27953048 0.83589736\n",
      "  0.54316783 0.15205852 0.2914706  0.58043872 0.56872325 0.38045447\n",
      "  0.69036679 0.24033532 0.65170085 0.48571669 0.21726088 0.14467591\n",
      "  0.         0.38203218 0.30328913 0.15980812 0.08041687 0.642625\n",
      "  0.31486252 0.06735174 0.24130636 0.04097464 0.63790179 0.5530189\n",
      "  0.11945573 0.23063252 0.72283384 0.24005796 0.32460514 0.79177095\n",
      "  0.70544506 0.35673733 0.38115017 0.67324889 0.77855066 0.35346972\n",
      "  0.44320313 0.87594319 0.64548354 0.26737166 0.53339113 0.37386059\n",
      "  0.11718374 0.34138301 0.89647408 0.2109972  0.64685464 0.88079595\n",
      "  0.23576869 0.4968831  0.72686567 0.64303521]\n",
      " [0.28987269 0.70286449 0.71602336 0.53362588 0.92575905 0.24213896\n",
      "  1.00055707 0.92567123 0.969626   0.79044198 0.82489734 0.42077507\n",
      "  1.01187102 0.19075475 0.7178206  0.78828973 0.52867636 0.90096306\n",
      "  1.12905549 0.86660114 0.41826383 0.70444825 0.90337665 0.52755519\n",
      "  0.56187464 0.96249693 0.3649221  0.29254726 1.09996396 0.33658439\n",
      "  0.82807098 0.7981147  0.81858081 1.11297805 0.74597615 0.55548343\n",
      "  0.82028134 0.47096936 0.45598663 0.88218254 0.8046586  0.334968\n",
      "  0.99398889 0.90513078 1.07004779 0.63039268 0.63344413 1.21304874\n",
      "  0.90318594 0.48975983 0.51824037 0.86822748 0.95025415 0.51246368\n",
      "  0.94956439 0.60071521 1.03218877 0.71925195 0.35142276 0.35228033\n",
      "  0.38203218 0.         0.65495304 0.30915473 0.41517955 1.01386975\n",
      "  0.33459058 0.44796152 0.59318664 0.36844322 1.01955639 0.92211599\n",
      "  0.49823105 0.61200038 1.09969681 0.53344005 0.66815171 1.14503672\n",
      "  1.08743824 0.7368592  0.62864189 1.05058194 1.14458507 0.67675773\n",
      "  0.53726973 1.2471757  1.01976413 0.44855324 0.90401843 0.62360108\n",
      "  0.27602063 0.63587289 1.26549013 0.19089014 0.995564   1.24783322\n",
      "  0.20677387 0.66443011 1.02354064 1.00648787]\n",
      " [0.41475851 0.27567086 0.29001159 0.12390138 0.6971212  0.45928329\n",
      "  0.4479289  0.52646582 0.5835003  0.48829347 0.29026731 0.23482458\n",
      "  0.45572765 0.48142979 0.48010546 0.41141741 0.22457333 0.53631243\n",
      "  0.47414966 0.46424866 0.24033982 0.11512421 0.27642938 0.15478817\n",
      "  0.37748444 0.4044796  0.4471326  0.5209654  0.46705181 0.36971176\n",
      "  0.39245285 0.28977768 0.30543767 0.5344355  0.22664057 0.27308671\n",
      "  0.16690162 0.1856304  0.52488593 0.26519628 0.17927815 0.32689517\n",
      "  0.36390149 0.27310215 0.46313343 0.27158326 0.02390779 0.57046152\n",
      "  0.47103779 0.16545704 0.23162098 0.30624529 0.38025846 0.35366604\n",
      "  0.76620183 0.29931853 0.40941543 0.28980259 0.5024795  0.30839165\n",
      "  0.30328913 0.65495304 0.         0.45845591 0.33392266 0.36429423\n",
      "  0.43382577 0.2622902  0.32117467 0.29735273 0.41002946 0.27183\n",
      "  0.24394699 0.15093792 0.45861528 0.41300411 0.02921179 0.49246854\n",
      "  0.49116214 0.24551844 0.21672531 0.5100977  0.49019874 0.42660487\n",
      "  0.41631245 0.59524017 0.50201993 0.51537669 0.42550004 0.53287175\n",
      "  0.38187284 0.13162835 0.61196395 0.4646704  0.58576394 0.59351248\n",
      "  0.53825873 0.37127787 0.43727637 0.54176354]\n",
      " [0.0703312  0.62181113 0.63803627 0.34000256 0.62312555 0.08170353\n",
      "  0.88393747 0.88492981 0.9383633  0.7820057  0.7085241  0.2760791\n",
      "  0.89353635 0.14130444 0.40886149 0.48364333 0.26408803 0.59242698\n",
      "  0.90830702 0.56127389 0.23961737 0.54732352 0.73402035 0.39265964\n",
      "  0.25437371 0.68034367 0.0566054  0.06269599 0.9253558  0.33424207\n",
      "  0.52857685 0.69245946 0.53525444 0.83053718 0.47371904 0.26828974\n",
      "  0.62039546 0.28880385 0.17195403 0.72031633 0.63476038 0.17335976\n",
      "  0.74137561 0.73133979 0.91869907 0.56419877 0.43454839 0.96302686\n",
      "  0.59967774 0.31185707 0.4384136  0.74023523 0.672547   0.50772258\n",
      "  0.6542794  0.30502741 0.77288806 0.64022882 0.07250256 0.2621862\n",
      "  0.15980812 0.30915473 0.45845591 0.         0.13474326 0.77979739\n",
      "  0.39459728 0.19847894 0.29328415 0.18335684 0.75364639 0.69355808\n",
      "  0.23405427 0.36039875 0.85162348 0.22428586 0.48147341 0.93962696\n",
      "  0.81253293 0.45841111 0.53570748 0.75967419 0.91888334 0.36787092\n",
      "  0.56351203 1.01071715 0.72502224 0.16149537 0.60709878 0.32382092\n",
      "  0.16778561 0.50069028 1.03327617 0.21353311 0.68795109 1.01945166\n",
      "  0.10933412 0.63909638 0.88638543 0.70364206]\n",
      " [0.12532533 0.5312379  0.5477915  0.22409204 0.56713336 0.17413881\n",
      "  0.77241274 0.79917804 0.85464793 0.71234154 0.60129794 0.19985038\n",
      "  0.78132176 0.22573494 0.33398135 0.37738662 0.12935054 0.49824849\n",
      "  0.77432989 0.45588301 0.15321818 0.43210624 0.61027736 0.29821854\n",
      "  0.16647321 0.55228964 0.11326359 0.19380046 0.79823389 0.31895567\n",
      "  0.41335769 0.5894939  0.40721201 0.70298741 0.3413402  0.14080113\n",
      "  0.49120555 0.18642544 0.20732966 0.59877944 0.51279534 0.13930033\n",
      "  0.60696871 0.60653096 0.79698618 0.48338221 0.3102219  0.82869024\n",
      "  0.49028368 0.20757669 0.36406555 0.62828763 0.54271548 0.45905705\n",
      "  0.61227572 0.18593058 0.63918357 0.5494654  0.16862264 0.22497839\n",
      "  0.08041687 0.41517955 0.33392266 0.13474326 0.         0.64520602\n",
      "  0.39319247 0.07282937 0.18062474 0.12134541 0.62093842 0.55947074\n",
      "  0.09954087 0.22590279 0.71707194 0.16060372 0.35913545 0.8071809\n",
      "  0.68217817 0.32787197 0.44585951 0.63658794 0.78454087 0.28256277\n",
      "  0.52262023 0.87597484 0.60479078 0.19627221 0.48884173 0.29352022\n",
      "  0.17984763 0.39609331 0.89858114 0.26644712 0.58828782 0.88487859\n",
      "  0.23658096 0.57008276 0.76884698 0.59274815]\n",
      " [0.75226867 0.5073243  0.51185477 0.48089624 0.73639543 0.80074463\n",
      "  0.43035758 0.63845034 0.68453422 0.68544918 0.40804453 0.59740446\n",
      "  0.42864022 0.83264294 0.60754731 0.47501817 0.51597833 0.53501125\n",
      "  0.13667087 0.46848303 0.59560958 0.36505736 0.24954213 0.51358083\n",
      "  0.60340915 0.25725482 0.75174547 0.83855165 0.27085913 0.73192443\n",
      "  0.41385429 0.43787006 0.31883361 0.28025304 0.32972965 0.52701798\n",
      "  0.217074   0.54335398 0.78852674 0.27557955 0.28368594 0.68000039\n",
      "  0.09002608 0.23585874 0.33916247 0.55130301 0.38348591 0.20866167\n",
      "  0.44111258 0.52581522 0.57283356 0.37381315 0.23247895 0.67734948\n",
      "  0.81479166 0.51527693 0.12128109 0.5091704  0.80441976 0.67223248\n",
      "  0.642625   1.01386975 0.36429423 0.77979739 0.64520602 0.\n",
      "  0.79138156 0.58526645 0.53742039 0.64754225 0.15603146 0.09248432\n",
      "  0.54574751 0.41940625 0.10389179 0.64991862 0.35863269 0.19375731\n",
      "  0.22237117 0.35532796 0.50574754 0.32492212 0.14110269 0.57810188\n",
      "  0.72751807 0.23359349 0.35275696 0.78224662 0.37400965 0.72081883\n",
      "  0.73807808 0.43890262 0.25400685 0.82540122 0.51934772 0.23967621\n",
      "  0.87523383 0.62793803 0.36978798 0.43779926]\n",
      " [0.32629856 0.38510048 0.39608798 0.3443865  0.95730903 0.32231716\n",
      "  0.68549262 0.59166364 0.63505482 0.45608855 0.51709921 0.23871495\n",
      "  0.69724504 0.28147126 0.72070959 0.73102115 0.43170415 0.86193932\n",
      "  0.88442003 0.80499406 0.27495781 0.4365557  0.62546474 0.27943768\n",
      "  0.55535831 0.82046568 0.43681343 0.43289254 0.81550167 0.07787068\n",
      "  0.74529462 0.48625111 0.69375049 0.96083903 0.60945161 0.48878448\n",
      "  0.57716694 0.29781213 0.56171368 0.60001979 0.53550706 0.25406225\n",
      "  0.79771007 0.6306276  0.77106893 0.31127645 0.41975965 0.99981971\n",
      "  0.8291534  0.30217705 0.22494421 0.56446583 0.80005708 0.18017063\n",
      "  1.0051393  0.54202358 0.84313692 0.3995689  0.46691472 0.17489237\n",
      "  0.31486252 0.33459058 0.43382577 0.39459728 0.39319247 0.79138156\n",
      "  0.         0.36658323 0.54817207 0.27480051 0.84214644 0.70023322\n",
      "  0.41247832 0.4698109  0.88978285 0.55378462 0.43403432 0.884294\n",
      "  0.92149884 0.61341302 0.32417914 0.92273678 0.90456496 0.66566804\n",
      "  0.20383162 1.01490312 0.90481469 0.55046768 0.8051066  0.68470406\n",
      "  0.22932868 0.36070605 1.02746703 0.20182028 0.93985447 1.00616664\n",
      "  0.37512098 0.33126852 0.7179965  0.92149454]\n",
      " [0.16790529 0.46217479 0.47873387 0.15139403 0.59279453 0.21735761\n",
      "  0.69959894 0.73042804 0.78629185 0.6487304  0.52882003 0.14589963\n",
      "  0.70849589 0.25789929 0.35528934 0.37118848 0.08121037 0.49936158\n",
      "  0.7115752  0.44807487 0.09906006 0.35927709 0.53870819 0.23026657\n",
      "  0.19390836 0.51501681 0.1852398  0.26024667 0.72806372 0.28917154\n",
      "  0.39631257 0.51757706 0.37214344 0.66525914 0.29801475 0.12460569\n",
      "  0.42214444 0.11864672 0.27693192 0.52665643 0.44069874 0.12804503\n",
      "  0.55334031 0.53530248 0.72499827 0.41765014 0.23847181 0.7747752\n",
      "  0.47768025 0.13813557 0.30262187 0.55548201 0.50230966 0.40669267\n",
      "  0.64473987 0.17768603 0.58854541 0.48026187 0.24048672 0.19183193\n",
      "  0.06735174 0.44796152 0.2622902  0.19847894 0.07282937 0.58526645\n",
      "  0.36658323 0.         0.181841   0.09688907 0.5734629  0.49732346\n",
      "  0.05225815 0.16802092 0.66210754 0.20449755 0.28694135 0.74139905\n",
      "  0.6396573  0.28964602 0.377561   0.60592387 0.72304295 0.29951323\n",
      "  0.47249096 0.81777045 0.57816835 0.26621198 0.46640381 0.34084901\n",
      "  0.18407798 0.32439773 0.83925081 0.27819954 0.58297197 0.82447982\n",
      "  0.29000209 0.50770222 0.69622169 0.57678412]\n",
      " [0.30418706 0.58032557 0.59624261 0.2679966  0.41612863 0.35104768\n",
      "  0.76359346 0.84271312 0.8997823  0.78448423 0.61142976 0.31919501\n",
      "  0.77039294 0.40549699 0.17923526 0.19676467 0.12634129 0.31993691\n",
      "  0.67330406 0.27525854 0.27581182 0.43605207 0.57204159 0.36891213\n",
      "  0.0663543  0.39318144 0.24640304 0.33786589 0.73878944 0.470557\n",
      "  0.23571865 0.61003381 0.25053056 0.54153877 0.20826643 0.06227364\n",
      "  0.43731824 0.27333344 0.25221798 0.56905201 0.48760445 0.30550344\n",
      "  0.48061987 0.56445512 0.75779147 0.5525799  0.30302601 0.69723054\n",
      "  0.31020279 0.28348069 0.45509705 0.62512713 0.38912028 0.57146734\n",
      "  0.47368574 0.02361398 0.5038731  0.5968674  0.28931283 0.37328731\n",
      "  0.24130636 0.59318664 0.32117467 0.29328415 0.18062474 0.53742039\n",
      "  0.54817207 0.181841   0.         0.27725337 0.4788322  0.46423892\n",
      "  0.13722004 0.17048317 0.59096355 0.11250316 0.35038594 0.71916209\n",
      "  0.52875812 0.18498451 0.50373981 0.46717982 0.67823433 0.12190252\n",
      "  0.63894707 0.75615927 0.43178882 0.2468505  0.31382142 0.21234289\n",
      "  0.35557296 0.43100658 0.78206303 0.44573486 0.40800115 0.77231888\n",
      "  0.40247076 0.65029195 0.74371288 0.41330452]\n",
      " [0.12372649 0.43855022 0.45481474 0.17348334 0.68254783 0.16341161\n",
      "  0.70396202 0.70267534 0.75663821 0.60486444 0.52733024 0.09292178\n",
      "  0.71387642 0.18547972 0.44629956 0.46807375 0.1741588  0.59595097\n",
      "  0.76708819 0.54492992 0.05939506 0.37214614 0.56562555 0.2099219\n",
      "  0.28055785 0.60262448 0.19875696 0.24382227 0.76072161 0.19896328\n",
      "  0.49232578 0.51005071 0.46227738 0.7516947  0.38418644 0.22141793\n",
      "  0.46413373 0.11363864 0.31599907 0.54921407 0.46522981 0.03415401\n",
      "  0.62554672 0.56455342 0.74633139 0.38233968 0.27420379 0.844836\n",
      "  0.57415368 0.13615939 0.25765289 0.56104554 0.58789605 0.34142318\n",
      "  0.73079357 0.27433851 0.66403266 0.45697192 0.24698216 0.10370321\n",
      "  0.04097464 0.36844322 0.29735273 0.18335684 0.12134541 0.64754225\n",
      "  0.27480051 0.09688907 0.27725337 0.         0.65244184 0.5565854\n",
      "  0.14807954 0.24561949 0.73150539 0.2809513  0.31589744 0.78935257\n",
      "  0.7226402  0.37920511 0.35240473 0.69673227 0.78106501 0.39186719\n",
      "  0.40341373 0.88113225 0.67086915 0.3044909  0.5609492  0.41482811\n",
      "  0.0938341  0.31979667 0.90054941 0.1876383  0.6798538  0.88391626\n",
      "  0.24341142 0.46172002 0.71021324 0.67258453]\n",
      " [0.73987546 0.61472547 0.62231994 0.50518512 0.60038127 0.78977313\n",
      "  0.58172431 0.77874624 0.82766086 0.80936492 0.53605682 0.62297292\n",
      "  0.58086808 0.83087364 0.50565167 0.36647962 0.49500197 0.39950889\n",
      "  0.26198035 0.34086673 0.60923687 0.45110374 0.38770614 0.56454504\n",
      "  0.540627   0.11630858 0.71620369 0.80709997 0.42564506 0.77425261\n",
      "  0.30060675 0.56166909 0.23067595 0.1368349  0.27992814 0.48660167\n",
      "  0.31059612 0.56342546 0.72860212 0.40999532 0.39354629 0.68648129\n",
      "  0.07120242 0.37366353 0.495119   0.64561531 0.42250169 0.22174466\n",
      "  0.30643093 0.55079431 0.63912464 0.50907873 0.101091   0.7558586\n",
      "  0.67837827 0.46000701 0.03927544 0.62016352 0.7644466  0.69971627\n",
      "  0.63790179 1.01955639 0.41002946 0.75364639 0.62093842 0.15603146\n",
      "  0.84214644 0.5734629  0.4788322  0.65244184 0.         0.18759365\n",
      "  0.52604379 0.40755679 0.1311352  0.58735099 0.41551081 0.33251572\n",
      "  0.08380112 0.29688463 0.59442881 0.16889413 0.25196213 0.48805193\n",
      "  0.8133469  0.29301763 0.19864371 0.72427956 0.24215106 0.63222344\n",
      "  0.74619715 0.51619041 0.32269128 0.8389031  0.3704537  0.3204876\n",
      "  0.85743494 0.73308839 0.52368973 0.2863001 ]\n",
      " [0.66340075 0.43254502 0.43892195 0.38879778 0.70750219 0.71144087\n",
      "  0.40659754 0.59255936 0.642556   0.62252005 0.34846816 0.50501993\n",
      "  0.40745381 0.74192655 0.55425447 0.42996973 0.43090562 0.5096866\n",
      "  0.21489125 0.43807685 0.50394061 0.27937439 0.20336745 0.42181023\n",
      "  0.53059311 0.25482357 0.66801773 0.75324124 0.29305338 0.63990625\n",
      "  0.37492228 0.37443721 0.27121172 0.32419604 0.26145478 0.44742968\n",
      "  0.13152392 0.45134152 0.71224821 0.22372173 0.20864174 0.58875814\n",
      "  0.11929312 0.18946487 0.34097545 0.47027992 0.2910263  0.2997077\n",
      "  0.41831612 0.43356048 0.48347679 0.32230377 0.22615988 0.5913521\n",
      "  0.78531158 0.44130122 0.16732308 0.43655291 0.72154402 0.5797615\n",
      "  0.5530189  0.92211599 0.27183    0.69355808 0.55947074 0.09248432\n",
      "  0.70023322 0.49732346 0.46423892 0.5565854  0.18759365 0.\n",
      "  0.45995486 0.33377901 0.19012207 0.57626212 0.26673733 0.25494072\n",
      "  0.26890385 0.2891697  0.42222935 0.34440225 0.22575051 0.51866688\n",
      "  0.64399766 0.32506479 0.36126942 0.70531151 0.3521743  0.65797123\n",
      "  0.64652562 0.35127843 0.34396588 0.73330877 0.511382   0.32778269\n",
      "  0.786851   0.55242714 0.35582939 0.43696028]\n",
      " [0.21386116 0.47019759 0.48663017 0.15128549 0.55267917 0.26378386\n",
      "  0.6897234  0.73767105 0.79420784 0.6653958  0.52388811 0.18209938\n",
      "  0.698006   0.30765908 0.31510978 0.32098284 0.03104365 0.4503739\n",
      "  0.67482751 0.39726307 0.13873452 0.34995846 0.51826119 0.24471979\n",
      "  0.16264687 0.46427287 0.2097934  0.2932868  0.70296159 0.33465725\n",
      "  0.34436067 0.51606517 0.32075837 0.61475732 0.24845067 0.07636584\n",
      "  0.39508634 0.13994182 0.28137644 0.50872097 0.42300058 0.180012\n",
      "  0.5090963  0.51363285 0.70588262 0.43269733 0.22104167 0.73084403\n",
      "  0.42607521 0.1538505  0.32562897 0.54638473 0.45232175 0.43752653\n",
      "  0.60800151 0.12954629 0.54264091 0.48779698 0.26457936 0.23777427\n",
      "  0.11945573 0.49823105 0.24394699 0.23405427 0.09954087 0.54574751\n",
      "  0.41247832 0.05225815 0.13722004 0.14807954 0.52604379 0.45995486\n",
      "  0.         0.1263771  0.61878944 0.18400223 0.27107326 0.7083267\n",
      "  0.5904489  0.23865577 0.38821738 0.55416349 0.68500213 0.25820627\n",
      "  0.5045505  0.77684496 0.52604124 0.27165611 0.41414802 0.31762809\n",
      "  0.23633432 0.32582313 0.79924794 0.33041439 0.53232687 0.78540903\n",
      "  0.33270191 0.52694013 0.6812179  0.52475279]\n",
      " [0.3359126  0.41757552 0.43295766 0.13219111 0.55695669 0.38536253\n",
      "  0.59431117 0.67548936 0.7325864  0.62672248 0.44105895 0.23275072\n",
      "  0.6014201  0.42372589 0.33231826 0.28266546 0.0971569  0.41388413\n",
      "  0.54866992 0.34765967 0.20791576 0.2660228  0.40817066 0.22999155\n",
      "  0.22908056 0.35935545 0.33454523 0.41955236 0.58519349 0.3942734\n",
      "  0.28138386 0.44048476 0.22471574 0.50705935 0.14185193 0.12721658\n",
      "  0.27782893 0.17229845 0.39077755 0.40266109 0.31938555 0.27976561\n",
      "  0.38533782 0.40183193 0.59566667 0.39894138 0.1340001  0.60675803\n",
      "  0.36517511 0.16862415 0.32061233 0.45489897 0.34315553 0.44501991\n",
      "  0.62290226 0.14840548 0.42112069 0.43323856 0.38856137 0.30646752\n",
      "  0.23063252 0.61200038 0.15093792 0.36039875 0.22590279 0.41940625\n",
      "  0.4698109  0.16802092 0.17048317 0.24561949 0.40755679 0.33377901\n",
      "  0.1263771  0.         0.49414777 0.26775402 0.18012167 0.58364808\n",
      "  0.47702648 0.14360214 0.34674124 0.45728302 0.55864574 0.27745144\n",
      "  0.51237426 0.65087182 0.43612296 0.3824072  0.33571868 0.38263431\n",
      "  0.33944346 0.26798225 0.67302383 0.43302587 0.47916524 0.65905326\n",
      "  0.45729798 0.49904622 0.5773639  0.4528463 ]\n",
      " [0.83001094 0.61102653 0.61533564 0.57020454 0.73033812 0.87932302\n",
      "  0.51427812 0.73215451 0.77588269 0.78618972 0.50884601 0.68813513\n",
      "  0.51100246 0.91505892 0.63353441 0.4951883  0.58812317 0.53002531\n",
      "  0.14140487 0.47199272 0.68235339 0.46775475 0.34839639 0.61080327\n",
      "  0.65516188 0.24738324 0.81896263 0.9081661  0.32788356 0.82812843\n",
      "  0.42986436 0.53958323 0.35106016 0.21245615 0.38429801 0.5900674\n",
      "  0.3194412  0.63187631 0.84300793 0.375578   0.38756978 0.76475724\n",
      "  0.11088891 0.33513683 0.4086525  0.6551027  0.47615227 0.1133543\n",
      "  0.43731309 0.61579284 0.67358163 0.47227956 0.23125468 0.78014408\n",
      "  0.80810048 0.57041403 0.09430256 0.6126102  0.86969955 0.76401204\n",
      "  0.72283384 1.09969681 0.45861528 0.85162348 0.71707194 0.10389179\n",
      "  0.88978285 0.66210754 0.59096355 0.73150539 0.1311352  0.19012207\n",
      "  0.61878944 0.49414777 0.         0.70212788 0.45581006 0.21536914\n",
      "  0.15861542 0.40600747 0.6091729  0.28155678 0.12578379 0.61251475\n",
      "  0.83103199 0.16636623 0.31952899 0.83781305 0.37328601 0.75694188\n",
      "  0.82375511 0.54082183 0.19442738 0.91336239 0.49536545 0.19006605\n",
      "  0.95122907 0.73164359 0.44918978 0.40951846]\n",
      " [0.25910441 0.65391011 0.67030063 0.33483858 0.40995617 0.29761143\n",
      "  0.86049033 0.92091826 0.977594   0.84885853 0.70092331 0.34979459\n",
      "  0.86796047 0.35723976 0.18519576 0.26889297 0.19227339 0.36915928\n",
      "  0.7857977  0.34386719 0.30247398 0.52520853 0.67556354 0.42809728\n",
      "  0.04696605 0.49578571 0.16904033 0.25379403 0.84753048 0.47941409\n",
      "  0.32258044 0.69570712 0.35710535 0.64085713 0.32059816 0.14073077\n",
      "  0.54307137 0.3198133  0.14126858 0.67041402 0.58684689 0.29979544\n",
      "  0.59212787 0.66881788 0.8626613  0.61633705 0.39225819 0.80718065\n",
      "  0.3849195  0.33622676 0.50585041 0.71924431 0.4945359  0.61097542\n",
      "  0.45215524 0.13501638 0.61384895 0.6713973  0.19798608 0.38457182\n",
      "  0.24005796 0.53344005 0.41300411 0.22428586 0.16060372 0.64991862\n",
      "  0.55378462 0.20449755 0.11250316 0.2809513  0.58735099 0.57626212\n",
      "  0.18400223 0.26775402 0.70212788 0.         0.44181111 0.83120019\n",
      "  0.63275206 0.29665961 0.57221874 0.56063367 0.79070677 0.14440832\n",
      "  0.6763643  0.8677178  0.52142248 0.13712789 0.40303738 0.13636204\n",
      "  0.33578935 0.50816933 0.89390786 0.4143857  0.46595006 0.88447392\n",
      "  0.33059233 0.70944898 0.84509895 0.48868036]\n",
      " [0.43543123 0.25011397 0.2640141  0.14313417 0.72427188 0.47883337\n",
      "  0.41958702 0.49805837 0.55505442 0.46310424 0.26105618 0.24739865\n",
      "  0.42753834 0.49827898 0.50866708 0.43738177 0.25264243 0.56090081\n",
      "  0.4627213  0.48823655 0.25769483 0.08604572 0.25254721 0.15508699\n",
      "  0.40657499 0.41776226 0.47213566 0.54411579 0.44548536 0.37329585\n",
      "  0.41608058 0.26078444 0.32591736 0.5431149  0.24954855 0.3020844\n",
      "  0.15225081 0.20270791 0.552341   0.23971524 0.15376876 0.34412993\n",
      "  0.36546052 0.25013234 0.43808902 0.25099153 0.05012736 0.56642691\n",
      "  0.4933835  0.18123328 0.22361875 0.27747082 0.39253523 0.34220635\n",
      "  0.79384944 0.32851394 0.41214173 0.26363271 0.52741909 0.31847253\n",
      "  0.32460514 0.66815171 0.02921179 0.48147341 0.35913545 0.35863269\n",
      "  0.43403432 0.28694135 0.35038594 0.31589744 0.41551081 0.26673733\n",
      "  0.27107326 0.18012167 0.45581006 0.44181111 0.         0.47710355\n",
      "  0.49780748 0.26987642 0.19608859 0.52352888 0.4799802  0.45541417\n",
      "  0.40288441 0.58699208 0.51775254 0.54270929 0.4457364  0.56206777\n",
      "  0.39742543 0.11077881 0.60246016 0.47736477 0.60768284 0.5831627\n",
      "  0.55832087 0.34963728 0.41044926 0.56102662]\n",
      " [0.90348719 0.53983036 0.53833632 0.61622693 0.9277407  0.94972841\n",
      "  0.34903424 0.58444236 0.61881114 0.67109549 0.41078132 0.72443348\n",
      "  0.34224831 0.9738838  0.80020619 0.66866242 0.68049471 0.72609901\n",
      "  0.0741422  0.66116074 0.73280209 0.4491589  0.26291815 0.62176706\n",
      "  0.78551608 0.44433514 0.91788181 1.00060577 0.13276813 0.83640514\n",
      "  0.60759271 0.4460563  0.51179173 0.42745255 0.51492532 0.70125809\n",
      "  0.32563723 0.67807859 0.96678978 0.29096279 0.34894268 0.81933815\n",
      "  0.27866269 0.25553596 0.22305455 0.60134343 0.51526393 0.23206154\n",
      "  0.63209171 0.65751483 0.65934992 0.36332699 0.42192433 0.7414138\n",
      "  1.0061076  0.69624154 0.29334766 0.53494754 0.9721604  0.79390547\n",
      "  0.79177095 1.14503672 0.49246854 0.93962696 0.8071809  0.19375731\n",
      "  0.884294   0.74139905 0.71916209 0.78935257 0.33251572 0.25494072\n",
      "  0.7083267  0.58364808 0.21536914 0.83120019 0.47710355 0.\n",
      "  0.37393685 0.54196882 0.56842355 0.49481723 0.09513243 0.76880061\n",
      "  0.77851037 0.17808152 0.52988344 0.95967949 0.56534621 0.91019482\n",
      "  0.87407343 0.52420769 0.17177945 0.95416116 0.70296323 0.14552624\n",
      "  1.02751046 0.65415402 0.27892796 0.61860002]\n",
      " [0.80385019 0.69821177 0.70562267 0.58172188 0.5902499  0.853769\n",
      "  0.6527213  0.85654035 0.90427752 0.89141122 0.61687077 0.69859568\n",
      "  0.65098877 0.89754596 0.52930668 0.39041328 0.55959182 0.39535929\n",
      "  0.30001997 0.34866319 0.68219233 0.53487959 0.46524656 0.64515322\n",
      "  0.58693179 0.13731244 0.77180826 0.86336882 0.48175351 0.8523518\n",
      "  0.32468693 0.64332521 0.27858042 0.05788199 0.34200102 0.54424347\n",
      "  0.3940647  0.63839642 0.77299835 0.48877703 0.47634244 0.75678929\n",
      "  0.14982069 0.45123042 0.55772499 0.72940907 0.50259543 0.20766217\n",
      "  0.30810176 0.62696645 0.72128367 0.58804379 0.14012967 0.83887455\n",
      "  0.66653657 0.51201795 0.10376301 0.70342525 0.81762892 0.77517932\n",
      "  0.70544506 1.08743824 0.49116214 0.81253293 0.68217817 0.22237117\n",
      "  0.92149884 0.6396573  0.52875812 0.7226402  0.08380112 0.26890385\n",
      "  0.5904489  0.47702648 0.15861542 0.63275206 0.49780748 0.37393685\n",
      "  0.         0.3544008  0.67815123 0.12714917 0.28347384 0.52034181\n",
      "  0.89677958 0.29220717 0.17021459 0.76970502 0.25263882 0.66199792\n",
      "  0.81645264 0.59957047 0.32360263 0.91000619 0.34635415 0.32820763\n",
      "  0.91847856 0.81676372 0.59173013 0.25988338]\n",
      " [0.45046274 0.51996183 0.53368115 0.27321103 0.46158376 0.50028061\n",
      "  0.63679612 0.75942494 0.81573139 0.73297597 0.51016589 0.37603817\n",
      "  0.64159102 0.54620826 0.27122768 0.17056919 0.20847944 0.29102536\n",
      "  0.49189593 0.21874787 0.34847124 0.34955064 0.43122875 0.3650546\n",
      "  0.24975571 0.22564613 0.41946957 0.5105936  0.57604017 0.53777698\n",
      "  0.14729855 0.51872132 0.08309219 0.37624541 0.02868445 0.1903108\n",
      "  0.29494709 0.31581677 0.43715515 0.43549722 0.36545611 0.41300747\n",
      "  0.29564091 0.42103868 0.60787623 0.51596584 0.24010893 0.5129724\n",
      "  0.22820699 0.31192904 0.45475926 0.51068098 0.21485441 0.58026545\n",
      "  0.53476431 0.16453329 0.31984141 0.53318497 0.46759887 0.44875228\n",
      "  0.35673733 0.7368592  0.24551844 0.45841111 0.32787197 0.35532796\n",
      "  0.61341302 0.28964602 0.18498451 0.37920511 0.29688463 0.2891697\n",
      "  0.23865577 0.14360214 0.40600747 0.29665961 0.26987642 0.54196882\n",
      "  0.3544008  0.         0.46140719 0.31755621 0.49534805 0.23065048\n",
      "  0.64662139 0.57120209 0.29356319 0.43182845 0.19266908 0.36881021\n",
      "  0.47168159 0.3768863  0.5972549  0.56612732 0.34335815 0.58792447\n",
      "  0.56407838 0.61615936 0.60468253 0.31031646]\n",
      " [0.47259776 0.08621141 0.10259932 0.23817402 0.90366078 0.50241238\n",
      "  0.37215945 0.35332718 0.40885832 0.28094814 0.19656522 0.25964378\n",
      "  0.38336972 0.49813756 0.67682529 0.62387598 0.38347712 0.75124302\n",
      "  0.57782469 0.68004185 0.29872565 0.14368236 0.30600712 0.14764744\n",
      "  0.54739863 0.61033821 0.54699276 0.5953812  0.49192353 0.29363994\n",
      "  0.60864706 0.16973882 0.52164929 0.72742092 0.44331932 0.44535181\n",
      "  0.29073619 0.25957874 0.65315574 0.27906354 0.22654854 0.36575958\n",
      "  0.53572287 0.31288773 0.44764991 0.05493744 0.22168687 0.71172066\n",
      "  0.68773946 0.23943426 0.1107126  0.2418167  0.5840319  0.1742919\n",
      "  0.96932654 0.48538402 0.58423022 0.10463146 0.59809169 0.29402511\n",
      "  0.38115017 0.62864189 0.21672531 0.53570748 0.44585951 0.50574754\n",
      "  0.32417914 0.377561   0.50373981 0.35240473 0.59442881 0.42222935\n",
      "  0.38821738 0.34674124 0.6091729  0.57221874 0.19608859 0.56842355\n",
      "  0.67815123 0.46140719 0.         0.71583926 0.60043141 0.62054174\n",
      "  0.22190781 0.71292312 0.71244117 0.64212973 0.64161035 0.70466572\n",
      "  0.39826    0.08540054 0.72158924 0.44754863 0.80248915 0.69853748\n",
      "  0.58027128 0.15475254 0.39680984 0.75711189]\n",
      " [0.76155444 0.74962866 0.75929475 0.57836858 0.46638747 0.81071778\n",
      "  0.74747454 0.9357177  0.98652473 0.95343015 0.68717969 0.68911576\n",
      "  0.74718086 0.85991541 0.43183401 0.29899155 0.52478887 0.27696157\n",
      "  0.42180883 0.24198565 0.66479952 0.57735696 0.54776195 0.65687548\n",
      "  0.51748483 0.10576719 0.71353471 0.80483363 0.59403351 0.84917455\n",
      "  0.238568   0.70946966 0.23446594 0.09535383 0.31543708 0.49578681\n",
      "  0.45180866 0.62822947 0.69653219 0.56761594 0.53810338 0.73047915\n",
      "  0.23790489 0.53383984 0.66393644 0.76967754 0.51597032 0.33281691\n",
      "  0.19805197 0.62106095 0.74068791 0.66530109 0.13194628 0.86375099\n",
      "  0.54173546 0.45467748 0.20547125 0.75757978 0.75433298 0.76367287\n",
      "  0.67324889 1.05058194 0.5100977  0.75967419 0.63658794 0.32492212\n",
      "  0.92273678 0.60592387 0.46717982 0.69673227 0.16889413 0.34440225\n",
      "  0.55416349 0.45728302 0.28155678 0.56063367 0.52352888 0.49481723\n",
      "  0.12714917 0.31755621 0.71583926 0.         0.40733719 0.43336897\n",
      "  0.92604349 0.41872971 0.04719682 0.69480941 0.15835443 0.56842328\n",
      "  0.78894086 0.63241543 0.45017679 0.88339041 0.21977702 0.45530815\n",
      "  0.86833888 0.8635034  0.69118633 0.13357248]\n",
      " [0.88910659 0.58448747 0.58545069 0.61107597 0.85216696 0.93703383\n",
      "  0.43016101 0.66096405 0.69904786 0.73545406 0.46462243 0.72502197\n",
      "  0.42467846 0.9665395  0.74120922 0.60551167 0.65557248 0.65096849\n",
      "  0.02700636 0.58974032 0.72723004 0.46892098 0.30572543 0.63212111\n",
      "  0.7441075  0.36739597 0.89199815 0.97817087 0.22236944 0.85034733\n",
      "  0.5418804  0.4986656  0.45331487 0.33518657 0.47024926 0.66801517\n",
      "  0.32920388 0.67373417 0.92955379 0.33482689 0.37419642 0.81277404\n",
      "  0.20962937 0.29506344 0.31047712 0.63944049 0.51122693 0.14178057\n",
      "  0.55742413 0.65487449 0.68120693 0.42081112 0.3479442  0.77471056\n",
      "  0.93024528 0.65620406 0.21294576 0.58229319 0.94494905 0.7980264\n",
      "  0.77855066 1.14458507 0.49019874 0.91888334 0.78454087 0.14110269\n",
      "  0.90456496 0.72304295 0.67823433 0.78106501 0.25196213 0.22575051\n",
      "  0.68500213 0.55864574 0.12578379 0.79070677 0.4799802  0.09513243\n",
      "  0.28347384 0.49534805 0.60043141 0.40733719 0.         0.71482346\n",
      "  0.81797446 0.11268889 0.44498934 0.92331706 0.49188078 0.85841736\n",
      "  0.86984851 0.54489645 0.12297362 0.95471457 0.6203344  0.10331377\n",
      "  1.01259778 0.70293197 0.36104206 0.53478149]\n",
      " [0.3964488  0.69437375 0.70994489 0.3876724  0.29448292 0.43830998\n",
      "  0.85637549 0.95268934 1.00977243 0.90146845 0.71413251 0.44027769\n",
      "  0.862173   0.49684153 0.05739182 0.13445975 0.24815754 0.22478172\n",
      "  0.71436135 0.20352072 0.39601074 0.54136869 0.65595993 0.48927515\n",
      "  0.11734868 0.38387492 0.31323782 0.39778322 0.80667728 0.58852796\n",
      "  0.19687867 0.71611508 0.26214789 0.51992732 0.25917066 0.18417416\n",
      "  0.51899769 0.39523595 0.26652435 0.65707694 0.58040483 0.41736146\n",
      "  0.50721726 0.64672699 0.83649376 0.67070699 0.41121441 0.70966317\n",
      "  0.24654184 0.40514959 0.57636365 0.72277739 0.38891955 0.693344\n",
      "  0.35213362 0.13632058 0.51967046 0.71032466 0.34096532 0.4912235\n",
      "  0.35346972 0.67675773 0.42660487 0.36787092 0.28256277 0.57810188\n",
      "  0.66566804 0.29951323 0.12190252 0.39186719 0.48805193 0.51866688\n",
      "  0.25820627 0.27745144 0.61251475 0.14440832 0.45541417 0.76880061\n",
      "  0.52034181 0.23065048 0.62054174 0.43336897 0.71482346 0.\n",
      "  0.76084255 0.77860105 0.39091686 0.26639377 0.27540005 0.14443033\n",
      "  0.4623501  0.54461817 0.80692824 0.54767911 0.32168391 0.80097006\n",
      "  0.47490746 0.76933739 0.82961939 0.34883017]\n",
      " [0.49320362 0.24004819 0.24441946 0.38181718 1.05452155 0.50243135\n",
      "  0.52307446 0.39452762 0.43450259 0.25359491 0.37568707 0.32665967\n",
      "  0.53507697 0.47223769 0.8181799  0.79437469 0.51273819 0.92610606\n",
      "  0.79443227 0.85971783 0.37390199 0.36484151 0.5163584  0.28257977\n",
      "  0.66511454 0.82030484 0.59517856 0.61155912 0.68736867 0.2339156\n",
      "  0.79171665 0.34072047 0.71692014 0.94438302 0.63382313 0.57668945\n",
      "  0.5125639  0.36564917 0.7173601  0.48781633 0.44641739 0.39724646\n",
      "  0.75648116 0.52519658 0.62743315 0.17853397 0.41296519 0.9328189\n",
      "  0.87444445 0.35645415 0.19209968 0.42550288 0.79537117 0.06780429\n",
      "  1.11224141 0.62603918 0.80481893 0.24801879 0.635144   0.30452447\n",
      "  0.44320313 0.53726973 0.41631245 0.56351203 0.52262023 0.72751807\n",
      "  0.20383162 0.47249096 0.63894707 0.40341373 0.8133469  0.64399766\n",
      "  0.5045505  0.51237426 0.83103199 0.6763643  0.40288441 0.77851037\n",
      "  0.89677958 0.64662139 0.22190781 0.92604349 0.81797446 0.76084255\n",
      "  0.         0.93066316 0.9181901  0.70582388 0.83616708 0.81258894\n",
      "  0.39718741 0.29722153 0.93758451 0.39759834 0.98939627 0.91375288\n",
      "  0.56591432 0.1448759  0.56791443 0.95378922]\n",
      " [0.98517133 0.69688416 0.69759967 0.7138126  0.88178169 1.03386164\n",
      "  0.52708654 0.76199187 0.79688192 0.84351908 0.57540199 0.82953035\n",
      "  0.52032745 1.06622773 0.79839638 0.65943188 0.74663072 0.68452511\n",
      "  0.1369815  0.6312742  0.82896928 0.58024259 0.41773883 0.74055196\n",
      "  0.8207637  0.40692591 0.9803527  1.06851023 0.31002849 0.95913538\n",
      "  0.59362085 0.60979362 0.51739298 0.33119442 0.54860543 0.75271006\n",
      "  0.43811383 0.77638645 1.00835641 0.4468387  0.48653766 0.91355029\n",
      "  0.2755912  0.40736332 0.40051336 0.75212919 0.61534063 0.08848747\n",
      "  0.5939864  0.75841311 0.79228078 0.53052664 0.39410369 0.88717493\n",
      "  0.95844398 0.73524699 0.25911374 0.694411   1.0319713  0.90363155\n",
      "  0.87594319 1.2471757  0.59524017 1.01071715 0.87597484 0.23359349\n",
      "  1.01490312 0.81777045 0.75615927 0.88113225 0.29301763 0.32506479\n",
      "  0.77684496 0.65087182 0.16636623 0.8677178  0.58699208 0.17808152\n",
      "  0.29220717 0.57120209 0.71292312 0.41872971 0.11268889 0.77860105\n",
      "  0.93066316 0.         0.4624135  1.00294646 0.53256034 0.92302875\n",
      "  0.97151472 0.65610891 0.0314629  1.05828715 0.63841185 0.04484552\n",
      "  1.10775258 0.81498777 0.45699695 0.55199769]\n",
      " [0.73007944 0.75127023 0.7617564  0.56129755 0.42063315 0.77879412\n",
      "  0.76740522 0.94780001 0.99977561 0.95820567 0.69686481 0.66885748\n",
      "  0.76778698 0.82946086 0.38692113 0.2565025  0.49747415 0.22981607\n",
      "  0.45787532 0.19611718 0.64202368 0.57714429 0.56379102 0.64438252\n",
      "  0.47929701 0.1082603  0.67749937 0.76837872 0.6234859  0.83007711\n",
      "  0.19890047 0.71728288 0.2114078  0.14251257 0.29536457 0.46428077\n",
      "  0.4593661  0.60825094 0.65561596 0.58190111 0.54585379 0.70426726\n",
      "  0.26343858 0.5500634  0.6898461  0.76686549 0.50575987 0.37746638\n",
      "  0.15181077 0.60263771 0.73029168 0.67804349 0.13728273 0.85458615\n",
      "  0.49652284 0.42076606 0.23717865 0.76024361 0.71671915 0.74220552\n",
      "  0.64548354 1.01976413 0.50201993 0.72502224 0.60479078 0.35275696\n",
      "  0.90481469 0.57816835 0.43178882 0.67086915 0.19864371 0.36126942\n",
      "  0.52604124 0.43612296 0.31952899 0.52142248 0.51775254 0.52988344\n",
      "  0.17021459 0.29356319 0.71244117 0.04719682 0.44498934 0.39091686\n",
      "  0.9181901  0.4624135  0.         0.65429762 0.11861291 0.52390818\n",
      "  0.76201049 0.6279424  0.49379689 0.85631738 0.17666025 0.4978756\n",
      "  0.83408765 0.86261832 0.71362981 0.09026237]\n",
      " [0.22493988 0.72744573 0.74400275 0.41623735 0.47834196 0.24280529\n",
      "  0.96115855 0.99544307 1.05091641 0.90682238 0.79337718 0.39242053\n",
      "  0.96954165 0.30110654 0.29052875 0.39876858 0.29184431 0.48384684\n",
      "  0.91726039 0.46990839 0.3473225  0.62093279 0.78776706 0.49448575\n",
      "  0.1836614  0.63262654 0.11365428 0.15614276 0.96759431 0.48480516\n",
      "  0.45624503 0.78332882 0.49419119 0.77678643 0.45459066 0.258803\n",
      "  0.66008307 0.38263753 0.01153759 0.77945923 0.6940267  0.30871385\n",
      "  0.72744619 0.78237831 0.97562867 0.67919597 0.49264346 0.94369766\n",
      "  0.51281279 0.40350547 0.55827251 0.81756271 0.63165256 0.64538784\n",
      "  0.50135755 0.26779411 0.75032143 0.74564937 0.0984491  0.40143521\n",
      "  0.26737166 0.44855324 0.51537669 0.16149537 0.19627221 0.78224662\n",
      "  0.55046768 0.26621198 0.2468505  0.3044909  0.72427956 0.70531151\n",
      "  0.27165611 0.3824072  0.83781305 0.13712789 0.54270929 0.95967949\n",
      "  0.76970502 0.43182845 0.64212973 0.69480941 0.92331706 0.26639377\n",
      "  0.70582388 1.00294646 0.65429762 0.         0.53659995 0.17651914\n",
      "  0.32114517 0.59045404 1.02868546 0.3750271  0.58287901 1.0185584\n",
      "  0.24265159 0.76404716 0.95259091 0.61518888]\n",
      " [0.61414831 0.69091563 0.7031039  0.46586662 0.36250091 0.66245205\n",
      "  0.75222446 0.90975329 0.96415331 0.90258544 0.65638782 0.56691122\n",
      "  0.75445372 0.71422102 0.27786566 0.14142863 0.38679842 0.16100222\n",
      "  0.49892607 0.09882751 0.53647153 0.51590872 0.54271952 0.55618815\n",
      "  0.36069731 0.12603879 0.5591022  0.649867   0.63865828 0.72890142\n",
      "  0.0804717  0.67186838 0.12006585 0.24532743 0.20240614 0.34907335\n",
      "  0.42063164 0.50729449 0.53822383 0.55574416 0.50432228 0.59376924\n",
      "  0.28668358 0.52993528 0.69298623 0.69654776 0.42467028 0.45445667\n",
      "  0.06719008 0.50431775 0.64504703 0.64558861 0.14405303 0.7705273\n",
      "  0.44089554 0.3037177  0.27995462 0.70207201 0.59810636 0.63792993\n",
      "  0.53339113 0.90401843 0.42550004 0.60709878 0.48884173 0.37400965\n",
      "  0.8051066  0.46640381 0.31382142 0.5609492  0.24215106 0.3521743\n",
      "  0.41414802 0.33571868 0.37328601 0.40303738 0.4457364  0.56534621\n",
      "  0.25263882 0.19266908 0.64161035 0.15835443 0.49188078 0.27540005\n",
      "  0.83616708 0.53256034 0.11861291 0.53659995 0.         0.4128214\n",
      "  0.65045949 0.55621074 0.56297334 0.74435568 0.1666332  0.56216699\n",
      "  0.71628779 0.79534386 0.70636061 0.11790629]\n",
      " [0.37458236 0.78480167 0.80104315 0.46651482 0.30222112 0.40442218\n",
      "  0.97579658 1.05023322 1.10715252 0.98295149 0.8230688  0.48610175\n",
      "  0.98249391 0.46470595 0.13737063 0.27197918 0.32150049 0.32547179\n",
      "  0.85733482 0.32902119 0.43875044 0.64735577 0.78211833 0.56234709\n",
      "  0.15776488 0.52645845 0.26806216 0.33122554 0.94207384 0.6118808\n",
      "  0.33732002 0.82054368 0.40639675 0.65811542 0.39661294 0.2622306\n",
      "  0.64618571 0.45542527 0.17089648 0.78027435 0.69960459 0.43103801\n",
      "  0.65137396 0.77395869 0.96634858 0.75019634 0.51395708 0.85369774\n",
      "  0.37370221 0.47110778 0.64165192 0.83744703 0.53267042 0.74731215\n",
      "  0.33057979 0.23516517 0.66407371 0.80195362 0.27218094 0.51849595\n",
      "  0.37386059 0.62360108 0.53287175 0.32382092 0.29352022 0.72081883\n",
      "  0.68470406 0.34084901 0.21234289 0.41482811 0.63222344 0.65797123\n",
      "  0.31762809 0.38263431 0.75694188 0.13636204 0.56206777 0.91019482\n",
      "  0.66199792 0.36881021 0.70466572 0.56842328 0.85841736 0.14443033\n",
      "  0.81258894 0.92302875 0.52390818 0.17651914 0.4128214  0.\n",
      "  0.4609976  0.63713998 0.95135156 0.53118825 0.42414274 0.94528913\n",
      "  0.41692005 0.84444295 0.95465428 0.46971164]\n",
      " [0.0979106  0.48203588 0.49748802 0.25895426 0.74531226 0.10810591\n",
      "  0.76396117 0.73627246 0.78765542 0.62399943 0.5858832  0.15288497\n",
      "  0.7744864  0.1029171  0.51368354 0.55077757 0.26454284 0.67540325\n",
      "  0.85498835 0.62867107 0.14264647 0.44392739 0.6414989  0.27043147\n",
      "  0.34622962 0.6958351  0.20749186 0.21464373 0.83802512 0.1664589\n",
      "  0.57962526 0.56452265 0.55463897 0.84518525 0.47751243 0.30503961\n",
      "  0.54846063 0.19643363 0.3324053  0.62286948 0.54126634 0.05972348\n",
      "  0.71849941 0.64169312 0.81717806 0.41746539 0.35962681 0.93710941\n",
      "  0.66008366 0.21656093 0.29180026 0.62390176 0.68145901 0.34408724\n",
      "  0.78724703 0.35632432 0.75744889 0.50012268 0.24021432 0.10552606\n",
      "  0.11718374 0.27602063 0.38187284 0.16778561 0.17984763 0.73807808\n",
      "  0.22932868 0.18407798 0.35557296 0.0938341  0.74619715 0.64652562\n",
      "  0.23633432 0.33944346 0.82375511 0.33578935 0.39742543 0.87407343\n",
      "  0.81645264 0.47168159 0.39826    0.78894086 0.86984851 0.4623501\n",
      "  0.39718741 0.97151472 0.76201049 0.32114517 0.65045949 0.4609976\n",
      "  0.         0.38288108 0.99022434 0.09445294 0.76278398 0.97297397\n",
      "  0.18255926 0.48251829 0.77673204 0.76018787]\n",
      " [0.44344255 0.14975596 0.16541284 0.17511231 0.82348006 0.47966786\n",
      "  0.38419531 0.4131398  0.47002109 0.35953777 0.2078361  0.23214024\n",
      "  0.39419163 0.48566396 0.60008466 0.54099851 0.31631218 0.66730224\n",
      "  0.52417077 0.59562761 0.26143973 0.0760074  0.26960946 0.11249645\n",
      "  0.47938187 0.52674166 0.50380384 0.56249829 0.4650088  0.31333962\n",
      "  0.52398303 0.19347786 0.4362574  0.64733523 0.35826121 0.3752728\n",
      "  0.22184409 0.21286117 0.60104387 0.2468617  0.17529672 0.34007054\n",
      "  0.46050185 0.27305013 0.43567645 0.14033749 0.13833109 0.64713383\n",
      "  0.60263462 0.19020527 0.13634413 0.24184714 0.50086118 0.2407359\n",
      "  0.89060088 0.41131561 0.50856298 0.1659247  0.55730676 0.28604604\n",
      "  0.34138301 0.63587289 0.13162835 0.50069028 0.39609331 0.43890262\n",
      "  0.36070605 0.32439773 0.43100658 0.31979667 0.51619041 0.35127843\n",
      "  0.32582313 0.26798225 0.54082183 0.50816933 0.11077881 0.52420769\n",
      "  0.59957047 0.3768863  0.08540054 0.63241543 0.54489645 0.54461817\n",
      "  0.29722153 0.65610891 0.6279424  0.59045404 0.55621074 0.63713998\n",
      "  0.38288108 0.         0.66758568 0.44745655 0.71728952 0.64589271\n",
      "  0.55955034 0.23967207 0.39385117 0.67175364]\n",
      " [1.0062655  0.70189358 0.70187256 0.7318695  0.91300927 1.05468766\n",
      "  0.51944579 0.75570597 0.78878427 0.84208407 0.57745913 0.8466815\n",
      "  0.51211747 1.08588672 0.82757586 0.68883737 0.76924866 0.71551037\n",
      "  0.14383367 0.66174173 0.84758459 0.59158557 0.42235067 0.75498666\n",
      "  0.84698497 0.43718269 1.00393321 1.0915584  0.30063915 0.97328068\n",
      "  0.62316776 0.61226917 0.54529961 0.36258951 0.57411305 0.77708321\n",
      "  0.4520775  0.79452156 1.03427432 0.45133782 0.49593188 0.93266037\n",
      "  0.30208426 0.41271223 0.39079901 0.75916948 0.63260411 0.11956561\n",
      "  0.62474098 0.77607522 0.80392299 0.53142791 0.42376271 0.89585778\n",
      "  0.98973365 0.76089578 0.28803179 0.69860895 1.05594621 0.92014056\n",
      "  0.89647408 1.26549013 0.61196395 1.03327617 0.89858114 0.25400685\n",
      "  1.02746703 0.83925081 0.78206303 0.90054941 0.32269128 0.34396588\n",
      "  0.79924794 0.67302383 0.19442738 0.89390786 0.60246016 0.17177945\n",
      "  0.32360263 0.5972549  0.72158924 0.45017679 0.12297362 0.80692824\n",
      "  0.93758451 0.0314629  0.49379689 1.02868546 0.56297334 0.95135156\n",
      "  0.99022434 0.66758568 0.         1.0760345  0.6698439  0.02636606\n",
      "  1.12923148 0.81888776 0.44932564 0.58342093]\n",
      " [0.15678892 0.52639513 0.54066766 0.34451741 0.8238074  0.13287394\n",
      "  0.81923617 0.76604157 0.81418699 0.64160101 0.6419474  0.23008696\n",
      "  0.83026574 0.08148366 0.59676854 0.64199152 0.35889693 0.7646198\n",
      "  0.93881044 0.72020586 0.23112691 0.51452452 0.71347828 0.33768123\n",
      "  0.43047935 0.79014445 0.26529767 0.23898431 0.91022812 0.16854157\n",
      "  0.67278741 0.61712883 0.64909117 0.93932881 0.5717569  0.39759903\n",
      "  0.62955235 0.2820695  0.38546028 0.6928425  0.61435995 0.15352306\n",
      "  0.80936241 0.71492364 0.88285315 0.45643115 0.44350255 1.0266564\n",
      "  0.75258263 0.2999623  0.33699029 0.68349296 0.7755342  0.35675314\n",
      "  0.86104246 0.44799121 0.84919353 0.54367133 0.28202326 0.16204106\n",
      "  0.2109972  0.19089014 0.4646704  0.21353311 0.26644712 0.82540122\n",
      "  0.20182028 0.27819954 0.44573486 0.1876383  0.8389031  0.73330877\n",
      "  0.33041439 0.43302587 0.91336239 0.4143857  0.47736477 0.95416116\n",
      "  0.91000619 0.56612732 0.44754863 0.88339041 0.95471457 0.54767911\n",
      "  0.39759834 1.05828715 0.85631738 0.3750271  0.74435568 0.53118825\n",
      "  0.09445294 0.44745655 1.0760345  0.         0.85369127 1.05801262\n",
      "  0.17376859 0.50564495 0.83834635 0.85331823]\n",
      " [0.70987769 0.85514856 0.86772029 0.61135548 0.25051119 0.75466298\n",
      "  0.91551218 1.07638324 1.13074097 1.06744969 0.8230171  0.70166621\n",
      "  0.91725155 0.81132078 0.29284001 0.21205703 0.50952036 0.09925211\n",
      "  0.63206868 0.13514534 0.66564328 0.68062707 0.70679933 0.70711071\n",
      "  0.4338069  0.26235363 0.63423407 0.71946222 0.78938268 0.86228486\n",
      "  0.19789645 0.83839242 0.28283527 0.31165855 0.35929107 0.45871434\n",
      "  0.58697076 0.64481623 0.58119093 0.72088025 0.6709234  0.71035294\n",
      "  0.42936782 0.69374764 0.84975934 0.85733589 0.58257024 0.55256615\n",
      "  0.11515852 0.64552512 0.7973298  0.81177221 0.28872684 0.92265279\n",
      "  0.32360652 0.40656301 0.40966296 0.86680276 0.66241106 0.76742346\n",
      "  0.64685464 0.995564   0.58576394 0.68795109 0.58828782 0.51934772\n",
      "  0.93985447 0.58297197 0.40800115 0.6798538  0.3704537  0.511382\n",
      "  0.53232687 0.47916524 0.49536545 0.46595006 0.60768284 0.70296323\n",
      "  0.34635415 0.34335815 0.80248915 0.21977702 0.6203344  0.32168391\n",
      "  0.98939627 0.63841185 0.17666025 0.58287901 0.1666332  0.42414274\n",
      "  0.76278398 0.71728952 0.6698439  0.85369127 0.         0.67440638\n",
      "  0.7959247  0.95694718 0.86716811 0.08649404]\n",
      " [0.99103641 0.67747761 0.67722463 0.71427678 0.91542923 1.03919204\n",
      "  0.49308435 0.72934387 0.76244375 0.81611411 0.55224899 0.82833553\n",
      "  0.48577008 1.069365   0.82330728 0.68519353 0.75565364 0.71671199\n",
      "  0.12174744 0.66099083 0.83033825 0.56988945 0.39800504 0.73489603\n",
      "  0.83762733 0.436134   0.99120573 1.07821535 0.27431785 0.95289961\n",
      "  0.61992822 0.58715042 0.53889843 0.37025933 0.56408762 0.76541022\n",
      "  0.43205279 0.77693934 1.02438553 0.42692225 0.47339076 0.91575846\n",
      "  0.29426138 0.38863273 0.36451895 0.73544382 0.61451682 0.13056745\n",
      "  0.62504914 0.75815023 0.78222895 0.50596556 0.42116098 0.87273764\n",
      "  0.99256852 0.75082872 0.28436332 0.67393953 1.04363515 0.90130182\n",
      "  0.88079595 1.24783322 0.59351248 1.01945166 0.88487859 0.23967621\n",
      "  1.00616664 0.82447982 0.77231888 0.88391626 0.3204876  0.32778269\n",
      "  0.78540903 0.65905326 0.19006605 0.88447392 0.5831627  0.14552624\n",
      "  0.32820763 0.58792447 0.69853748 0.45530815 0.10331377 0.80097006\n",
      "  0.91375288 0.04484552 0.4978756  1.0185584  0.56216699 0.94528913\n",
      "  0.97297397 0.64589271 0.02636606 1.05801262 0.67440638 0.\n",
      "  1.11430724 0.79409029 0.42296261 0.58791237]\n",
      " [0.12402517 0.66444804 0.67996563 0.41523371 0.71902085 0.08016651\n",
      "  0.94300053 0.91814769 0.96897426 0.80238077 0.76523128 0.32744793\n",
      "  0.95327106 0.09402413 0.5133097  0.5927499  0.36359535 0.69968823\n",
      "  1.00055088 0.67020245 0.30271733 0.61519405 0.80895596 0.44745132\n",
      "  0.36299865 0.78749106 0.16171302 0.08663188 1.00367605 0.33232971\n",
      "  0.63788291 0.74519064 0.64229748 0.93796745 0.57792091 0.37491159\n",
      "  0.70400701 0.35695815 0.25064021 0.7926128  0.70859438 0.21959144\n",
      "  0.84175674 0.80770163 0.98952943 0.5999566  0.51465185 1.06348126\n",
      "  0.70887323 0.37956814 0.47435843 0.80139424 0.77878285 0.51904009\n",
      "  0.74400818 0.41368833 0.87511701 0.68257496 0.14483265 0.28802971\n",
      "  0.23576869 0.20677387 0.53825873 0.10933412 0.23658096 0.87523383\n",
      "  0.37512098 0.29000209 0.40247076 0.24341142 0.85743494 0.786851\n",
      "  0.33270191 0.45729798 0.95122907 0.33059233 0.55832087 1.02751046\n",
      "  0.91847856 0.56407838 0.58027128 0.86833888 1.01259778 0.47490746\n",
      "  0.56591432 1.10775258 0.83408765 0.24265159 0.71628779 0.41692005\n",
      "  0.18255926 0.55955034 1.12923148 0.17376859 0.7959247  1.11430724\n",
      "  0.         0.66233576 0.95229299 0.81286885]\n",
      " [0.5708449  0.12061739 0.11757446 0.38230232 1.05570888 0.59062112\n",
      "  0.37949592 0.26162275 0.30854415 0.143165   0.2439344  0.3716395\n",
      "  0.39148758 0.57185481 0.82617521 0.77807704 0.52657737 0.90588165\n",
      "  0.67800726 0.83478803 0.41709293 0.28614686 0.39725885 0.28256688\n",
      "  0.68903404 0.75866716 0.66045913 0.69402136 0.55393428 0.33723436\n",
      "  0.76339298 0.20845146 0.675554   0.86846509 0.59791832 0.59008953\n",
      "  0.4229801  0.3898883  0.77542969 0.36815542 0.34490319 0.4658691\n",
      "  0.67012241 0.40793798 0.48854263 0.10049653 0.37636582 0.82652068\n",
      "  0.84230553 0.37335078 0.20601954 0.29288771 0.73158083 0.15198507\n",
      "  1.11997859 0.63325792 0.71874661 0.12066875 0.70715289 0.37877464\n",
      "  0.4968831  0.66443011 0.37127787 0.63909638 0.57008276 0.62793803\n",
      "  0.33126852 0.50770222 0.65029195 0.46172002 0.73308839 0.55242714\n",
      "  0.52694013 0.49904622 0.73164359 0.70944898 0.34963728 0.65415402\n",
      "  0.81676372 0.61615936 0.15475254 0.8635034  0.70293197 0.76933739\n",
      "  0.1448759  0.81498777 0.86261832 0.76404716 0.79534386 0.84444295\n",
      "  0.48251829 0.23967207 0.81888776 0.50564495 0.95694718 0.79409029\n",
      "  0.66233576 0.         0.42740938 0.91018276]\n",
      " [0.8337072  0.33504079 0.32662213 0.54704771 1.05406019 0.87218799\n",
      "  0.07014101 0.30693666 0.33988506 0.40895464 0.20096886 0.62547455\n",
      "  0.06367014 0.87949484 0.87498431 0.76694647 0.66117571 0.86067812\n",
      "  0.33427099 0.78724026 0.65093529 0.33908012 0.17372662 0.50632492\n",
      "  0.80573156 0.60936483 0.88133949 0.94897975 0.14944724 0.69024322\n",
      "  0.71965459 0.23226419 0.61325118 0.64955439 0.57632891 0.70442648\n",
      "  0.31069512 0.59852054 0.96201212 0.17477946 0.25883474 0.73273626\n",
      "  0.45339011 0.18365294 0.06426152 0.40796731 0.46027156 0.50272056\n",
      "  0.77146312 0.57545335 0.5059054  0.15536201 0.58112744 0.54904421\n",
      "  1.13065463 0.72034876 0.49088208 0.32299287 0.93641248 0.67853435\n",
      "  0.72686567 1.02354064 0.43727637 0.88638543 0.76884698 0.36978798\n",
      "  0.7179965  0.69622169 0.74371288 0.71021324 0.52368973 0.35582939\n",
      "  0.6812179  0.5773639  0.44918978 0.84509895 0.41044926 0.27892796\n",
      "  0.59173013 0.60468253 0.39680984 0.69118633 0.36104206 0.82961939\n",
      "  0.56791443 0.45699695 0.71362981 0.95259091 0.70636061 0.95465428\n",
      "  0.77673204 0.39385117 0.44932564 0.83834635 0.86716811 0.42296261\n",
      "  0.95229299 0.42740938 0.         0.79226771]\n",
      " [0.71729197 0.80349057 0.81512889 0.58350773 0.33368257 0.76434974\n",
      "  0.84324661 1.01364672 1.0669597  1.01390144 0.76080507 0.6829599\n",
      "  0.84434847 0.81837895 0.33298351 0.22043696 0.49876579 0.15371906\n",
      "  0.54711805 0.14534042 0.65109062 0.62826296 0.63640742 0.67407855\n",
      "  0.45082834 0.18318961 0.65261452 0.74134055 0.70855134 0.84492349\n",
      "  0.18056345 0.77858704 0.2369839  0.22671179 0.32020941 0.45583049\n",
      "  0.52296175 0.6237902  0.61503689 0.65238227 0.60857111 0.70475969\n",
      "  0.34782883 0.62300251 0.77182936 0.81201779 0.54176623 0.4663688\n",
      "  0.10406734 0.62145916 0.7628395  0.74599686 0.21115119 0.88829001\n",
      "  0.40841461 0.40694094 0.32531691 0.81392756 0.68661546 0.75289061\n",
      "  0.64303521 1.00648787 0.54176354 0.70364206 0.59274815 0.43779926\n",
      "  0.92149454 0.57678412 0.41330452 0.67258453 0.2863001  0.43696028\n",
      "  0.52475279 0.4528463  0.40951846 0.48868036 0.56102662 0.61860002\n",
      "  0.25988338 0.31031646 0.75711189 0.13357248 0.53478149 0.34883017\n",
      "  0.95378922 0.55199769 0.09026237 0.61518888 0.11790629 0.46971164\n",
      "  0.76018787 0.67175364 0.58342093 0.85331823 0.08649404 0.58791237\n",
      "  0.81286885 0.91018276 0.79226771 0.        ]]\n"
     ]
    }
   ],
   "source": [
    "a = np.random.random((100,2))\n",
    "X,Y = np.atleast_2d(a[:,0], a[:,1])\n",
    "r = np.sqrt((X-X.T)**2 + (Y-Y.T)**2)\n",
    "print(r)"
   ]
  },
  {
   "cell_type": "markdown",
   "id": "b90e0bb2",
   "metadata": {},
   "source": [
    "#### 53. How to convert a float (32 bits) array into an integer (32 bits) in place?"
   ]
  },
  {
   "cell_type": "code",
   "execution_count": 99,
   "id": "db97ea05",
   "metadata": {},
   "outputs": [
    {
     "name": "stdout",
     "output_type": "stream",
     "text": [
      "[0. 0. 0. 0. 0. 0. 0. 0. 0. 0.]\n",
      "[0 0 0 0 0 0 0 0 0 0]\n"
     ]
    }
   ],
   "source": [
    "a = np.zeros(10, dtype=np.float32)\n",
    "print(a)\n",
    "a = a.astype(np.int32, copy=False)\n",
    "print(a)"
   ]
  },
  {
   "cell_type": "markdown",
   "id": "0d1b021c",
   "metadata": {},
   "source": [
    "#### 54. How to read the following file? (★★☆)\n",
    "```\n",
    "1, 2, 3, 4, 5\n",
    "6,  ,  , 7, 8\n",
    " ,  , 9,10,11\n",
    "```"
   ]
  },
  {
   "cell_type": "code",
   "execution_count": 107,
   "id": "9551928e",
   "metadata": {},
   "outputs": [
    {
     "name": "stdout",
     "output_type": "stream",
     "text": [
      "[[  1   2   3   4   5]\n",
      " [  6 100 100   7   8]\n",
      " [100 100   9  10  11]]\n"
     ]
    }
   ],
   "source": [
    "#я не поняла, но вроде надо так\n",
    "from io import StringIO  # импортируем бибилиотеку для созрдания строкового файла\n",
    "# создадим строку эмулирущую текстовый файл из задания\n",
    "s = StringIO('''1, 2, 3, 4, 5\n",
    "\n",
    "                6,  ,  A, 7, 8  #вторая строка с коментарием и запятыми , , , , которые являются разделителями\n",
    "\n",
    "                 ,  , 9,10,11\n",
    "''') \n",
    "\n",
    "# теперь преобразуем файл с помощью .genfromtxt\n",
    "Z = np.genfromtxt(s, filling_values= 100, delimiter=\",\", comments=\"#\", dtype=np.int8)\n",
    "print(Z)"
   ]
  },
  {
   "cell_type": "markdown",
   "id": "56928772",
   "metadata": {},
   "source": [
    "#### 55. What is the equivalent of enumerate for numpy arrays? (★★☆)"
   ]
  },
  {
   "cell_type": "code",
   "execution_count": 108,
   "id": "327d9b88",
   "metadata": {},
   "outputs": [
    {
     "name": "stdout",
     "output_type": "stream",
     "text": [
      "(0, 0) 0\n",
      "(0, 1) 1\n",
      "(0, 2) 2\n",
      "(1, 0) 3\n",
      "(1, 1) 4\n",
      "(1, 2) 5\n",
      "(2, 0) 6\n",
      "(2, 1) 7\n",
      "(2, 2) 8\n",
      "(0, 0) 0\n",
      "(0, 1) 1\n",
      "(0, 2) 2\n",
      "(1, 0) 3\n",
      "(1, 1) 4\n",
      "(1, 2) 5\n",
      "(2, 0) 6\n",
      "(2, 1) 7\n",
      "(2, 2) 8\n"
     ]
    }
   ],
   "source": [
    "a = np.arange(9).reshape(3,3)\n",
    "for index, value in np.ndenumerate(a):\n",
    "    print(index, value)\n",
    "for index in np.ndindex(a.shape):\n",
    "    print(index, a[index])"
   ]
  },
  {
   "cell_type": "markdown",
   "id": "257e0bac",
   "metadata": {},
   "source": [
    "#### 56. Generate a generic 2D Gaussian-like array (★★☆)"
   ]
  },
  {
   "cell_type": "code",
   "execution_count": 110,
   "id": "1325d664",
   "metadata": {},
   "outputs": [
    {
     "name": "stdout",
     "output_type": "stream",
     "text": [
      "[[0.36787944 0.44822088 0.51979489 0.57375342 0.60279818 0.60279818\n",
      "  0.57375342 0.51979489 0.44822088 0.36787944]\n",
      " [0.44822088 0.54610814 0.63331324 0.69905581 0.73444367 0.73444367\n",
      "  0.69905581 0.63331324 0.54610814 0.44822088]\n",
      " [0.51979489 0.63331324 0.73444367 0.81068432 0.85172308 0.85172308\n",
      "  0.81068432 0.73444367 0.63331324 0.51979489]\n",
      " [0.57375342 0.69905581 0.81068432 0.89483932 0.9401382  0.9401382\n",
      "  0.89483932 0.81068432 0.69905581 0.57375342]\n",
      " [0.60279818 0.73444367 0.85172308 0.9401382  0.98773022 0.98773022\n",
      "  0.9401382  0.85172308 0.73444367 0.60279818]\n",
      " [0.60279818 0.73444367 0.85172308 0.9401382  0.98773022 0.98773022\n",
      "  0.9401382  0.85172308 0.73444367 0.60279818]\n",
      " [0.57375342 0.69905581 0.81068432 0.89483932 0.9401382  0.9401382\n",
      "  0.89483932 0.81068432 0.69905581 0.57375342]\n",
      " [0.51979489 0.63331324 0.73444367 0.81068432 0.85172308 0.85172308\n",
      "  0.81068432 0.73444367 0.63331324 0.51979489]\n",
      " [0.44822088 0.54610814 0.63331324 0.69905581 0.73444367 0.73444367\n",
      "  0.69905581 0.63331324 0.54610814 0.44822088]\n",
      " [0.36787944 0.44822088 0.51979489 0.57375342 0.60279818 0.60279818\n",
      "  0.57375342 0.51979489 0.44822088 0.36787944]]\n"
     ]
    }
   ],
   "source": [
    "X,Y = np.meshgrid(np.linspace(-1,1,10), np.linspace(-1,1,10))\n",
    "S = np.sqrt(X*X + Y*Y)\n",
    "sigma, mu = 1.0, 0.0\n",
    "print(np.exp(-((S-mu)**2 / (2.0 * sigma**2))))"
   ]
  },
  {
   "cell_type": "markdown",
   "id": "441347ee",
   "metadata": {},
   "source": [
    "#### 57. How to randomly place p elements in a 2D array? (★★☆)"
   ]
  },
  {
   "cell_type": "code",
   "execution_count": 116,
   "id": "1e61fce5",
   "metadata": {},
   "outputs": [
    {
     "name": "stdout",
     "output_type": "stream",
     "text": [
      "[[0. 0. 0. 1. 0.]\n",
      " [0. 1. 0. 0. 0.]\n",
      " [1. 0. 1. 0. 0.]\n",
      " [0. 0. 0. 0. 0.]\n",
      " [0. 0. 0. 0. 0.]]\n"
     ]
    }
   ],
   "source": [
    "a = np.zeros((5,5))\n",
    "k = 4\n",
    "np.put(a, np.random.choice(range(5*5), k, replace=False), 1)\n",
    "print(a)"
   ]
  },
  {
   "cell_type": "markdown",
   "id": "8a76af52",
   "metadata": {},
   "source": [
    "#### 58. Subtract the mean of each row of a matrix (★★☆)"
   ]
  },
  {
   "cell_type": "code",
   "execution_count": 121,
   "id": "65cf18e9",
   "metadata": {},
   "outputs": [
    {
     "name": "stdout",
     "output_type": "stream",
     "text": [
      "[[0 1 2 3 4]\n",
      " [5 6 7 8 9]]\n",
      "[[-2. -1.  0.  1.  2.]\n",
      " [-2. -1.  0.  1.  2.]]\n"
     ]
    }
   ],
   "source": [
    "a = np.arange(10).reshape(2, 5) #чтобы проверить правильность программы создадим 2х5\n",
    "print(a)\n",
    "b = a - a.mean(axis=1, keepdims=True)\n",
    "print(b)"
   ]
  },
  {
   "cell_type": "markdown",
   "id": "d2dc8b5f",
   "metadata": {},
   "source": [
    "#### 59. How to sort an array by the nth column? (★★☆)"
   ]
  },
  {
   "cell_type": "code",
   "execution_count": 123,
   "id": "83b5eafe",
   "metadata": {},
   "outputs": [
    {
     "name": "stdout",
     "output_type": "stream",
     "text": [
      "[[5 1 1 3]\n",
      " [1 0 2 0]\n",
      " [4 7 0 8]\n",
      " [2 9 6 8]]\n",
      "[[1 0 2 0]\n",
      " [5 1 1 3]\n",
      " [4 7 0 8]\n",
      " [2 9 6 8]]\n"
     ]
    }
   ],
   "source": [
    "a = np.random.randint(0, 10, (4, 4))\n",
    "print(a)\n",
    "print(a[a[:, 1].argsort(), ])"
   ]
  },
  {
   "cell_type": "markdown",
   "id": "4886f74e",
   "metadata": {},
   "source": [
    "#### 60. How to tell if a given 2D array has null columns? (★★☆)"
   ]
  },
  {
   "cell_type": "code",
   "execution_count": 124,
   "id": "7a066dd9",
   "metadata": {},
   "outputs": [
    {
     "name": "stdout",
     "output_type": "stream",
     "text": [
      "[[1 0 1 1 1 0 1 1 0 0]\n",
      " [1 0 0 0 0 0 1 0 1 0]\n",
      " [0 1 1 1 0 0 0 0 0 0]]\n",
      "True\n"
     ]
    }
   ],
   "source": [
    "a = np.random.randint(0,2,(3,10))\n",
    "print(a)\n",
    "print((~a.any(axis=0)).any())"
   ]
  },
  {
   "cell_type": "markdown",
   "id": "1f5ad2a9",
   "metadata": {},
   "source": [
    "#### 61. Find the nearest value from a given value in an array (★★☆)"
   ]
  },
  {
   "cell_type": "code",
   "execution_count": 129,
   "id": "f53df167",
   "metadata": {},
   "outputs": [
    {
     "name": "stdout",
     "output_type": "stream",
     "text": [
      "[0 1 2 3 4 5 6 7 8 9]\n",
      "4.764565224702132\n",
      "5\n"
     ]
    }
   ],
   "source": [
    "#не поняла, чем отличается от номера 50\n",
    "a = np.arange(10)\n",
    "print(a)\n",
    "b = np.random.uniform(low=0,high=10) #случайное значение равномерного распределения на интервале\n",
    "print(b)\n",
    "index = (np.abs(a-b)).argmin()\n",
    "print(a[index])"
   ]
  },
  {
   "cell_type": "markdown",
   "id": "aa48f9b2",
   "metadata": {},
   "source": [
    "#### 62. Considering two arrays with shape (1,3) and (3,1), how to compute their sum using an iterator? (★★☆)"
   ]
  },
  {
   "cell_type": "code",
   "execution_count": 130,
   "id": "68987301",
   "metadata": {},
   "outputs": [
    {
     "name": "stdout",
     "output_type": "stream",
     "text": [
      "[[0 1 2]\n",
      " [1 2 3]\n",
      " [2 3 4]]\n"
     ]
    }
   ],
   "source": [
    "a = np.arange(3).reshape(3,1)\n",
    "b = np.arange(3).reshape(1,3)\n",
    "it = np.nditer([a,b,None])\n",
    "for x,y,z in it: z[...] = x + y\n",
    "print(it.operands[2])"
   ]
  },
  {
   "cell_type": "markdown",
   "id": "0bed1516",
   "metadata": {},
   "source": [
    "#### 63. Create an array class that has a name attribute (★★☆)"
   ]
  },
  {
   "cell_type": "code",
   "execution_count": null,
   "id": "fa1d52fc",
   "metadata": {},
   "outputs": [],
   "source": [
    "#не поняла"
   ]
  },
  {
   "cell_type": "markdown",
   "id": "463a40bb",
   "metadata": {},
   "source": [
    "#### 64. Consider a given vector, how to add 1 to each element indexed by a second vector (be careful with repeated indices)? (★★★)"
   ]
  },
  {
   "cell_type": "code",
   "execution_count": 132,
   "id": "cdb2cad0",
   "metadata": {},
   "outputs": [
    {
     "name": "stdout",
     "output_type": "stream",
     "text": [
      "[1. 1. 1. 1. 1. 1. 1. 1. 1. 1.]\n",
      "[2 4 2 1 3 1 8 7 4 1 2 6 1 6 7 8 4 4 8 6]\n",
      "[1. 5. 4. 2. 5. 1. 4. 3. 4. 1.]\n"
     ]
    }
   ],
   "source": [
    "a = np.ones(10)\n",
    "print(a)\n",
    "b = np.random.randint(1,9,20)\n",
    "print(b)\n",
    "a += np.bincount(b, minlength=len(a))\n",
    "print(a)"
   ]
  },
  {
   "cell_type": "markdown",
   "id": "2a2f8219",
   "metadata": {},
   "source": [
    "#### 65. How to accumulate elements of a vector (X) to an array (F) based on an index list (I)? (★★★)"
   ]
  },
  {
   "cell_type": "code",
   "execution_count": 134,
   "id": "9cc34a77",
   "metadata": {},
   "outputs": [
    {
     "name": "stdout",
     "output_type": "stream",
     "text": [
      "[0. 7. 0. 6. 5. 0. 0. 0. 0. 3.]\n"
     ]
    }
   ],
   "source": [
    "X = [1,2,3,4,5,6]\n",
    "a = [1,3,9,3,4,1]\n",
    "F = np.bincount(a,X)\n",
    "print(F)"
   ]
  },
  {
   "cell_type": "markdown",
   "id": "6a6a3c66",
   "metadata": {},
   "source": [
    "#### 66. Considering a (w,h,3) image of (dtype=ubyte), compute the number of unique colors (★★☆)"
   ]
  },
  {
   "cell_type": "code",
   "execution_count": 135,
   "id": "c88f5a5e",
   "metadata": {},
   "outputs": [
    {
     "name": "stdout",
     "output_type": "stream",
     "text": [
      "8\n"
     ]
    }
   ],
   "source": [
    "w,h = 16, 16\n",
    "I = np.random.randint(0,2,(h,w,3)).astype(np.ubyte)\n",
    "F = I[...,0]*(256*256) + I[...,1]*256 +I[...,2]\n",
    "n = len(np.unique(F))\n",
    "print(n)"
   ]
  },
  {
   "cell_type": "markdown",
   "id": "4b030baa",
   "metadata": {},
   "source": [
    "#### 67. Considering a four dimensions array, how to get sum over the last two axis at once? (★★★)"
   ]
  },
  {
   "cell_type": "code",
   "execution_count": 136,
   "id": "cd2e7c9c",
   "metadata": {},
   "outputs": [
    {
     "name": "stdout",
     "output_type": "stream",
     "text": [
      "[[37 38 66 46]\n",
      " [58 75 53 44]\n",
      " [55 46 44 56]]\n"
     ]
    }
   ],
   "source": [
    "a = np.random.randint(0,10,(3,4,3,4))\n",
    "print(a.sum(axis=(-2,-1)))"
   ]
  },
  {
   "cell_type": "markdown",
   "id": "1fa6053b",
   "metadata": {},
   "source": [
    "#### 68. Considering a one-dimensional vector D, how to compute means of subsets of D using a vector S of same size describing subset  indices? (★★★)"
   ]
  },
  {
   "cell_type": "code",
   "execution_count": 138,
   "id": "9b5a070d",
   "metadata": {},
   "outputs": [
    {
     "name": "stdout",
     "output_type": "stream",
     "text": [
      "[0.5772404  0.48827527 0.48459067 0.48960977 0.51459128 0.59758845\n",
      " 0.53956006 0.50461166 0.62142189 0.6036045 ]\n"
     ]
    }
   ],
   "source": [
    "a = np.random.uniform(0,1,100)\n",
    "b = np.random.randint(0,10,100)\n",
    "s = np.bincount(b, weights=a)\n",
    "c = np.bincount(b)\n",
    "m = s / c\n",
    "print(m)"
   ]
  },
  {
   "cell_type": "markdown",
   "id": "2e7b0395",
   "metadata": {},
   "source": [
    "#### 69. How to get the diagonal of a dot product? (★★★)"
   ]
  },
  {
   "cell_type": "code",
   "execution_count": 140,
   "id": "ae437196",
   "metadata": {},
   "outputs": [
    {
     "name": "stdout",
     "output_type": "stream",
     "text": [
      "[[1 0 1 0]\n",
      " [1 0 0 1]\n",
      " [0 0 1 0]\n",
      " [0 1 0 1]]\n",
      "[[0 1 0 0]\n",
      " [0 0 1 1]\n",
      " [0 1 1 0]\n",
      " [1 1 1 0]]\n",
      "[0 2 1 1]\n"
     ]
    }
   ],
   "source": [
    "a = np.random.randint(0,2,(4,4))\n",
    "print(a)\n",
    "b = np.random.randint(0,2,(4,4))\n",
    "print(b)\n",
    "i = np.diag(np.dot(a, b))\n",
    "print(i)"
   ]
  },
  {
   "cell_type": "markdown",
   "id": "2bf2f8e4",
   "metadata": {},
   "source": [
    "#### 70. Consider the vector [1, 2, 3, 4, 5], how to build a new vector with 3 consecutive zeros interleaved between each value? (★★★)"
   ]
  },
  {
   "cell_type": "code",
   "execution_count": 143,
   "id": "8a427342",
   "metadata": {},
   "outputs": [
    {
     "name": "stdout",
     "output_type": "stream",
     "text": [
      "[1 2 3 4 5]\n",
      "[1. 0. 0. 0. 2. 0. 0. 0. 3. 0. 0. 0. 4. 0. 0. 0. 5.]\n"
     ]
    }
   ],
   "source": [
    "a = np.array([1,2,3,4,5])\n",
    "print(a)\n",
    "len_b = len(a) + (len(a)-1)*(3)  # новая длина вектора\n",
    "b = np.zeros(len_b)\n",
    "b[::4] = a  # вставляем в нулевой вектор значения вектора Z с шагом nz+1 \n",
    "print(b)"
   ]
  },
  {
   "cell_type": "markdown",
   "id": "fff802ea",
   "metadata": {},
   "source": [
    "#### 71. Consider an array of dimension (5,5,3), how to mulitply it by an array with dimensions (5,5)? (★★★)"
   ]
  },
  {
   "cell_type": "code",
   "execution_count": 144,
   "id": "e83ab7b5",
   "metadata": {},
   "outputs": [
    {
     "name": "stdout",
     "output_type": "stream",
     "text": [
      "[[[ 0  1  2]\n",
      "  [ 3  4  5]\n",
      "  [ 6  7  8]\n",
      "  [ 9 10 11]\n",
      "  [12 13 14]]\n",
      "\n",
      " [[15 16 17]\n",
      "  [18 19 20]\n",
      "  [21 22 23]\n",
      "  [24 25 26]\n",
      "  [27 28 29]]\n",
      "\n",
      " [[30 31 32]\n",
      "  [33 34 35]\n",
      "  [36 37 38]\n",
      "  [39 40 41]\n",
      "  [42 43 44]]\n",
      "\n",
      " [[45 46 47]\n",
      "  [48 49 50]\n",
      "  [51 52 53]\n",
      "  [54 55 56]\n",
      "  [57 58 59]]\n",
      "\n",
      " [[60 61 62]\n",
      "  [63 64 65]\n",
      "  [66 67 68]\n",
      "  [69 70 71]\n",
      "  [72 73 74]]]\n",
      "[[2. 2. 2. 2. 2.]\n",
      " [2. 2. 2. 2. 2.]\n",
      " [2. 2. 2. 2. 2.]\n",
      " [2. 2. 2. 2. 2.]\n",
      " [2. 2. 2. 2. 2.]]\n",
      "[[[  0.   2.   4.]\n",
      "  [  6.   8.  10.]\n",
      "  [ 12.  14.  16.]\n",
      "  [ 18.  20.  22.]\n",
      "  [ 24.  26.  28.]]\n",
      "\n",
      " [[ 30.  32.  34.]\n",
      "  [ 36.  38.  40.]\n",
      "  [ 42.  44.  46.]\n",
      "  [ 48.  50.  52.]\n",
      "  [ 54.  56.  58.]]\n",
      "\n",
      " [[ 60.  62.  64.]\n",
      "  [ 66.  68.  70.]\n",
      "  [ 72.  74.  76.]\n",
      "  [ 78.  80.  82.]\n",
      "  [ 84.  86.  88.]]\n",
      "\n",
      " [[ 90.  92.  94.]\n",
      "  [ 96.  98. 100.]\n",
      "  [102. 104. 106.]\n",
      "  [108. 110. 112.]\n",
      "  [114. 116. 118.]]\n",
      "\n",
      " [[120. 122. 124.]\n",
      "  [126. 128. 130.]\n",
      "  [132. 134. 136.]\n",
      "  [138. 140. 142.]\n",
      "  [144. 146. 148.]]]\n"
     ]
    }
   ],
   "source": [
    "a = np.arange(5*5*3).reshape(5,5,3)\n",
    "print(a)\n",
    "b = 2*np.ones((5,5))\n",
    "print(b)\n",
    "print(a * b[:,:,None])"
   ]
  },
  {
   "cell_type": "markdown",
   "id": "a0865c04",
   "metadata": {},
   "source": [
    "#### 72. How to swap two rows of an array? (★★★)"
   ]
  },
  {
   "cell_type": "code",
   "execution_count": 146,
   "id": "bb510428",
   "metadata": {},
   "outputs": [
    {
     "name": "stdout",
     "output_type": "stream",
     "text": [
      "[[ 0  1  2  3  4]\n",
      " [ 5  6  7  8  9]\n",
      " [10 11 12 13 14]\n",
      " [15 16 17 18 19]\n",
      " [20 21 22 23 24]]\n",
      "[[ 5  6  7  8  9]\n",
      " [ 0  1  2  3  4]\n",
      " [10 11 12 13 14]\n",
      " [15 16 17 18 19]\n",
      " [20 21 22 23 24]]\n"
     ]
    }
   ],
   "source": [
    "a = np.arange(25).reshape((5, 5))\n",
    "print(a)\n",
    "a[[0, 1]] = a[[1, 0]] #свайпнем 1 и 2 строки\n",
    "print(a)"
   ]
  },
  {
   "cell_type": "markdown",
   "id": "52beda8d",
   "metadata": {},
   "source": [
    "#### 73. Consider a set of 10 triplets describing 10 triangles (with shared vertices), find the set of unique line segments composing all the  triangles (★★★)"
   ]
  },
  {
   "cell_type": "code",
   "execution_count": 152,
   "id": "5b9895de",
   "metadata": {},
   "outputs": [
    {
     "name": "stdout",
     "output_type": "stream",
     "text": [
      "[54 79 79 65 65 54]\n",
      "[(0,  8) (0, 82) (4, 54)]\n"
     ]
    }
   ],
   "source": [
    "z = np.random.randint(0,100,(10,3))\n",
    "a = np.roll(z.repeat(2,axis=1),-1,axis=1)\n",
    "print(a[0]) #первый триплет массива\n",
    "a = a.reshape(len(a)*3,2)\n",
    "b = a.view( dtype=[('p0',a.dtype),('p1',a.dtype)] )\n",
    "b = np.unique(b)\n",
    "print(b[:3]) #вывод трех вершин"
   ]
  },
  {
   "cell_type": "markdown",
   "id": "b1f8e571",
   "metadata": {},
   "source": [
    "#### 74. Given a sorted array C that corresponds to a bincount, how to produce an array A such that np.bincount(A) == C? (★★★)"
   ]
  },
  {
   "cell_type": "code",
   "execution_count": 156,
   "id": "ea6d42e9",
   "metadata": {},
   "outputs": [
    {
     "name": "stdout",
     "output_type": "stream",
     "text": [
      "[1 1 2 2 3 3 4 4 6 8]\n",
      "[0 2 2 2 2 0 1 0 1]\n",
      "[1 1 2 2 3 3 4 4 6 8]\n"
     ]
    }
   ],
   "source": [
    "c = np.sort(np.random.randint(1,10,10))\n",
    "print(c)\n",
    "b = np.bincount(c)\n",
    "print(b)\n",
    "A = np.repeat(np.arange(len(b)), repeats=b)\n",
    "print(A)"
   ]
  },
  {
   "cell_type": "markdown",
   "id": "db1ed658",
   "metadata": {},
   "source": [
    "#### 75. How to compute averages using a sliding window over an array? (★★★)"
   ]
  },
  {
   "cell_type": "code",
   "execution_count": 158,
   "id": "9dc6a98a",
   "metadata": {},
   "outputs": [
    {
     "name": "stdout",
     "output_type": "stream",
     "text": [
      "[ 1.  2.  3.  4.  5.  6.  7.  8.  9. 10. 11. 12. 13. 14. 15. 16. 17. 18.]\n"
     ]
    }
   ],
   "source": [
    "def average(arr,n):\n",
    "    a = np.cumsum(arr, dtype=float)\n",
    "    a[n:] = a[n:] - a[:-n]\n",
    "    return a[n-1:]/n\n",
    "b = np.arange(20)\n",
    "print(average(b,n=3))"
   ]
  },
  {
   "cell_type": "markdown",
   "id": "1ca35bda",
   "metadata": {},
   "source": [
    "#### 76. Consider a one-dimensional array Z, build a two-dimensional array whose first row is (Z[0],Z[1],Z[2]) and each subsequent row is  shifted by 1 (last row should be (Z[-3],Z[-2],Z[-1]) (★★★)"
   ]
  },
  {
   "cell_type": "code",
   "execution_count": 159,
   "id": "900e8b0a",
   "metadata": {},
   "outputs": [
    {
     "name": "stdout",
     "output_type": "stream",
     "text": [
      "[[0 1 2]\n",
      " [1 2 3]\n",
      " [2 3 4]\n",
      " [3 4 5]\n",
      " [4 5 6]\n",
      " [5 6 7]\n",
      " [6 7 8]\n",
      " [7 8 9]]\n"
     ]
    }
   ],
   "source": [
    "from numpy.lib import stride_tricks\n",
    "def sdvig(a, window):\n",
    "    shape = (a.size - window + 1, window)\n",
    "    strides = (a.itemsize, a.itemsize)\n",
    "    return stride_tricks.as_strided(a, shape=shape, strides=strides)\n",
    "Z = sdvig(np.arange(10), 3)\n",
    "print(Z)"
   ]
  },
  {
   "cell_type": "markdown",
   "id": "18bd6fab",
   "metadata": {},
   "source": [
    "#### 77. How to negate a boolean, or to change the sign of a float inplace? (★★★)"
   ]
  },
  {
   "cell_type": "code",
   "execution_count": 161,
   "id": "554c5103",
   "metadata": {},
   "outputs": [
    {
     "name": "stdout",
     "output_type": "stream",
     "text": [
      "[ 0.5609889   0.25842355 -0.80890097 -0.54107455 -0.4102033  -0.71903333\n",
      " -0.29607843  0.01938525 -0.66896083  0.30612102  0.36940757  0.73453873\n",
      "  0.08518525  0.65982189 -0.31278209  0.63554072 -0.22723856 -0.92863179\n",
      "  0.796617    0.80856913 -0.68013228 -0.42001293  0.22379824 -0.50075133\n",
      "  0.07691202 -0.58374854 -0.24393487 -0.24830259  0.47334001 -0.31931523\n",
      " -0.88437107  0.13539024 -0.03468553  0.48504602 -0.03707229  0.39961753\n",
      "  0.82995562 -0.44613099  0.20131713 -0.06770589 -0.64140231 -0.7005603\n",
      "  0.17065797 -0.41272227  0.49044709  0.66074851 -0.65570874 -0.94975712\n",
      "  0.6697263  -0.09208427  0.66584341 -0.4012497   0.82872317  0.8917328\n",
      "  0.36083977  0.43587448  0.94648078  0.74014913  0.96482293  0.89934915\n",
      " -0.40213953 -0.93636915 -0.97921498 -0.02341085  0.64864507 -0.61021827\n",
      " -0.11790438  0.73556053 -0.53642671 -0.5050065  -0.1931282  -0.98736145\n",
      "  0.94628461 -0.43066339  0.9326337   0.21835765 -0.0322539  -0.18229179\n",
      "  0.27787948  0.70018223  0.83386737 -0.15446449  0.45109688 -0.34445118\n",
      " -0.89416591  0.86084905  0.96435872  0.94143584  0.23980888  0.77336113\n",
      "  0.61969003 -0.71646623  0.17931273 -0.53832825  0.5750354   0.00795811\n",
      "  0.93743899  0.17584348  0.92480718  0.47761751]\n"
     ]
    }
   ],
   "source": [
    "a = np.random.randint(0,2,100)\n",
    "np.logical_not(a, out=a)\n",
    "a = np.random.uniform(-1.0,1.0,100)\n",
    "print(np.negative(a, out=a))"
   ]
  },
  {
   "cell_type": "markdown",
   "id": "79a5b412",
   "metadata": {},
   "source": [
    "#### 78. Consider 2 sets of points P0,P1 describing lines (2d) and a point p, how to compute distance from p to each line i (P0[i],P1[i])? (★★★)"
   ]
  },
  {
   "cell_type": "code",
   "execution_count": 165,
   "id": "4e4eac2f",
   "metadata": {},
   "outputs": [
    {
     "name": "stdout",
     "output_type": "stream",
     "text": [
      "[[5 8]]\n",
      "[7.07106781 1.13137085 4.94974747]\n"
     ]
    }
   ],
   "source": [
    "def distance(dP0, dP1, dpoint, w=True): #функция рассчитывает расстояния от точки и линий\n",
    "    Len = dP1 - dP0  #расстояние между точками\n",
    "    L2 = (Len**2).sum(axis=1)\n",
    "    U = -((dP0[:,0]-dpoint[...,0])*Len[:,0] + (dP0[:,1]-dpoint[...,1])*Len[:,1]) / L2\n",
    "    U = U.reshape(len(U),1)\n",
    "    perpendicular = dP0 + U*Len\n",
    "    D = perpendicular - dpoint\n",
    "    if w:\n",
    "        return np.sqrt((D**2).sum(axis=1)),perpendicular\n",
    "    else:\n",
    "        return np.sqrt((D**2).sum(axis=1))\n",
    "P0 = np.random.randint(0,10,(3,2))\n",
    "P1 = np.random.randint(0,10,(3,2))\n",
    "p  = np.random.randint(0,10,( 1,2))\n",
    "print(p)\n",
    "a, Per_P = distance(P0,P1,p)\n",
    "print(a)"
   ]
  },
  {
   "cell_type": "markdown",
   "id": "33ffa66d",
   "metadata": {},
   "source": [
    "#### 79. Consider 2 sets of points P0,P1 describing lines (2d) and a set of points P, how to compute distance from each point j (P[j]) to each line i (P0[i],P1[i])? (★★★)"
   ]
  },
  {
   "cell_type": "code",
   "execution_count": 175,
   "id": "b56c2510",
   "metadata": {},
   "outputs": [
    {
     "name": "stdout",
     "output_type": "stream",
     "text": [
      "[[4 8]\n",
      " [4 5]\n",
      " [9 0]]\n",
      "[[4.91934955 1.41421356 7.        ]\n",
      " [3.57770876 0.70710678 4.        ]\n",
      " [3.13049517 0.70710678 1.        ]]\n"
     ]
    }
   ],
   "source": [
    "# воспользуемся функцией distance_point_to_lines из задачи 78\n",
    "P0 = np.random.randint(0, 10, (3,2))\n",
    "P1 = np.random.randint(0,10,(3,2))\n",
    "p = np.random.randint(0, 10, (3,2)) #координаты точек\n",
    "print(p)\n",
    "print(np.array([distance(P0,P1,p_i, w=False) for p_i in p]))"
   ]
  },
  {
   "cell_type": "markdown",
   "id": "a0f23dfa",
   "metadata": {},
   "source": [
    "#### 80. Consider an arbitrary array, write a function that extract a subpart with a fixed shape and centered on a given element (pad with a `fill` value when necessary) (★★★)"
   ]
  },
  {
   "cell_type": "code",
   "execution_count": null,
   "id": "4b7b96fc",
   "metadata": {},
   "outputs": [],
   "source": []
  },
  {
   "cell_type": "markdown",
   "id": "cc27e944",
   "metadata": {},
   "source": [
    "#### 81. Consider an array Z = [1,2,3,4,5,6,7,8,9,10,11,12,13,14], how to generate an array R = [[1,2,3,4], [2,3,4,5], [3,4,5,6], ..., [11,12,13,14]]? (★★★)"
   ]
  },
  {
   "cell_type": "code",
   "execution_count": 177,
   "id": "2fdaa26c",
   "metadata": {},
   "outputs": [
    {
     "name": "stdout",
     "output_type": "stream",
     "text": [
      "[ 1  2  3  4  5  6  7  8  9 10 11 12 13 14]\n",
      "[[ 1  2  3  4]\n",
      " [ 2  3  4  5]\n",
      " [ 3  4  5  6]\n",
      " [ 4  5  6  7]\n",
      " [ 5  6  7  8]\n",
      " [ 6  7  8  9]\n",
      " [ 7  8  9 10]\n",
      " [ 8  9 10 11]\n",
      " [ 9 10 11 12]\n",
      " [10 11 12 13]\n",
      " [11 12 13 14]]\n"
     ]
    }
   ],
   "source": [
    "a = np.arange(1, 15, dtype=np.uint32)\n",
    "print(a)\n",
    "b = stride_tricks.as_strided(a, (11,4), (4,4))\n",
    "print(b)"
   ]
  },
  {
   "cell_type": "markdown",
   "id": "9bc44d6e",
   "metadata": {},
   "source": [
    "#### 82. Compute a matrix rank (★★★)"
   ]
  },
  {
   "cell_type": "code",
   "execution_count": 179,
   "id": "3a4c7564",
   "metadata": {},
   "outputs": [
    {
     "name": "stdout",
     "output_type": "stream",
     "text": [
      "[[1 1 1 0 1]\n",
      " [0 0 0 0 1]\n",
      " [1 1 0 1 1]\n",
      " [0 1 1 1 1]\n",
      " [0 1 0 0 0]]\n",
      "5\n"
     ]
    }
   ],
   "source": [
    "a = np.random.randint(2,size=(5,5))\n",
    "print(a)\n",
    "r = np.linalg.matrix_rank(a, tol=1e-10)\n",
    "print(r)"
   ]
  },
  {
   "cell_type": "markdown",
   "id": "718a82dd",
   "metadata": {},
   "source": [
    "#### 83. How to find the most frequent value in an array?"
   ]
  },
  {
   "cell_type": "code",
   "execution_count": 181,
   "id": "8ffc513c",
   "metadata": {},
   "outputs": [
    {
     "name": "stdout",
     "output_type": "stream",
     "text": [
      "[[8 0 2 1 8 4 1 5 5 9]\n",
      " [0 5 2 2 1 8 7 4 8 1]\n",
      " [1 4 8 7 5 3 0 3 0 3]\n",
      " [5 6 6 4 4 1 0 9 3 2]\n",
      " [7 1 4 1 5 9 7 7 3 6]\n",
      " [3 6 9 9 7 3 2 6 6 2]\n",
      " [5 1 8 5 2 8 4 5 3 8]\n",
      " [8 9 9 1 3 1 9 5 8 7]\n",
      " [5 5 7 0 2 3 0 0 9 4]\n",
      " [9 4 9 8 4 4 0 1 7 7]]\n",
      "1\n"
     ]
    }
   ],
   "source": [
    "a = np.random.randint(10,size=(10,10))\n",
    "print(a)\n",
    "z = np.bincount(a.flatten()).argmax()\n",
    "print(z)"
   ]
  },
  {
   "cell_type": "markdown",
   "id": "754ceeba",
   "metadata": {},
   "source": [
    "#### 84. Extract all the contiguous 3x3 blocks from a random 10x10 matrix (★★★)"
   ]
  },
  {
   "cell_type": "code",
   "execution_count": 184,
   "id": "c32bb120",
   "metadata": {},
   "outputs": [
    {
     "name": "stdout",
     "output_type": "stream",
     "text": [
      "[[3 0 0 3 3 2 1 1 4 1]\n",
      " [1 3 1 4 4 4 0 0 1 1]\n",
      " [4 2 3 1 0 1 3 4 1 3]\n",
      " [3 2 0 1 0 2 3 3 4 0]\n",
      " [1 2 2 2 2 4 1 1 3 0]\n",
      " [1 0 4 4 4 0 0 0 4 0]\n",
      " [1 2 0 3 1 1 0 1 3 3]\n",
      " [3 4 3 0 1 0 3 4 1 1]\n",
      " [4 2 3 2 0 3 2 1 2 4]\n",
      " [0 3 3 2 4 0 4 3 3 4]]\n",
      "[[[[0 1 2]\n",
      "   [1 2 3]\n",
      "   [2 3 4]]]\n",
      "\n",
      "\n",
      " [[[1 2 3]\n",
      "   [2 3 4]\n",
      "   [3 4 5]]]\n",
      "\n",
      "\n",
      " [[[2 3 4]\n",
      "   [3 4 5]\n",
      "   [4 5 6]]]\n",
      "\n",
      "\n",
      " [[[3 4 5]\n",
      "   [4 5 6]\n",
      "   [5 6 7]]]\n",
      "\n",
      "\n",
      " [[[4 5 6]\n",
      "   [5 6 7]\n",
      "   [6 7 8]]]\n",
      "\n",
      "\n",
      " [[[5 6 7]\n",
      "   [6 7 8]\n",
      "   [7 8 9]]]]\n"
     ]
    }
   ],
   "source": [
    "a = np.random.randint(0,5,(10,10))\n",
    "print(a)\n",
    "i = 1 + (Z.shape[0]-3)\n",
    "j = 1 + (Z.shape[1]-3)\n",
    "C = stride_tricks.as_strided(Z, shape=(i, j, 3, 3), strides=Z.strides + Z.strides)\n",
    "print(C)"
   ]
  },
  {
   "cell_type": "markdown",
   "id": "9fc0b63a",
   "metadata": {},
   "source": [
    "#### 85. Create a 2D array subclass such that Z[i,j] == Z[j,i] (★★★)"
   ]
  },
  {
   "cell_type": "code",
   "execution_count": null,
   "id": "c41d0f9b",
   "metadata": {},
   "outputs": [],
   "source": []
  },
  {
   "cell_type": "markdown",
   "id": "ae909782",
   "metadata": {},
   "source": [
    "#### 86. Consider a set of p matrices wich shape (n,n) and a set of p vectors with shape (n,1). How to compute the sum of of the p matrix products at once? (result has shape (n,1)) (★★★)"
   ]
  },
  {
   "cell_type": "code",
   "execution_count": 185,
   "id": "013944b1",
   "metadata": {},
   "outputs": [
    {
     "name": "stdout",
     "output_type": "stream",
     "text": [
      "[50.] [50.] [50.] [50.] [50.] [50.] [50.] [50.] [50.] [50.]\n"
     ]
    }
   ],
   "source": [
    "p, n = 5, 10\n",
    "a = np.ones((p,n,n))\n",
    "b = np.ones((p,n,1))\n",
    "K = np.tensordot(a, b, axes=[[0, 2], [0, 1]])\n",
    "print(*K)"
   ]
  },
  {
   "cell_type": "markdown",
   "id": "5f134bf4",
   "metadata": {},
   "source": [
    "#### 87. Consider a 16x16 array, how to get the block-sum (block size is 4x4)? (★★★)"
   ]
  },
  {
   "cell_type": "code",
   "execution_count": 187,
   "id": "bf480005",
   "metadata": {},
   "outputs": [
    {
     "name": "stdout",
     "output_type": "stream",
     "text": [
      "[[1. 1. 1. 1. 1. 1. 1. 1. 1. 1. 1. 1. 1. 1. 1. 1.]\n",
      " [1. 0. 0. 0. 1. 0. 0. 0. 1. 0. 0. 0. 1. 0. 0. 0.]\n",
      " [1. 0. 0. 0. 1. 0. 0. 0. 1. 0. 0. 0. 1. 0. 0. 0.]\n",
      " [1. 1. 1. 1. 1. 1. 1. 1. 1. 1. 1. 1. 1. 1. 1. 1.]\n",
      " [1. 1. 1. 1. 1. 1. 1. 1. 1. 1. 1. 1. 1. 1. 1. 1.]\n",
      " [1. 0. 0. 0. 1. 0. 0. 0. 1. 0. 0. 0. 1. 0. 0. 0.]\n",
      " [1. 0. 0. 0. 1. 0. 0. 0. 1. 0. 0. 0. 1. 0. 0. 0.]\n",
      " [1. 1. 1. 1. 1. 1. 1. 1. 1. 1. 1. 1. 1. 1. 1. 1.]\n",
      " [1. 1. 1. 1. 1. 1. 1. 1. 1. 1. 1. 1. 1. 1. 1. 1.]\n",
      " [1. 0. 0. 0. 1. 0. 0. 0. 1. 0. 0. 0. 1. 0. 0. 0.]\n",
      " [1. 0. 0. 0. 1. 0. 0. 0. 1. 0. 0. 0. 1. 0. 0. 0.]\n",
      " [1. 1. 1. 1. 1. 1. 1. 1. 1. 1. 1. 1. 1. 1. 1. 1.]\n",
      " [1. 1. 1. 1. 1. 1. 1. 1. 1. 1. 1. 1. 1. 1. 1. 1.]\n",
      " [1. 0. 0. 0. 1. 0. 0. 0. 1. 0. 0. 0. 1. 0. 0. 0.]\n",
      " [1. 0. 0. 0. 1. 0. 0. 0. 1. 0. 0. 0. 1. 0. 0. 0.]\n",
      " [1. 1. 1. 1. 1. 1. 1. 1. 1. 1. 1. 1. 1. 1. 1. 1.]]\n",
      "[[10. 10. 10. 10.]\n",
      " [10. 10. 10. 10.]\n",
      " [10. 10. 10. 10.]\n",
      " [10. 10. 10. 10.]]\n"
     ]
    }
   ],
   "source": [
    "size_block = 4  # размер блока для разбиения исходной матрицы\n",
    "N = 17  # размер исходной матрицы\n",
    "\n",
    "# создадим матрицу специальным образом, чтобы убедиться в правильности работы нашего решения\n",
    "# матрица будет состоять из блоков с единицами в виде русской буквы С и нулями внутри\n",
    "# таким образом легко проверить начало и окончание блока и расчитать сумму его элементов для самопроверки\n",
    "a = np.ones((4,4))\n",
    "a[1:3,1:] = 0\n",
    "A = np.tile(A=a, reps=(16 // 4,16 // 4))\n",
    "\n",
    "if N % 4 != 0:  # в случае если размер исходной матрицы не делится без остатка на размер блока, заполняем единицами\n",
    "    temp_arr = np.ones((16,16))\n",
    "    temp_arr[:16 - (16 % 4),:16- (16 % 4)]= A\n",
    "    Z = temp_arr\n",
    "\n",
    "print(A)\n",
    "\n",
    "S = np.add.reduceat(np.add.reduceat(Z, np.arange(0, Z.shape[0], size_block), axis=0),\n",
    "                                       np.arange(0, Z.shape[1], size_block), axis=1)\n",
    "print(S)"
   ]
  },
  {
   "cell_type": "markdown",
   "id": "aa91a3be",
   "metadata": {},
   "source": [
    "#### 88. How to implement the Game of Life using numpy arrays? (★★★)"
   ]
  },
  {
   "cell_type": "code",
   "execution_count": 189,
   "id": "a20f0e2b",
   "metadata": {},
   "outputs": [
    {
     "name": "stdout",
     "output_type": "stream",
     "text": [
      "[[0. 0. 0. 0. 0.]\n",
      " [0. 0. 0. 0. 0.]\n",
      " [0. 1. 1. 1. 0.]\n",
      " [0. 0. 0. 0. 0.]\n",
      " [0. 0. 0. 0. 0.]]\n",
      "[[0. 0. 0. 0. 0.]\n",
      " [0. 0. 1. 0. 0.]\n",
      " [0. 0. 1. 0. 0.]\n",
      " [0. 0. 1. 0. 0.]\n",
      " [0. 0. 0. 0. 0.]]\n",
      "[[0. 0. 0. 0. 0.]\n",
      " [0. 0. 0. 0. 0.]\n",
      " [0. 1. 1. 1. 0.]\n",
      " [0. 0. 0. 0. 0.]\n",
      " [0. 0. 0. 0. 0.]]\n"
     ]
    }
   ],
   "source": [
    "def game_life(a):\n",
    "    c = (a[0:-2,0:-2] + a[0:-2,1:-1] + a[0:-2,2:] +a[1:-1,0:-2]+ a[1:-1,2:] +a[2:  ,0:-2] + a[2:  ,1:-1] + a[2:  ,2:])\n",
    "    birth = (c==3) & (a[1:-1,1:-1]==0)\n",
    "    survive = ((c==2) | (c==3)) & (a[1:-1,1:-1]==1)\n",
    "    a[...] = 0\n",
    "    a[1:-1,1:-1][birth | survive] = 1\n",
    "    return a\n",
    "a = np.zeros((5,5))\n",
    "a[2,1:4] = 1  # Blinker\n",
    "print(a)\n",
    "\n",
    "for i in range(1,3):\n",
    "    a = game_life(a)\n",
    "    print(a)"
   ]
  },
  {
   "cell_type": "markdown",
   "id": "885023d9",
   "metadata": {},
   "source": [
    "#### 89. How to get the n largest values of an array (★★★)"
   ]
  },
  {
   "cell_type": "code",
   "execution_count": 192,
   "id": "996ab585",
   "metadata": {},
   "outputs": [
    {
     "name": "stdout",
     "output_type": "stream",
     "text": [
      "[9999 9998 9997 9996 9995]\n"
     ]
    }
   ],
   "source": [
    "a = np.arange(10000)\n",
    "np.random.shuffle(a)\n",
    "# Fast\n",
    "print(a[np.argpartition(-a, 5)[:5]])"
   ]
  },
  {
   "cell_type": "markdown",
   "id": "d0518aeb",
   "metadata": {},
   "source": [
    "#### 90. Given an arbitrary number of vectors, build the cartesian product (every combinations of every item) (★★★)"
   ]
  },
  {
   "cell_type": "code",
   "execution_count": null,
   "id": "d9ae30ca",
   "metadata": {},
   "outputs": [],
   "source": []
  },
  {
   "cell_type": "markdown",
   "id": "20cc5dc6",
   "metadata": {},
   "source": [
    "#### 91. How to create a record array from a regular array? (★★★)"
   ]
  },
  {
   "cell_type": "code",
   "execution_count": 200,
   "id": "a7d05a34",
   "metadata": {},
   "outputs": [
    {
     "name": "stdout",
     "output_type": "stream",
     "text": [
      "[(b'Hello', 2.5, 3) (b'World', 3.6, 2)]\n"
     ]
    }
   ],
   "source": [
    "a = np.array([(\"Hello\", 2.5, 3),(\"World\", 3.6, 2)])\n",
    "b = np.core.records.fromarrays(a.T,names='col1, col2, col3',formats = 'S8, f8, i8') #Создает массив записей из (плоского) списка массивов\n",
    "print(b)"
   ]
  },
  {
   "cell_type": "markdown",
   "id": "e59a2c44",
   "metadata": {},
   "source": [
    "#### 92. Consider a large vector Z, compute Z to the power of 3 using 3 different methods (★★★)"
   ]
  },
  {
   "cell_type": "code",
   "execution_count": 203,
   "id": "916168ea",
   "metadata": {},
   "outputs": [
    {
     "name": "stdout",
     "output_type": "stream",
     "text": [
      "[0.65230231 0.71742944 0.06844738 0.52887126 0.35565862 0.18407181\n",
      " 0.53756017 0.42969957 0.00282389 0.49363587]\n",
      "[2.77553530e-01 3.69264522e-01 3.20678930e-04 1.47927838e-01\n",
      " 4.49883465e-02]\n",
      "[2.77553530e-01 3.69264522e-01 3.20678930e-04 1.47927838e-01\n",
      " 4.49883465e-02]\n",
      "[2.77553530e-01 3.69264522e-01 3.20678930e-04 1.47927838e-01\n",
      " 4.49883465e-02]\n"
     ]
    }
   ],
   "source": [
    "a = np.random.random(10)\n",
    "print(a)\n",
    "print((a*a*a)[:5]) #первый метод\n",
    "print(np.power(a,3)[:5]) #второй метод\n",
    "print(np.einsum('i,i,i->i', a, a, a)[:5]) #третий метод"
   ]
  },
  {
   "cell_type": "markdown",
   "id": "f1fc4b70",
   "metadata": {},
   "source": [
    "#### 93. Consider two arrays A and B of shape (8,3) and (2,2). How to find rows of A that contain elements of each row of B regardless of the order of the elements in B? (★★★)"
   ]
  },
  {
   "cell_type": "code",
   "execution_count": 204,
   "id": "d35b4705",
   "metadata": {},
   "outputs": [
    {
     "name": "stdout",
     "output_type": "stream",
     "text": [
      "[[1 4 1]\n",
      " [4 2 2]\n",
      " [3 2 1]\n",
      " [4 1 1]\n",
      " [2 3 0]\n",
      " [4 0 1]\n",
      " [0 3 1]\n",
      " [0 1 2]]\n",
      "[[3 2]\n",
      " [1 1]]\n",
      "[2 6 7]\n"
     ]
    }
   ],
   "source": [
    "A = np.random.randint(0,5,(8,3))\n",
    "print(A)\n",
    "B = np.random.randint(0,5,(2,2))\n",
    "print(B)\n",
    "C = (A[..., np.newaxis, np.newaxis] == B)\n",
    "i = np.where(C.any((3,1)).all(1))[0]\n",
    "print(i)"
   ]
  },
  {
   "cell_type": "markdown",
   "id": "821a6ce8",
   "metadata": {},
   "source": [
    "#### 94. Considering a 10x3 matrix, extract rows with unequal values (e.g. [2,2,3]) (★★★)"
   ]
  },
  {
   "cell_type": "code",
   "execution_count": 205,
   "id": "5690c131",
   "metadata": {},
   "outputs": [
    {
     "name": "stdout",
     "output_type": "stream",
     "text": [
      "[[2 1 2]\n",
      " [0 2 1]\n",
      " [2 1 0]\n",
      " [1 2 2]\n",
      " [1 0 1]\n",
      " [2 2 0]\n",
      " [2 2 2]\n",
      " [2 0 2]\n",
      " [1 1 0]\n",
      " [1 2 0]]\n",
      "[[2 1 2]\n",
      " [0 2 1]\n",
      " [2 1 0]\n",
      " [1 2 2]\n",
      " [1 0 1]\n",
      " [2 2 0]\n",
      " [2 0 2]\n",
      " [1 1 0]\n",
      " [1 2 0]]\n"
     ]
    }
   ],
   "source": [
    "a = np.random.randint(0,3,(10,3))\n",
    "print(a)\n",
    "b = a[a.max(axis=1) != a.min(axis=1),:]\n",
    "print(b)"
   ]
  },
  {
   "cell_type": "markdown",
   "id": "9dc9a61c",
   "metadata": {},
   "source": [
    "#### 95. Convert a vector of ints into a matrix binary representation (★★★)"
   ]
  },
  {
   "cell_type": "code",
   "execution_count": 206,
   "id": "c728306f",
   "metadata": {},
   "outputs": [
    {
     "name": "stdout",
     "output_type": "stream",
     "text": [
      "[[0 0 0 0 0 0 0 0]\n",
      " [0 0 0 0 0 0 0 1]\n",
      " [0 0 0 0 0 0 1 0]\n",
      " [0 0 0 0 0 0 1 1]\n",
      " [0 0 0 0 1 1 1 1]\n",
      " [0 0 0 1 0 0 0 0]\n",
      " [0 0 1 0 0 0 0 0]\n",
      " [0 1 0 0 0 0 0 0]\n",
      " [1 0 0 0 0 0 0 0]]\n"
     ]
    }
   ],
   "source": [
    "a = np.array([0,1,2,3,15, 16, 32, 64, 128], dtype=np.uint8)\n",
    "print(np.unpackbits(a[:, np.newaxis], axis=1))"
   ]
  },
  {
   "cell_type": "markdown",
   "id": "cca48e6e",
   "metadata": {},
   "source": [
    "#### 96. Given a two dimensional array, how to extract unique rows? (★★★)"
   ]
  },
  {
   "cell_type": "code",
   "execution_count": 207,
   "id": "ae2e6484",
   "metadata": {},
   "outputs": [
    {
     "name": "stdout",
     "output_type": "stream",
     "text": [
      "[[0 0 0]\n",
      " [1 1 0]\n",
      " [1 1 0]\n",
      " [0 0 1]\n",
      " [0 0 0]\n",
      " [1 0 1]\n",
      " [0 0 0]\n",
      " [0 0 0]\n",
      " [1 0 1]\n",
      " [1 1 0]]\n",
      "[[0 0 0]\n",
      " [0 0 1]\n",
      " [1 0 1]\n",
      " [1 1 0]]\n"
     ]
    }
   ],
   "source": [
    "a = np.random.randint(0,2,(10,3))\n",
    "print(a)\n",
    "b = np.ascontiguousarray(a).view(np.dtype((np.void, a.dtype.itemsize * a.shape[1])))\n",
    "_, i = np.unique(b, return_index=True)\n",
    "print(a[i])"
   ]
  },
  {
   "cell_type": "markdown",
   "id": "3621d474",
   "metadata": {},
   "source": [
    "#### 97. Considering 2 vectors A & B, write the einsum equivalent of inner, outer, sum, and mul function (★★★)"
   ]
  },
  {
   "cell_type": "code",
   "execution_count": 213,
   "id": "09238dfb",
   "metadata": {},
   "outputs": [
    {
     "name": "stdout",
     "output_type": "stream",
     "text": [
      "5.440392448922884\n",
      "[0.46199059 0.0196265  0.20260653 0.11943867 0.72658655 0.4629998\n",
      " 0.0012842  0.16429669 0.00228655 0.18079315]\n",
      "2.3419092453317365\n",
      "[[4.61990592e-01 9.69764650e-03 2.79011512e-01 6.32878492e-02\n",
      "  4.67113369e-01 2.76491802e-01 6.12695554e-03 1.30330508e-01\n",
      "  7.00700855e-02 2.22692276e-01]\n",
      " [9.34995871e-01 1.96265024e-02 5.64675161e-01 1.28084595e-01\n",
      "  9.45363562e-01 5.59575666e-01 1.23999887e-02 2.63768329e-01\n",
      "  1.41810768e-01 4.50693936e-01]\n",
      " [3.35478317e-01 7.04202679e-03 2.02606534e-01 4.59569989e-02\n",
      "  3.39198264e-01 2.00776825e-01 4.44913981e-03 9.46405838e-02\n",
      "  5.08819763e-02 1.61709851e-01]\n",
      " [8.71882119e-01 1.83016813e-02 5.26558663e-01 1.19438675e-01\n",
      "  8.81549973e-01 5.21803393e-01 1.15629692e-02 2.45963535e-01\n",
      "  1.32238309e-01 4.20271358e-01]\n",
      " [7.18618166e-01 1.50845170e-02 4.33997455e-01 9.84431262e-02\n",
      "  7.26586555e-01 4.30078091e-01 9.53037060e-03 2.02726791e-01\n",
      "  1.08992774e-01 3.46393882e-01]\n",
      " [7.73627095e-01 1.62392097e-02 4.67219180e-01 1.05978771e-01\n",
      "  7.82205450e-01 4.62999796e-01 1.02599033e-02 2.18245163e-01\n",
      "  1.17335975e-01 3.72909712e-01]\n",
      " [9.68323192e-02 2.03260763e-03 5.84802641e-02 1.32650087e-02\n",
      "  9.79060433e-02 5.79521378e-02 1.28419783e-03 2.73170180e-02\n",
      "  1.46865521e-02 4.66758629e-02]\n",
      " [5.82392621e-01 1.22250060e-02 3.51726309e-01 7.97816601e-02\n",
      "  5.88850475e-01 3.48549923e-01 7.72373672e-03 1.64296692e-01\n",
      "  8.83314541e-02 2.80729392e-01]\n",
      " [1.50758253e-02 3.16456714e-04 9.10479323e-03 2.06522941e-03\n",
      "  1.52429934e-02 9.02256924e-03 1.99936780e-04 4.25298696e-03\n",
      "  2.28654952e-03 7.26696583e-03]\n",
      " [3.75067952e-01 7.87305300e-03 2.26516034e-01 5.13803623e-02\n",
      "  3.79226889e-01 2.24470402e-01 4.97418066e-03 1.05809074e-01\n",
      "  5.68865339e-02 1.80793153e-01]]\n"
     ]
    }
   ],
   "source": [
    "A = np.random.uniform(0,1,10)\n",
    "B = np.random.uniform(0,1,10)\n",
    "print(np.einsum('i->', A))\n",
    "print(np.einsum('i,i->i', A, B))# A * B\n",
    "print(np.einsum('i,i', A, B))#inner(A, B)\n",
    "print(np.einsum('i,j->ij', A, B))#outer(A, B)"
   ]
  },
  {
   "cell_type": "markdown",
   "id": "26162fae",
   "metadata": {},
   "source": [
    "#### 98. Considering a path described by two vectors (X,Y), how to sample it using equidistant samples (★★★)?"
   ]
  },
  {
   "cell_type": "code",
   "execution_count": null,
   "id": "283c279f",
   "metadata": {},
   "outputs": [],
   "source": []
  },
  {
   "cell_type": "markdown",
   "id": "44b20c57",
   "metadata": {},
   "source": [
    "#### 99. Given an integer n and a 2D array X, select from X the rows which can be interpreted as draws from a multinomial distribution with n degrees, i.e., the rows which only contain integers and which sum to n. (★★★)"
   ]
  },
  {
   "cell_type": "code",
   "execution_count": null,
   "id": "389b7190",
   "metadata": {},
   "outputs": [],
   "source": []
  },
  {
   "cell_type": "markdown",
   "id": "6fa5ed76",
   "metadata": {},
   "source": [
    "#### 100. Compute bootstrapped 95% confidence intervals for the mean of a 1D array X (i.e., resample the elements of an array with replacement N times, compute the mean of each sample, and then compute percentiles over the means). (★★★)"
   ]
  },
  {
   "cell_type": "code",
   "execution_count": null,
   "id": "4db4cc57",
   "metadata": {},
   "outputs": [],
   "source": []
  }
 ],
 "metadata": {
  "kernelspec": {
   "display_name": "Python 3 (ipykernel)",
   "language": "python",
   "name": "python3"
  },
  "language_info": {
   "codemirror_mode": {
    "name": "ipython",
    "version": 3
   },
   "file_extension": ".py",
   "mimetype": "text/x-python",
   "name": "python",
   "nbconvert_exporter": "python",
   "pygments_lexer": "ipython3",
   "version": "3.9.12"
  }
 },
 "nbformat": 4,
 "nbformat_minor": 5
}
