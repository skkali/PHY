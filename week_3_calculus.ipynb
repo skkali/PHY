{
 "cells": [
  {
   "cell_type": "markdown",
   "metadata": {},
   "source": [
    "Before you turn this problem in, make sure everything runs as expected. First, **restart the kernel** (in the menubar, select Kernel$\\rightarrow$Restart) and then **run all cells** (in the menubar, select Cell$\\rightarrow$Run All).\n",
    "\n",
    "Make sure you fill in any place that says `YOUR CODE HERE` or \"YOUR ANSWER HERE\", as well as your github nickname below:"
   ]
  },
  {
   "cell_type": "code",
   "execution_count": 1,
   "metadata": {},
   "outputs": [],
   "source": [
    "NICKNAME = \"skkali\""
   ]
  },
  {
   "cell_type": "markdown",
   "metadata": {},
   "source": [
    "---"
   ]
  },
  {
   "cell_type": "markdown",
   "metadata": {
    "deletable": false,
    "editable": false,
    "nbgrader": {
     "cell_type": "markdown",
     "checksum": "7dccf623e8155edecb3e6e5e47a9ef81",
     "grade": false,
     "grade_id": "cell-a2abfc4a6208ed23",
     "locked": true,
     "schema_version": 3,
     "solution": false,
     "task": false
    }
   },
   "source": [
    "# Часть I. Односторонние разностные схемы"
   ]
  },
  {
   "cell_type": "markdown",
   "metadata": {
    "deletable": false,
    "editable": false,
    "nbgrader": {
     "cell_type": "markdown",
     "checksum": "f4b04751eb6e40db195beea9124423d3",
     "grade": false,
     "grade_id": "cell-58ce0b90477554a8",
     "locked": true,
     "schema_version": 3,
     "solution": false,
     "task": false
    }
   },
   "source": [
    "Напишите функцию `deriv`, которая вычисляет производную функции в заданной точке $x$, используя одностороннюю разностную схему с заданным шагом $h$ и степенью аппроксимации $O(h^2)$."
   ]
  },
  {
   "cell_type": "code",
   "execution_count": 2,
   "metadata": {
    "ExecuteTime": {
     "end_time": "2022-11-02T10:55:29.675531Z",
     "start_time": "2022-11-02T10:55:29.667604Z"
    },
    "deletable": false,
    "nbgrader": {
     "cell_type": "code",
     "checksum": "8f8e897d3fbbb433ce8cda547894e344",
     "grade": false,
     "grade_id": "cell-247122d69a9fc913",
     "locked": false,
     "schema_version": 3,
     "solution": true,
     "task": false
    }
   },
   "outputs": [],
   "source": [
    "import numpy as np\n",
    "import matplotlib.pyplot as plt\n",
    "plt.rcParams.update({'font.size': 12})\n",
    "\n",
    "def deriv(f, x, h):\n",
    "    function = f(x)\n",
    "    f1 = f(x + h)\n",
    "    f2 = f(x + 2 * h)\n",
    "    fder = (-3*function+4*f1-f2)/(2*h)\n",
    "    return fder"
   ]
  },
  {
   "cell_type": "markdown",
   "metadata": {
    "deletable": false,
    "editable": false,
    "nbgrader": {
     "cell_type": "markdown",
     "checksum": "44271195412c6453928a38465a99d370",
     "grade": false,
     "grade_id": "cell-d0404f738b4b1ddf",
     "locked": true,
     "schema_version": 3,
     "solution": false,
     "task": false
    }
   },
   "source": [
    "#### Тест I.1\n",
    "\n",
    "Проверьте ваш алгоритм на простом примере: продифференцируйте $f(x) = x^3$ в точке $x=0$. Прокомментируйте, совпадает ли результат с ожидаемым $f'(x) = 0$ при стремлении $h\\to 0$."
   ]
  },
  {
   "cell_type": "code",
   "execution_count": 3,
   "metadata": {
    "ExecuteTime": {
     "end_time": "2022-11-02T10:55:32.649499Z",
     "start_time": "2022-11-02T10:55:32.641768Z"
    },
    "deletable": false,
    "editable": false,
    "nbgrader": {
     "cell_type": "code",
     "checksum": "b5da519e3e5c32aa43d9708173fff822",
     "grade": true,
     "grade_id": "cell-de34dd9a8de8f123",
     "locked": true,
     "points": 1,
     "schema_version": 3,
     "solution": false,
     "task": false
    }
   },
   "outputs": [
    {
     "name": "stdout",
     "output_type": "stream",
     "text": [
      "0.010000 -- -0.0002\n",
      "0.001000 --  -2e-06\n",
      "0.000100 --  -2e-08\n",
      "0.000010 --  -2e-10\n"
     ]
    }
   ],
   "source": [
    "x = 0\n",
    "for h in [1e-2, 1e-3, 1e-4, 1e-5]:\n",
    "    err = deriv(lambda x: x**3, x, h)\n",
    "    print(\"%5f -- %7.4g\" % (h, err))\n"
   ]
  },
  {
   "cell_type": "markdown",
   "metadata": {
    "deletable": false,
    "nbgrader": {
     "cell_type": "markdown",
     "checksum": "189794ac6c44e4e7bb19e43f0745afcd",
     "grade": true,
     "grade_id": "cell-27237ba3cda86241",
     "locked": false,
     "points": 1,
     "schema_version": 3,
     "solution": true,
     "task": false
    }
   },
   "source": [
    "Заметим, что как и ожидалось $\\epsilon$ ~h^2\n"
   ]
  },
  {
   "cell_type": "markdown",
   "metadata": {
    "deletable": false,
    "editable": false,
    "nbgrader": {
     "cell_type": "markdown",
     "checksum": "d9f79b9c6aa3bdb451f947f25ae736e8",
     "grade": false,
     "grade_id": "cell-27d5fa90ce50a65f",
     "locked": true,
     "schema_version": 3,
     "solution": false,
     "task": false
    }
   },
   "source": [
    "### Тест I.2\n",
    "\n",
    "Теперь попробуйте немного более сложную функцию $f(x) = x^2 \\log{x}$. Оцените значение производной в точке $x=1$, используя *двухточечную* и *трехточечную* схемы. Для обеих схем оцените значение $h$, при котором ошибка перестанет падать."
   ]
  },
  {
   "cell_type": "code",
   "execution_count": 4,
   "metadata": {
    "ExecuteTime": {
     "end_time": "2022-11-02T10:57:07.885511Z",
     "start_time": "2022-11-02T10:57:07.879734Z"
    },
    "deletable": false,
    "editable": false,
    "nbgrader": {
     "cell_type": "code",
     "checksum": "f72dc80bffc29ddb9f03329fb940e482",
     "grade": false,
     "grade_id": "cell-388936373111aa39",
     "locked": true,
     "schema_version": 3,
     "solution": false,
     "task": false
    }
   },
   "outputs": [],
   "source": [
    "from math import log\n",
    "\n",
    "def f(x):\n",
    "    return x**2 * log(x)\n",
    "    \n",
    "def fder(x):\n",
    "    return x * (2.*log(x) + 1)"
   ]
  },
  {
   "cell_type": "code",
   "execution_count": 5,
   "metadata": {
    "deletable": false,
    "nbgrader": {
     "cell_type": "code",
     "checksum": "a8ff82fa8e3fab8a2619bdda40855b90",
     "grade": true,
     "grade_id": "cell-89d470f23af144b9",
     "locked": false,
     "points": 2,
     "schema_version": 3,
     "solution": true,
     "task": false
    }
   },
   "outputs": [
    {
     "data": {
      "image/png": "[encoded data removed]",
      "text/plain": [
       "<Figure size 720x432 with 1 Axes>"
      ]
     },
     "metadata": {
      "needs_background": "light"
     },
     "output_type": "display_data"
    },
    {
     "name": "stdout",
     "output_type": "stream",
     "text": [
      "ошибки  вычислений\n",
      "  двухточечная  |   трехточечная \n",
      "1e-01 -- 1.53e-01 | 1e-01 -- -6.21e-03\n",
      "1e-02 -- 1.50e-02 | 1e-02 -- -6.62e-05\n",
      "1e-03 -- 1.50e-03 | 1e-03 -- -6.66e-07\n",
      "1e-04 -- 1.50e-04 | 1e-04 -- -6.67e-09\n",
      "1e-05 -- 1.50e-05 | 1e-05 -- -4.90e-11\n",
      "1e-06 -- 1.50e-06 | 1e-06 -- -1.94e-10\n",
      "1e-07 -- 1.51e-07 | 1e-07 -- 1.69e-09\n",
      "1e-08 -- 8.92e-09 | 1e-08 -- -1.72e-08\n",
      "1.0000000089225287\n",
      "0.9999999998060443\n"
     ]
    }
   ],
   "source": [
    "def der_two(x, h):\n",
    "    chis = f(x + h) - f(x)\n",
    "    fder = chis/ h\n",
    "    return fder\n",
    "\n",
    "\n",
    "def der_three(x, h):\n",
    "    a = np.array([[1, 1, 1], [0, 1, 2], [0, 1, 4]])\n",
    "    b = np.array([0, 1, 0])\n",
    "    c = np.linalg.solve(a, b)\n",
    "    chis= c[0] * f(x) + c[1] * f(x + h) + c[2] * f(x + 2 * h)\n",
    "    fder = chis/ h\n",
    "    return fder\n",
    "\n",
    "h_arr = np.logspace(-13, 0, num=100)\n",
    "\n",
    "df_forward_arr = np.array([])\n",
    "df_central_arr = np.array([])\n",
    "x=1\n",
    "for h in h_arr:\n",
    "    df_forward_arr = np.append(df_forward_arr, np.abs(der_two(x, h)-fder(x)))\n",
    "    df_central_arr = np.append(df_central_arr, np.abs(der_three(x, h)-fder(x)))\n",
    "index_1 = h_arr > 1e-6\n",
    "index_2 = h_arr > 1e-4\n",
    "\n",
    "p_forward = np.polyfit(\n",
    "    np.log10(h_arr[index_1]), np.log10(df_forward_arr[index_1]), 1)\n",
    "p_central = np.polyfit(\n",
    "    np.log10(h_arr[index_2]), np.log10(df_central_arr[index_2]), 1)\n",
    "\n",
    "plt.figure(figsize=(10, 6))\n",
    "plt.loglog(h_arr, df_forward_arr, 'b-',label='двухточечная, a={}'.format(p_forward[0]))\n",
    "plt.loglog(h_arr, df_central_arr, 'r-',label='трехточечная, a={}'.format(p_central[0]))\n",
    "plt.xlabel('h')\n",
    "plt.ylabel('|Df-f\\'|')\n",
    "plt.legend()\n",
    "plt.show()\n",
    "\n",
    "print('ошибки  вычислений')\n",
    "print('двухточечная'.center(15, ' '), 'трехточечная'.center(15, ' '), sep=' | ')\n",
    "for h in [1e-1, 1e-2, 1e-3, 1e-4, 1e-5, 1e-6, 1e-7, 1e-8]:\n",
    "    derivtwostep = der_two(x, h)\n",
    "    derivthreestep = der_three(x, h)\n",
    "    \n",
    "    print(\"%.e -- %.2e\" % (h, derivtwostep - fder(1)), \"%.e -- %.2e\" % (h, derivthreestep - fder(1)), sep=' | ')\n",
    "print(der_two( x, 10**(-8)))\n",
    "\n",
    "print(der_three(x, 10**(-6)))"
   ]
  },
  {
   "cell_type": "markdown",
   "metadata": {
    "deletable": false,
    "editable": false,
    "nbgrader": {
     "cell_type": "markdown",
     "checksum": "f2f6f5a9c6fbe8c1575bd41eede5ce49",
     "grade": false,
     "grade_id": "cell-c80bff08a3ce816e",
     "locked": true,
     "schema_version": 3,
     "solution": false,
     "task": false
    }
   },
   "source": [
    "### Тест I.3 \n",
    "\n",
    "Теперь продифференцируйте $x^2 \\log(x)$ в $x=0$. Используйте трехточечную схему. Заметьте, что в нуле функцию нужно доопределить явным образом. Постройте зависимость ошибки от величины шага $h$. Объясните полученные результаты.\n",
    "\n"
   ]
  },
  {
   "cell_type": "code",
   "execution_count": 6,
   "metadata": {
    "ExecuteTime": {
     "end_time": "2022-11-02T10:57:47.265611Z",
     "start_time": "2022-11-02T10:57:47.257158Z"
    },
    "deletable": false,
    "editable": false,
    "nbgrader": {
     "cell_type": "code",
     "checksum": "e82e3a057716ab938190321fa252c45a",
     "grade": false,
     "grade_id": "cell-0f7900a58bda55ca",
     "locked": true,
     "schema_version": 3,
     "solution": false,
     "task": false
    }
   },
   "outputs": [
    {
     "name": "stdout",
     "output_type": "stream",
     "text": [
      "0.010000 -- -0.01386\n",
      "0.001000 -- -0.001386\n",
      "0.000100 -- -0.0001386\n",
      "0.000010 -- -1.386e-05\n"
     ]
    }
   ],
   "source": [
    "def f(x):\n",
    "    if x == 0:\n",
    "        # предел $x^2 log(x)$ при $x-> 0$ равен нулю, хотя log(x) не определен в x=0\n",
    "        return 0.0\n",
    "    else:\n",
    "        return x**2 * log(x)\n",
    "    \n",
    "def fder(x):\n",
    "    if x == 0:\n",
    "        return 0.0\n",
    "    else:\n",
    "        return x*(2*log(x) + 1)\n",
    "\n",
    "x = 0\n",
    "for h in [1e-2, 1e-3, 1e-4, 1e-5]:\n",
    "    err = deriv(f, x, h) - fder(x)\n",
    "    print(\"%5f -- %7.4g\" % (h, err))"
   ]
  },
  {
   "cell_type": "code",
   "execution_count": 7,
   "metadata": {
    "deletable": false,
    "nbgrader": {
     "cell_type": "code",
     "checksum": "e0af096a966239a9aa97e4504456d76a",
     "grade": true,
     "grade_id": "cell-798170312e193040",
     "locked": false,
     "points": 2,
     "schema_version": 3,
     "solution": true,
     "task": false
    }
   },
   "outputs": [
    {
     "data": {
      "image/png": "[encoded data removed]",
      "text/plain": [
       "<Figure size 720x432 with 1 Axes>"
      ]
     },
     "metadata": {
      "needs_background": "light"
     },
     "output_type": "display_data"
    },
    {
     "name": "stdout",
     "output_type": "stream",
     "text": [
      "Наклон = 1.3862943611198908\n"
     ]
    }
   ],
   "source": [
    "# YOUR CODE HERE\n",
    "x1=0\n",
    "x2=1\n",
    "h_arr = np.logspace(-13, 0, num=100)\n",
    "\n",
    "df_forward_arr = np.array([])\n",
    "df_central_arr = np.array([])\n",
    "\n",
    "for h in h_arr:\n",
    "    df_forward_arr = np.append(df_forward_arr, np.abs(deriv(f, x1, h)-fder(x1)))\n",
    "    df_central_arr = np.append(df_central_arr, np.abs(deriv(f, x2, h)-fder(x2)))\n",
    "\n",
    "index_1 = h_arr > 1e-6\n",
    "index_2 = h_arr > 1e-4\n",
    "\n",
    "p_forward = np.polyfit(\n",
    "    np.log10(h_arr[index_1]), np.log10(df_forward_arr[index_1]), 1)\n",
    "p_central = np.polyfit(\n",
    "    np.log10(h_arr[index_2]), np.log10(df_central_arr[index_2]), 1)\n",
    "\n",
    "plt.figure(figsize=(10, 6))\n",
    "plt.loglog(h_arr, df_central_arr, 'r-',label='при x=1, a={}'.format(p_central[0]))\n",
    "plt.loglog(h_arr, df_forward_arr, 'b-',label='при x=0, a={}'.format(p_forward[0]))\n",
    "plt.xlabel('h')\n",
    "plt.ylabel('|Df-f\\'|')\n",
    "plt.legend()\n",
    "plt.show()\n",
    "\n",
    "print(\"Наклон =\", (df_forward_arr[-1] - df_forward_arr[0]) / (h_arr[-1] - h_arr[0]))\n"
   ]
  },
  {
   "cell_type": "markdown",
   "metadata": {
    "deletable": false,
    "nbgrader": {
     "cell_type": "markdown",
     "checksum": "f2b7f686b02f60f8085d92e24ffcfa12",
     "grade": true,
     "grade_id": "cell-0d44d43244d82696",
     "locked": false,
     "points": 1,
     "schema_version": 3,
     "solution": true,
     "task": false
    }
   },
   "source": [
    "$\\epsilon$ =(-3f(0)+4f(h)-f(2h))/2h => $\\epsilon$ =2hln(2), причем 2ln(2)≈1.38629"
   ]
  },
  {
   "cell_type": "markdown",
   "metadata": {
    "deletable": false,
    "editable": false,
    "heading_collapsed": true,
    "nbgrader": {
     "cell_type": "markdown",
     "checksum": "a687bf3673f080f4194ad42a5a6bcc4a",
     "grade": false,
     "grade_id": "cell-ea586deba7686923",
     "locked": true,
     "schema_version": 3,
     "solution": false,
     "task": false
    }
   },
   "source": [
    "# Часть II. Midpoint rule"
   ]
  },
  {
   "cell_type": "markdown",
   "metadata": {
    "deletable": false,
    "editable": false,
    "hidden": true,
    "nbgrader": {
     "cell_type": "markdown",
     "checksum": "b5ce6a65d088a79873fab62d062391de",
     "grade": false,
     "grade_id": "cell-823e204de1d177cf",
     "locked": true,
     "schema_version": 3,
     "solution": false,
     "task": false
    }
   },
   "source": [
    "Напишите функцию, вычисляющую определенный интеграл, используя midpoint rule, с точностью до заданной погрешности $\\epsilon$. Оценивайте ошибку, сравнивая значения интеграла для $N$ и $2N$ элементарных интервалов."
   ]
  },
  {
   "cell_type": "code",
   "execution_count": 8,
   "metadata": {
    "ExecuteTime": {
     "end_time": "2022-11-02T11:02:46.147855Z",
     "start_time": "2022-11-02T11:02:46.137812Z"
    },
    "deletable": false,
    "hidden": true,
    "nbgrader": {
     "cell_type": "code",
     "checksum": "8e9900aa077ba755b56bed4b333b5e17",
     "grade": false,
     "grade_id": "cell-6d8e2a4d5161892f",
     "locked": false,
     "schema_version": 3,
     "solution": true,
     "task": false
    }
   },
   "outputs": [],
   "source": [
    "import numpy as np\n",
    "import matplotlib.pyplot as plt\n",
    "plt.rcParams.update({'font.size': 12})\n",
    "\n",
    "def midpoint_rule(func, a, b, eps):\n",
    "    n = 1\n",
    "    I_n = func((a + b) / 2) * (b - a)\n",
    "    I_2n = (func((a + (a + b) / 2) / 2) + func(((a + b) / 2 + b) / 2)) * (b - a) / 2\n",
    "    while abs(I_2n - I_n) >= eps:\n",
    "        n += 1\n",
    "        h = (b - a) / n\n",
    "        i = np.arange(1, n + 1)\n",
    "        I_n = (func(a + (i - 0.5) * h) * h).sum()\n",
    "        \n",
    "        h = (b - a) / (2 * n)\n",
    "        i = np.arange(1, 2 * n + 1)\n",
    "        I_2n = (func(a + (i - 0.5) * h) * h).sum()\n",
    "\n",
    "    integral = I_n \n",
    "    return integral, n"
   ]
  },
  {
   "cell_type": "markdown",
   "metadata": {
    "deletable": false,
    "editable": false,
    "heading_collapsed": true,
    "hidden": true,
    "nbgrader": {
     "cell_type": "markdown",
     "checksum": "17de61ef22af343aa2e851b308606719",
     "grade": false,
     "grade_id": "cell-a4a6f9fe49230343",
     "locked": true,
     "schema_version": 3,
     "solution": false,
     "task": false
    }
   },
   "source": [
    "### Тест II.1\n",
    "\n",
    "Протестирутйте ваш алгоритм на простом интеграле, который вы можете посчитать аналитически.\n",
    "\n",
    "Сравните скорость сходимости с ожидаемой $O(N^{-2})$ в зависимости от количества интервалов, необходимых для заданной точности $\\epsilon$.\n",
    "\n",
    "Сравните полученный результат с ответом, вычисленным \"руками\". Попадает ли результат в интервал заданной ошибки?\n",
    "\n",
    "(20% итоговой оценки)\n"
   ]
  },
  {
   "cell_type": "code",
   "execution_count": 9,
   "metadata": {
    "deletable": false,
    "hidden": true,
    "nbgrader": {
     "cell_type": "code",
     "checksum": "bf314859ec5cf867c3ca556b9f25ffae",
     "grade": true,
     "grade_id": "cell-8f4a8b01438b2182",
     "locked": false,
     "points": 1,
     "schema_version": 3,
     "solution": true,
     "task": false
    }
   },
   "outputs": [
    {
     "name": "stdout",
     "output_type": "stream",
     "text": [
      "значение интеграла 48.38733918804202\n"
     ]
    },
    {
     "data": {
      "image/png": "[encoded data removed]",
      "text/plain": [
       "<Figure size 432x288 with 1 Axes>"
      ]
     },
     "metadata": {
      "needs_background": "light"
     },
     "output_type": "display_data"
    }
   ],
   "source": [
    "f = lambda x: x**4\n",
    "a, b = 1, 3\n",
    "intg, n = midpoint_rule(f, a, b, eps=10**(-2))\n",
    "print(\"значение интеграла\",intg)\n",
    "\n",
    "eps = [0.01 / 2**(i) for i in range(10)]\n",
    "N = [midpoint_rule(f, a, b, eps=0.01 / 2**(i))[1] for i in range(10)]\n",
    "plt.plot(eps, N)\n",
    "plt.xlabel(\"eps\")\n",
    "plt.ylabel(\"N\")\n",
    "plt.grid(True)\n"
   ]
  },
  {
   "cell_type": "markdown",
   "metadata": {
    "deletable": false,
    "hidden": true,
    "nbgrader": {
     "cell_type": "markdown",
     "checksum": "eee35c4d10503420186cc419a28a1554",
     "grade": true,
     "grade_id": "cell-d474c41a6a7cbc6c",
     "locked": false,
     "points": 2,
     "schema_version": 3,
     "solution": true,
     "task": false
    }
   },
   "source": [
    "Выислим интеграл \"ручками\" $$\\int_1^3\\! x^4\\, dx = 48,4$$\n",
    "Отличие результатов $10^{-2}$. Результат попадает в интервал заданной ошибки.\n",
    "Из графика действительно, как и ожидалось, видно - скорость сходимости $1/ N^2$\n"
   ]
  },
  {
   "cell_type": "markdown",
   "metadata": {
    "deletable": false,
    "editable": false,
    "heading_collapsed": true,
    "hidden": true,
    "nbgrader": {
     "cell_type": "markdown",
     "checksum": "e60cc76994d195207c26398c5fd3483e",
     "grade": false,
     "grade_id": "cell-9b204a1b206b1efd",
     "locked": true,
     "schema_version": 3,
     "solution": false,
     "task": false
    }
   },
   "source": [
    "## Тест II.2\n",
    "\n",
    "Используя ваш алгоритм, посчитайте значение\n",
    "\n",
    "$$\n",
    "\\int_0^1\\! \\frac{\\sin{\\sqrt{x}}}{x}\\, dx\n",
    "$$\n",
    "\n",
    "с точностью до $\\epsilon=10^{-4}$.\n",
    "\n",
    "Заметим, что интеграл содержит интегрируемую особенность в нижнем пределе. Выполните вычисление двумя способами: во первых, посчитайте интеграл \"в лоб\", во вторых, вычтите особенность из подынтегрального выражения. Сравните количество необходимых итераций для достижения заданной точности $\\epsilon$.\n",
    "\n",
    "(30% итоговой оценки)"
   ]
  },
  {
   "cell_type": "code",
   "execution_count": null,
   "metadata": {
    "deletable": false,
    "hidden": true,
    "nbgrader": {
     "cell_type": "code",
     "checksum": "3cb0868511fde49b86758808cd93aca8",
     "grade": true,
     "grade_id": "cell-46b736cfbfd4d657",
     "locked": false,
     "points": 2,
     "schema_version": 3,
     "solution": true,
     "task": false
    }
   },
   "outputs": [],
   "source": [
    "# YOUR CODE HERE\n",
    "def func(x): return 2 * np.sin(x) / x\n",
    "print('I =', midpoint_rule(func, 0, 1, 10**(-4))[0], 'N =', midpoint_rule(func, 0, 1, 10**(-4))[1] )\n",
    "\n",
    "def func1(x): return 2 + np.sin(np.sqrt(x)) / x - 1 / np.sqrt(x)\n",
    "print('I =', midpoint_rule(func1, 0, 1, 10**(-4))[0], 'N =', midpoint_rule(func1, 0, 1, 10**(-4))[1] )\n"
   ]
  },
  {
   "cell_type": "markdown",
   "metadata": {
    "deletable": false,
    "editable": false,
    "heading_collapsed": true,
    "nbgrader": {
     "cell_type": "markdown",
     "checksum": "14cba3aba3d21fdb0ebe23c386e6af64",
     "grade": false,
     "grade_id": "cell-a84348af6d660154",
     "locked": true,
     "schema_version": 3,
     "solution": false,
     "task": false
    }
   },
   "source": [
    "# Часть  III \n",
    "\n",
    "\n",
    "Вычислите определённый интеграл **методом трапеций**  с вычитанием сингулярности\n",
    "\n",
    "$$\n",
    "I = \\int_{0}^{1}\\frac{e^x}{\\sqrt{x(1-x)}}dx.\n",
    "$$\n",
    "\n",
    "Преобразуйте данный интеграл, вычитая сингулярности. Выпишите расчетные формулы.\n",
    "\n",
    "Вам могут пригодиться значения следующих определенных интегралов:\n",
    "\n",
    "$$\n",
    "\\int_0^1 \\frac{1}{\\sqrt{x (1-x)}} \\, dx=\\pi,\\quad \\int_0^1 \\frac{x}{\\sqrt{x (1-x)}} \\, dx=\\pi/2.\n",
    "$$"
   ]
  },
  {
   "cell_type": "markdown",
   "metadata": {
    "deletable": false,
    "hidden": true,
    "nbgrader": {
     "cell_type": "markdown",
     "checksum": "62f97fdccd2f25cb7fabca5153f7abb9",
     "grade": true,
     "grade_id": "cell-d23d794b6897dcd5",
     "locked": false,
     "points": 1,
     "schema_version": 3,
     "solution": true,
     "task": false
    }
   },
   "source": [
    "Рассмотрим подинтегральную функцию:\n",
    "Имеет две точки сингулярности 0 и 1 ⇒ чтобы избежать проблем в этих точках, воспользуемся дополнительными интегралами. Для этого соберем линейную комбинацию из известных.\n",
    "Получим комбинацию с коэффициентами, которые решаются системой. Тогда зная коэффициенты и полную линейную комбинацию, выражаем нужный интеграл.\n",
    "Стоит отметить, что пределы в точках сингулярности можно записать как пределы к особым точкам полученного разложения."
   ]
  },
  {
   "cell_type": "markdown",
   "metadata": {
    "deletable": false,
    "editable": false,
    "hidden": true,
    "nbgrader": {
     "cell_type": "markdown",
     "checksum": "f17a79f5ce21cdf8a9ace16b7151ed3b",
     "grade": false,
     "grade_id": "cell-4bef248a3d85e2ea",
     "locked": true,
     "schema_version": 3,
     "solution": false,
     "task": false
    }
   },
   "source": [
    "Cоставьте функцию, возвращающую значение интеграла методом трапеций."
   ]
  },
  {
   "cell_type": "code",
   "execution_count": 30,
   "metadata": {
    "ExecuteTime": {
     "end_time": "2022-11-02T11:08:47.860563Z",
     "start_time": "2022-11-02T11:08:47.853918Z"
    },
    "deletable": false,
    "hidden": true,
    "nbgrader": {
     "cell_type": "code",
     "checksum": "d1fe63b13f057c05c47ff3528738b822",
     "grade": false,
     "grade_id": "cell-76e4d86116937fef",
     "locked": false,
     "schema_version": 3,
     "solution": true,
     "task": false
    }
   },
   "outputs": [],
   "source": [
    "from math import sqrt, pi, e\n",
    "def integ(npts=10):\n",
    "    def f(x):\n",
    "        if x == 0 or x == 1:\n",
    "            return 0\n",
    "        return  (e ** x - 1 + (1 - e) * x) / sqrt(x * (1 - x))\n",
    "\n",
    "    n = npts - 1\n",
    "    h = (1 - 0) / n\n",
    "    n2_I= sum([f(i * h) for i in range(1, n)])\n",
    "    n1_I = h * ((f(0) + f(1)) / 2 + n2_I)\n",
    "\n",
    "    return n1_I + pi * (1 + e) / 2"
   ]
  },
  {
   "cell_type": "code",
   "execution_count": 28,
   "metadata": {
    "ExecuteTime": {
     "end_time": "2022-11-02T11:08:48.915905Z",
     "start_time": "2022-11-02T11:08:48.584524Z"
    },
    "deletable": false,
    "editable": false,
    "hidden": true,
    "nbgrader": {
     "cell_type": "code",
     "checksum": "b566a313d9c2b4995fa7ccb48afb3335",
     "grade": true,
     "grade_id": "cell-525ab3ba781ed560",
     "locked": true,
     "points": 3,
     "schema_version": 3,
     "solution": false,
     "task": false
    }
   },
   "outputs": [],
   "source": [
    "# this is a test to check your computed value\n",
    "from numpy.testing import assert_allclose\n"
   ]
  },
  {
   "cell_type": "code",
   "execution_count": null,
   "metadata": {},
   "outputs": [],
   "source": []
  },
  {
   "cell_type": "code",
   "execution_count": null,
   "metadata": {},
   "outputs": [],
   "source": []
  },
  {
   "cell_type": "code",
   "execution_count": null,
   "metadata": {},
   "outputs": [],
   "source": []
  },
  {
   "cell_type": "code",
   "execution_count": null,
   "metadata": {},
   "outputs": [],
   "source": []
  },
  {
   "cell_type": "code",
   "execution_count": null,
   "metadata": {},
   "outputs": [],
   "source": []
  },
  {
   "cell_type": "code",
   "execution_count": null,
   "metadata": {},
   "outputs": [],
   "source": []
  }
 ],
 "metadata": {
  "kernelspec": {
   "display_name": "Python 3 (ipykernel)",
   "language": "python",
   "name": "python3"
  },
  "language_info": {
   "codemirror_mode": {
    "name": "ipython",
    "version": 3
   },
   "file_extension": ".py",
   "mimetype": "text/x-python",
   "name": "python",
   "nbconvert_exporter": "python",
   "pygments_lexer": "ipython3",
   "version": "3.9.12"
  },
  "latex_envs": {
   "LaTeX_envs_menu_present": true,
   "autoclose": true,
   "autocomplete": false,
   "bibliofile": "biblio.bib",
   "cite_by": "apalike",
   "current_citInitial": 1,
   "eqLabelWithNumbers": true,
   "eqNumInitial": 1,
   "hotkeys": {
    "equation": "Ctrl-E",
    "itemize": "Ctrl-I"
   },
   "labels_anchors": false,
   "latex_user_defs": false,
   "report_style_numbering": false,
   "user_envs_cfg": false
  },
  "toc": {
   "base_numbering": 1,
   "nav_menu": {},
   "number_sections": true,
   "sideBar": true,
   "skip_h1_title": false,
   "title_cell": "Table of Contents",
   "title_sidebar": "Contents",
   "toc_cell": false,
   "toc_position": {},
   "toc_section_display": true,
   "toc_window_display": false
  }
 },
 "nbformat": 4,
 "nbformat_minor": 2
}
